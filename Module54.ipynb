{
 "cells": [
  {
   "cell_type": "markdown",
   "id": "a4f2898d-96e5-4f49-9ff4-0d3a57bcebe7",
   "metadata": {},
   "source": [
    "## Q1. Missing Values in a Dataset\n",
    "*Missing values* are data points where no data value is stored for a variable in an observation. They can occur due to various reasons like data corruption, data entry errors, or the unavailability of information.\n",
    "\n",
    "*Handling missing values is essential because*:\n",
    "- They can bias the analysis, leading to incorrect conclusions.\n",
    "- Some algorithms cannot handle missing values and will throw errors or perform poorly.\n",
    "\n",
    "*Algorithms not affected by missing values* include:\n",
    "- Decision Trees\n",
    "- Random Forest\n",
    "- XGBoost (with certain parameters)"
   ]
  },
  {
   "cell_type": "code",
   "execution_count": null,
   "id": "294dcdc2-426e-4e6e-b53e-c06d9d04bded",
   "metadata": {},
   "outputs": [],
   "source": [
    "## Q2. Techniques to Handle Missing Data\n",
    "# Techniques:\n",
    "# 1. Deletion:\n",
    "#   - Listwise Deletion: Removing all rows with any missing values.\n",
    "#   - Pairwise Deletion: Using available data without removing rows.\n",
    "\n",
    "\n",
    "    import pandas as pd\n",
    "\n",
    "    df = pd.DataFrame({'A': [1, 2, None], 'B': [4, None, 6]})\n",
    "    df_dropped = df.dropna()  # Listwise deletion\n",
    "   \n",
    "\n",
    " # 2. Imputation:\n",
    " #  - Mean/Median/Mode Imputation:\n",
    "\n",
    "     df['A'].fillna(df['A'].mean(), inplace=True)\n",
    "     \n",
    "\n",
    " #  - Regression Imputation: Predicting missing values using regression models.\n",
    "    \n",
    "     from sklearn.linear_model import LinearRegression\n",
    "\n",
    "    known = df[df['B'].notna()]\n",
    "    unknown = df[df['B'].isna()]\n",
    "\n",
    "    lr = LinearRegression()\n",
    "    lr.fit(known[['A']], known['B'])\n",
    "\n",
    "     df.loc[df['B'].isna(), 'B'] = lr.predict(unknown[['A']])\n",
    "     \n",
    "\n",
    "  # - K-Nearest Neighbors (KNN) Imputation:\n",
    "  \n",
    "    from sklearn.impute import KNNImputer\n",
    "\n",
    "    imputer = KNNImputer(n_neighbors=2)\n",
    "    df_imputed = imputer.fit_transform(df)\n",
    "     \n",
    "\n",
    "# 3. Advanced Methods:\n",
    "#   - Multiple Imputation by Chained Equations (MICE): Multiple imputation with chained equations to account for uncertainty.\n",
    "#   - Machine Learning Models: Using sophisticated models to predict missing values."
   ]
  },
  {
   "cell_type": "markdown",
   "id": "302b25b6-db1f-43a8-9b77-9ed2b2c2c046",
   "metadata": {},
   "source": [
    "## Q3. Imbalanced Data\n",
    "*Imbalanced data* occurs when the classes in a dataset are not represented equally. This can lead to a model being biased towards the majority class, resulting in poor performance for the minority class.\n",
    "\n",
    "*If not handled*, the model might:\n",
    "- Predict the majority class more often.\n",
    "- Have high overall accuracy but low sensitivity/recall for the minority class.\n"
   ]
  },
  {
   "cell_type": "code",
   "execution_count": null,
   "id": "3ce6afd4-ce79-4234-942b-6045515936d9",
   "metadata": {},
   "outputs": [],
   "source": [
    "## Q4. Up-sampling and Down-sampling\n",
    "# Up-sampling (Over-sampling): Increasing the number of instances in the minority class by replicating them or creating synthetic examples.\n",
    "# Down-sampling (Under-sampling): Reducing the number of instances in the majority class.\n",
    "\n",
    "# Example:\n",
    "\n",
    "from sklearn.utils import resample\n",
    "\n",
    "# Up-sampling\n",
    "minority_class = df[df['class'] == 1]\n",
    "upsampled_minority = resample(minority_class, \n",
    "                              replace=True, \n",
    "                              n_samples=len(df[df['class'] == 0]))\n",
    "\n",
    "# Down-sampling\n",
    "majority_class = df[df['class'] == 0]\n",
    "downsampled_majority = resample(majority_class, \n",
    "                                replace=False, \n",
    "                                n_samples=len(df[df['class'] == 1]))\n",
    "\n",
    "\n",
    "# When required:\n",
    "# - Up-sampling: When the minority class is too small and underrepresented.\n",
    "# - Down-sampling: When the majority class is too large, leading to computational inefficiency."
   ]
  },
  {
   "cell_type": "code",
   "execution_count": null,
   "id": "0fae141f-885d-40f4-9df6-991958f1a259",
   "metadata": {},
   "outputs": [],
   "source": [
    "## Q5. Data Augmentation and SMOTE\n",
    "# Data Augmentation: Techniques used to increase the diversity of training data without actually collecting new data, such as rotating or flipping images.\n",
    "\n",
    "# SMOTE (Synthetic Minority Over-sampling Technique): A method to generate synthetic samples for the minority class by interpolating between existing minority class examples.\n",
    "\n",
    "from imblearn.over_sampling import SMOTE\n",
    "\n",
    "smote = SMOTE()\n",
    "X_res, y_res = smote.fit_resample(X, y)"
   ]
  },
  {
   "cell_type": "markdown",
   "id": "34a8b02f-0bb5-4b6c-8c04-9bc91eae8105",
   "metadata": {},
   "source": [
    "## Q6. Outliers in a Dataset\n",
    "*Outliers* are data points that differ significantly from other observations. They can distort statistical analyses and model predictions.\n",
    "\n",
    "*Handling outliers is essential* because:\n",
    "- They can skew and mislead the data analysis results.\n",
    "- They can affect the performance and accuracy of machine learning models."
   ]
  },
  {
   "cell_type": "markdown",
   "id": "a18728c7-574d-4a06-9bc9-9fdd7bdc6c11",
   "metadata": {},
   "source": [
    "## Q7. Techniques to Handle Missing Data in Analysis\n",
    "1. *Imputation* (Mean/Median/Mode, KNN, etc.).\n",
    "2. *Deletion* (Removing rows or columns).\n",
    "3. *Using Algorithms that Support Missing Values* (Decision Trees, Random Forest)."
   ]
  },
  {
   "cell_type": "markdown",
   "id": "c67d625a-6fd5-4bd1-a780-04fc21e40822",
   "metadata": {},
   "source": [
    "## Q8. Determining If Missing Data is Random\n",
    "1. *Missing Completely at Random (MCAR)*: Missingness is unrelated to any observed or unobserved data.\n",
    "   - Test with Little's MCAR test.\n",
    "2. *Missing at Random (MAR)*: Missingness is related to observed data.\n",
    "   - Analyze correlations between missingness and other variables.\n",
    "3. *Missing Not at Random (MNAR)*: Missingness is related to unobserved data.\n",
    "   - Requires domain knowledge to identify patterns."
   ]
  },
  {
   "cell_type": "markdown",
   "id": "83f5db42-aa87-466d-a5a4-56bc3cf1f90c",
   "metadata": {},
   "source": [
    "## Q9. Evaluating Model Performance on Imbalanced Data\n",
    "1. *Use Metrics like Precision, Recall, F1-Score* instead of accuracy.\n",
    "2. *ROC-AUC*: Consider the area under the ROC curve.\n",
    "3. *Confusion Matrix*: Detailed analysis of true positives, false positives, etc."
   ]
  },
  {
   "cell_type": "code",
   "execution_count": null,
   "id": "46fa425c-0150-4805-beb9-d49ee3f4c1d4",
   "metadata": {},
   "outputs": [],
   "source": [
    "## Q10. Balancing Dataset by Down-sampling\n",
    "# 1. Random Under-sampling: Randomly remove samples from the majority class.\n",
    "\n",
    "   from sklearn.utils import resample\n",
    "\n",
    "       majority_class_downsampled = resample(majority_class, \n",
    "                                             replace=False, \n",
    "                                             n_samples=len(minority_class))\n",
    "   \n",
    " #2. Cluster Centroids: Replace clusters of majority class samples with their centroids."
   ]
  },
  {
   "cell_type": "code",
   "execution_count": null,
   "id": "7e66a68f-dd77-4999-b072-9bbc9b3d7c7f",
   "metadata": {},
   "outputs": [],
   "source": [
    "## Q11. Balancing Dataset by Up-sampling\n",
    "# 1. Random Over-sampling: Randomly duplicate samples from the minority class.\n",
    "# 2. SMOTE: Generate synthetic samples for the minority class.\n",
    "\n",
    "   from imblearn.over_sampling import SMOTE\n",
    "\n",
    "       smote = SMOTE()\n",
    "        X_res, y_res = smote.fit_resample(X, y)"
   ]
  },
  {
   "cell_type": "code",
   "execution_count": null,
   "id": "80248bdb-e98f-453b-819d-ccdd4d435238",
   "metadata": {},
   "outputs": [],
   "source": []
  }
 ],
 "metadata": {
  "kernelspec": {
   "display_name": "Python 3 (ipykernel)",
   "language": "python",
   "name": "python3"
  },
  "language_info": {
   "codemirror_mode": {
    "name": "ipython",
    "version": 3
   },
   "file_extension": ".py",
   "mimetype": "text/x-python",
   "name": "python",
   "nbconvert_exporter": "python",
   "pygments_lexer": "ipython3",
   "version": "3.10.8"
  }
 },
 "nbformat": 4,
 "nbformat_minor": 5
}
