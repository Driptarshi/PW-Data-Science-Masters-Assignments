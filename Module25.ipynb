{
 "cells": [
  {
   "cell_type": "markdown",
   "id": "8f560ddc-5d65-4f61-a25f-a9f617a62ef2",
   "metadata": {},
   "source": [
    "## Memory Management in Python\n",
    "\n",
    "Memory management in Python involves the handling of memory allocation, deallocation, and garbage collection. Python uses an automatic memory management system that includes several key components:\n",
    "\n",
    "1. *Reference Counting*:\n",
    "   - Each object in Python maintains a reference count, which is incremented when a reference to the object is made and decremented when a reference is deleted. When the reference count drops to zero, the memory occupied by the object is freed.\n",
    "\n",
    "2. *Garbage Collection*:\n",
    "   - Besides reference counting, Python has a cyclic garbage collector to deal with reference cycles (objects that reference each other and are no longer reachable from the program). The garbage collector periodically scans for these cycles and collects them.\n",
    "\n",
    "3. *Memory Pooling*:\n",
    "   - Python uses memory pools to manage small objects. The allocator pools memory in blocks of similar sizes, which helps reduce fragmentation and improves efficiency."
   ]
  },
  {
   "cell_type": "markdown",
   "id": "ca4f18b6-92eb-4349-8fbf-0a9da776d14c",
   "metadata": {},
   "source": [
    "## Multiprocessing in Python\n",
    "\n",
    "Multiprocessing in Python allows the concurrent execution of processes, which can run independently and concurrently on multiple CPU cores. This is different from multithreading, where threads share the same memory space.\n",
    "\n",
    "Key components and concepts of multiprocessing in Python include:\n",
    "\n",
    "1. *multiprocessing Module*:\n",
    "   - The multiprocessing module provides a way to create and manage processes. It is similar to the threading module but uses processes instead of threads, allowing for true parallelism.\n",
    "\n",
    "2. *Process Class*:\n",
    "   - The Process class is used to create and manage separate processes. Each Process object represents an independent process, which can execute a target function or method.\n",
    "\n",
    "3. *Interprocess Communication (IPC)*:\n",
    "   - The multiprocessing module provides mechanisms for IPC, such as Queue, Pipe, Value, and Array, allowing processes to communicate and share data.\n",
    "\n",
    "4. *Synchronization Primitives*:\n",
    "   - Synchronization primitives like Lock, Semaphore, Event, and Condition are available to synchronize access to shared resources between processes.\n",
    "\n",
    "5. *Pools*:\n",
    "   - The Pool class allows for managing a pool of worker processes. The Pool can distribute tasks to multiple processes, manage their execution, and gather the results.\n"
   ]
  },
  {
   "cell_type": "code",
   "execution_count": 1,
   "id": "86b0e042-e121-4693-803c-8fa0cff56ac7",
   "metadata": {},
   "outputs": [
    {
     "name": "stdout",
     "output_type": "stream",
     "text": [
      "Worker: 0\n",
      "Worker: 1\n",
      "Worker: 2\n",
      "Worker: 3\n",
      "Worker: 4\n"
     ]
    }
   ],
   "source": [
    "#Example of Multiprocessing in Python:\n",
    "\n",
    "# Here’s a simple example of using the multiprocessing module to create and start multiple processes:\n",
    "\n",
    "from multiprocessing import Process\n",
    "\n",
    "def worker(num):\n",
    "    \"\"\"Thread worker function\"\"\"\n",
    "    print(f'Worker: {num}')\n",
    "\n",
    "if __name__ == '__main__':\n",
    "    processes = []\n",
    "    for i in range(5):\n",
    "        p = Process(target=worker, args=(i,))\n",
    "        processes.append(p)\n",
    "        p.start()\n",
    "\n",
    "    for p in processes:\n",
    "        p.join()\n",
    "        \n",
    "        \n",
    "# In this example, five separate processes are created and started. Each process runs the worker function with a different argument. The join() method ensures that the main program waits for all processes to complete before exiting.        "
   ]
  },
  {
   "cell_type": "markdown",
   "id": "2bbea478-adc1-49b3-b1c2-0e93da17c494",
   "metadata": {},
   "source": [
    "#### N.B. - The pdf file of the assignment of Module 25 is not opening. So, I have written what I have understood about topics covered in this module."
   ]
  },
  {
   "cell_type": "code",
   "execution_count": null,
   "id": "5c1b7eba-11ee-495c-b3a0-d6ba27418a3f",
   "metadata": {},
   "outputs": [],
   "source": []
  }
 ],
 "metadata": {
  "kernelspec": {
   "display_name": "Python 3 (ipykernel)",
   "language": "python",
   "name": "python3"
  },
  "language_info": {
   "codemirror_mode": {
    "name": "ipython",
    "version": 3
   },
   "file_extension": ".py",
   "mimetype": "text/x-python",
   "name": "python",
   "nbconvert_exporter": "python",
   "pygments_lexer": "ipython3",
   "version": "3.10.8"
  }
 },
 "nbformat": 4,
 "nbformat_minor": 5
}
