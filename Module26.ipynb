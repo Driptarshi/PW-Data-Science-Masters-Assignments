{
 "cells": [
  {
   "cell_type": "markdown",
   "id": "d6a7e03f-017b-45a6-8f5f-e9442ef1f439",
   "metadata": {},
   "source": [
    "## Q1. What is a database? Differentiate between SQL and NoSQL databases.\n",
    "\n",
    "A *database* is an organized collection of data, generally stored and accessed electronically from a computer system. Databases allow data to be easily accessed, managed, and updated.\n",
    "\n",
    "*SQL Databases*:\n",
    "- *Structure*: Relational (tables with rows and columns)\n",
    "- *Schema*: Predefined schema (strict structure)\n",
    "- *Query Language*: SQL (Structured Query Language)\n",
    "- *Examples*: MySQL, PostgreSQL, Oracle, SQL Server\n",
    "- *Use Case*: Suitable for complex queries and transactions, high ACID compliance (Atomicity, Consistency, Isolation, Durability).\n",
    "\n",
    "*NoSQL Databases*:\n",
    "- *Structure*: Non-relational (can be document, key-value, wide-column, or graph-based)\n",
    "- *Schema*: Dynamic schema (flexible structure)\n",
    "- *Query Language*: Varies (e.g., JSON for document stores, CQL for wide-column stores)\n",
    "- *Examples*: MongoDB, Cassandra, Redis, Neo4j\n",
    "- *Use Case*: Suitable for large volumes of data, scalability, high availability, and unstructured data."
   ]
  },
  {
   "cell_type": "markdown",
   "id": "7bf146c4-b3fd-4f89-935f-63581eedbb3f",
   "metadata": {},
   "source": [
    "## Q2. What is DDL? Explain why CREATE, DROP, ALTER, and TRUNCATE are used with an example.\n",
    "\n",
    "*DDL (Data Definition Language)* is a subset of SQL used to define and manage all database objects, such as tables, indexes, and schemas.\n",
    "\n",
    "- *CREATE*: Used to create a new table or database object.\n",
    "  sql\n",
    "  CREATE TABLE Students (\n",
    "      ID INT PRIMARY KEY,\n",
    "      Name VARCHAR(100),\n",
    "      Age INT\n",
    "  );\n",
    "  \n",
    "- *DROP*: Used to delete an existing table or database object.\n",
    "  sql\n",
    "  DROP TABLE Students;\n",
    "  \n",
    "- *ALTER*: Used to modify an existing database object.\n",
    "  sql\n",
    "  ALTER TABLE Students ADD COLUMN Address VARCHAR(255);\n",
    "  \n",
    "- *TRUNCATE*: Used to delete all rows from a table without removing the table itself.\n",
    "  sql\n",
    "  TRUNCATE TABLE Students;"
   ]
  },
  {
   "cell_type": "markdown",
   "id": "af4ca570-0358-44f5-8146-63933db5d7a1",
   "metadata": {},
   "source": [
    "## Q3. What is DML? Explain INSERT, UPDATE, and DELETE with an example.\n",
    "\n",
    "*DML (Data Manipulation Language)* is a subset of SQL used for managing data within schema objects.\n",
    "\n",
    "- *INSERT*: Used to add new rows to a table.\n",
    "  sql\n",
    "  INSERT INTO Students (ID, Name, Age) VALUES (1, 'John Doe', 20);\n",
    "  \n",
    "- *UPDATE*: Used to modify existing rows in a table.\n",
    "  sql\n",
    "  UPDATE Students SET Age = 21 WHERE ID = 1;\n",
    "  \n",
    "- *DELETE*: Used to remove rows from a table.\n",
    "  sql\n",
    "  DELETE FROM Students WHERE ID = 1;"
   ]
  },
  {
   "cell_type": "markdown",
   "id": "42f75621-0a4a-4ba0-8d3b-6eaf3e91a10a",
   "metadata": {},
   "source": [
    "## Q4. What is DQL? Explain SELECT with an example.\n",
    "\n",
    "*DQL (Data Query Language)* is a subset of SQL used to query the database for information retrieval.\n",
    "\n",
    "- *SELECT*: Used to fetch data from a database.\n",
    "  sql\n",
    "  SELECT Name, Age FROM Students WHERE Age > 18;\n",
    "  "
   ]
  },
  {
   "cell_type": "markdown",
   "id": "c2915f70-284f-4e81-a466-416e457858b3",
   "metadata": {},
   "source": [
    "## Q5. Explain Primary Key and Foreign Key.\n",
    "\n",
    "- *Primary Key*: A unique identifier for each record in a table. No two rows can have the same primary key value, and a primary key cannot contain NULL values.\n",
    "  sql\n",
    "  CREATE TABLE Students (\n",
    "      ID INT PRIMARY KEY,\n",
    "      Name VARCHAR(100)\n",
    "  );\n",
    "  \n",
    "- *Foreign Key*: A field (or collection of fields) in one table that uniquely identifies a row of another table, creating a relationship between the two tables.\n",
    "  sql\n",
    "  CREATE TABLE Enrollments (\n",
    "      EnrollmentID INT,\n",
    "      StudentID INT,\n",
    "      CourseID INT,\n",
    "      FOREIGN KEY (StudentID) REFERENCES Students(ID)\n",
    "  );"
   ]
  },
  {
   "cell_type": "markdown",
   "id": "da2afbfd-be69-4442-ace7-9ce7e7450c82",
   "metadata": {},
   "source": [
    "## Q6. Write a python code to connect MySQL to python. Explain the cursor() and execute() method.\n",
    "\n",
    "python\n",
    "import mysql.connector\n",
    "\n",
    "# Connect to MySQL\n",
    "connection = mysql.connector.connect(\n",
    "    host='localhost',\n",
    "    user='yourusername',\n",
    "    password='yourpassword',\n",
    "    database='yourdatabase'\n",
    ")\n",
    "\n",
    "# Create a cursor object\n",
    "cursor = connection.cursor()\n",
    "\n",
    "# Execute an SQL query\n",
    "cursor.execute(\"SELECT * FROM Students\")\n",
    "\n",
    "# Fetch and print the results\n",
    "for row in cursor.fetchall():\n",
    "    print(row)\n",
    "\n",
    "# Close the cursor and connection\n",
    "cursor.close()\n",
    "connection.close()\n",
    "\n",
    "- *cursor()*: Creates a cursor object which is used to interact with the database.\n",
    "- *execute()*: Executes an SQL query passed to it."
   ]
  },
  {
   "cell_type": "markdown",
   "id": "ea5e0488-c049-447a-b06a-05e549d1430a",
   "metadata": {},
   "source": [
    "## Q7. Give the order of execution of SQL clauses in an SQL query.\n",
    "\n",
    "The order of execution of SQL clauses is as follows:\n",
    "1. *FROM*\n",
    "2. *WHERE*\n",
    "3. *GROUP BY*\n",
    "4. *HAVING*\n",
    "5. *SELECT*\n",
    "6. *ORDER BY*\n",
    "7. *LIMIT* (or *OFFSET* for some databases)"
   ]
  },
  {
   "cell_type": "code",
   "execution_count": null,
   "id": "d12af0c8-9bc2-4eeb-9e94-d58fef160ed8",
   "metadata": {},
   "outputs": [],
   "source": []
  }
 ],
 "metadata": {
  "kernelspec": {
   "display_name": "Python 3 (ipykernel)",
   "language": "python",
   "name": "python3"
  },
  "language_info": {
   "codemirror_mode": {
    "name": "ipython",
    "version": 3
   },
   "file_extension": ".py",
   "mimetype": "text/x-python",
   "name": "python",
   "nbconvert_exporter": "python",
   "pygments_lexer": "ipython3",
   "version": "3.10.8"
  }
 },
 "nbformat": 4,
 "nbformat_minor": 5
}
