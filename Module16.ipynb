{
 "cells": [
  {
   "cell_type": "code",
   "execution_count": 3,
   "id": "76d75918-48c6-4aaf-82ac-0d26e110f40f",
   "metadata": {},
   "outputs": [
    {
     "name": "stdout",
     "output_type": "stream",
     "text": [
      "0\n"
     ]
    }
   ],
   "source": [
    "# Q.1\n",
    "def flatten_and_product(input_list):\n",
    "    flat_list = []\n",
    "    \n",
    "    def flatten(item):\n",
    "        if isinstance(item, (list, tuple, set)):\n",
    "            for subitem in item:\n",
    "                flatten(subitem)\n",
    "        elif isinstance(item, dict):\n",
    "            for key, value in item.items():\n",
    "                if isinstance(key, (int, float)):\n",
    "                    flat_list.append(key)\n",
    "                flatten(value)\n",
    "        else:\n",
    "            if isinstance(item, (int, float)):\n",
    "                flat_list.append(item)\n",
    "    \n",
    "    flatten(input_list)\n",
    "    \n",
    "    product = 1\n",
    "    for number in flat_list:\n",
    "        product *= number\n",
    "    \n",
    "    return product\n",
    "\n",
    "# Given list\n",
    "list1 = [1, 2, 3, 4, [44, 55, 66, True], False, (34, 56, 78, 89, 34), {1, 2, 3, 3, 2, 1}, {1: 34, \"key2\": [55, 67, 78, 89], 4: (45, 22, 61, 34)}, [56, 'data science'], 'Machine Learning']\n",
    "\n",
    "# Call the function\n",
    "result = flatten_and_product(list1)\n",
    "print(result)"
   ]
  },
  {
   "cell_type": "code",
   "execution_count": null,
   "id": "cc39562f-d808-4274-b491-284fc2c6aa17",
   "metadata": {},
   "outputs": [],
   "source": []
  }
 ],
 "metadata": {
  "kernelspec": {
   "display_name": "Python 3 (ipykernel)",
   "language": "python",
   "name": "python3"
  },
  "language_info": {
   "codemirror_mode": {
    "name": "ipython",
    "version": 3
   },
   "file_extension": ".py",
   "mimetype": "text/x-python",
   "name": "python",
   "nbconvert_exporter": "python",
   "pygments_lexer": "ipython3",
   "version": "3.10.8"
  }
 },
 "nbformat": 4,
 "nbformat_minor": 5
}
