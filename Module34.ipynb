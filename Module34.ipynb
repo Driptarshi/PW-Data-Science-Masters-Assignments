{
 "cells": [
  {
   "cell_type": "code",
   "execution_count": 10,
   "id": "9491f10e-1acd-4166-8f29-3f628010e40f",
   "metadata": {},
   "outputs": [
    {
     "name": "stdout",
     "output_type": "stream",
     "text": [
      "   A  B\n",
      "0  1  4\n",
      "1  2  5\n",
      "2  3  6\n",
      "         A    B\n",
      "count  3.0  3.0\n",
      "mean   2.0  5.0\n",
      "std    1.0  1.0\n",
      "min    1.0  4.0\n",
      "25%    1.5  4.5\n",
      "50%    2.0  5.0\n",
      "75%    2.5  5.5\n",
      "max    3.0  6.0\n",
      "   A  B  C\n",
      "0  1  4  7\n",
      "1  2  5  8\n",
      "2  3  6  9\n",
      "   A  B  C\n",
      "1  2  5  8\n",
      "2  3  6  9\n"
     ]
    }
   ],
   "source": [
    "# Q1. \n",
    "\n",
    "import pandas as pd\n",
    "\n",
    "# 1. Creating a DataFrame\n",
    "data = {'A': [1, 2, 3], 'B': [4, 5, 6]}\n",
    "df = pd.DataFrame(data)\n",
    "\n",
    "# 2. Accessing the first few rows\n",
    "print(df.head())\n",
    "\n",
    "# 3. Getting descriptive statistics\n",
    "print(df.describe())\n",
    "\n",
    "# 4. Adding a new column\n",
    "df['C'] = [7, 8, 9]\n",
    "print(df)\n",
    "\n",
    "# 5. Filtering rows based on condition\n",
    "filtered_df = df[df['A'] > 1]\n",
    "print(filtered_df)"
   ]
  },
  {
   "cell_type": "code",
   "execution_count": 12,
   "id": "f3ba37bf-b68c-4f99-b495-5d34745a8583",
   "metadata": {},
   "outputs": [],
   "source": [
    "# Q2. \n",
    "\n",
    "import pandas as pd\n",
    "\n",
    "def reindex_dataframe(df):\n",
    "    df.index = pd.RangeIndex(start=1, stop=len(df)*2, step=2)\n",
    "    return df\n",
    "\n",
    "# Example usage:\n",
    "# new_df = reindex_dataframe(df)"
   ]
  },
  {
   "cell_type": "code",
   "execution_count": 16,
   "id": "daccc7ee-e70b-44a1-a4e8-7011ce91d3a0",
   "metadata": {},
   "outputs": [],
   "source": [
    "# Q3. \n",
    "\n",
    "def sum_first_three(df):\n",
    "    values_sum = df['Values'][:3].sum()\n",
    "    print(\"Sum of the first three values:\", values_sum)\n",
    "\n",
    "# Example usage:\n",
    "# sum_first_three(df)"
   ]
  },
  {
   "cell_type": "code",
   "execution_count": null,
   "id": "65916772-942e-47d8-bcac-439c08a1284b",
   "metadata": {},
   "outputs": [],
   "source": [
    "# Q4.\n",
    "\n",
    "def count_words(df):\n",
    "    df['Word_Count'] = df['Text'].apply(lambda x: len(str(x).split()))\n",
    "    return df\n",
    "\n",
    "# Example usage:\n",
    "# new_df = count_words(df)"
   ]
  },
  {
   "cell_type": "markdown",
   "id": "b268ff80-1a8d-4995-97d4-964c3119cbe0",
   "metadata": {},
   "source": [
    "## Q5. \n",
    " DataFrame.size() returns the total number of elements in the DataFrame, while DataFrame.shape() returns a tuple representing the dimensionality of the DataFrame."
   ]
  },
  {
   "cell_type": "markdown",
   "id": "1d42efd5-1aab-41c2-9b59-12968c33bf71",
   "metadata": {},
   "source": [
    "## Q6. \n",
    "To read an Excel file, we use the pd.read_excel() function from pandas.\n"
   ]
  },
  {
   "cell_type": "code",
   "execution_count": 17,
   "id": "f2c62cc7-240c-4cc0-9e52-98ce35dfa373",
   "metadata": {},
   "outputs": [],
   "source": [
    "# Q7.\n",
    "\n",
    "def extract_username(df):\n",
    "    df['Username'] = df['Email'].apply(lambda x: x.split('@')[0])\n",
    "    return df\n",
    "\n",
    "# Example usage:\n",
    "# new_df = extract_username(df)"
   ]
  },
  {
   "cell_type": "code",
   "execution_count": 18,
   "id": "c2622b3d-b826-498d-9a1d-aa2d191e27d5",
   "metadata": {},
   "outputs": [],
   "source": [
    "# Q8.\n",
    "\n",
    "def select_rows(df):\n",
    "    selected_rows = df[(df['A'] > 5) & (df['B'] < 10)]\n",
    "    return selected_rows\n",
    "\n",
    "# Example usage:\n",
    "# selected_df = select_rows(df)"
   ]
  },
  {
   "cell_type": "code",
   "execution_count": 19,
   "id": "994fc044-4781-4acb-af41-2aff8d6418f2",
   "metadata": {},
   "outputs": [],
   "source": [
    "# Q9. \n",
    "\n",
    "def calculate_stats(df):\n",
    "    mean = df['Values'].mean()\n",
    "    median = df['Values'].median()\n",
    "    std_dev = df['Values'].std()\n",
    "    return mean, median, std_dev\n",
    "\n",
    "# Example usage:\n",
    "# mean, median, std_dev = calculate_stats(df)"
   ]
  },
  {
   "cell_type": "code",
   "execution_count": 20,
   "id": "8baa4419-746e-4d7e-bb1e-906572c8dc90",
   "metadata": {},
   "outputs": [],
   "source": [
    "# Q10.\n",
    "\n",
    "def calculate_moving_average(df):\n",
    "    df['MovingAverage'] = df['Sales'].rolling(window=7, min_periods=1).mean()\n",
    "    return df\n",
    "\n",
    "# Example usage:\n",
    "# new_df = calculate_moving_average(df)"
   ]
  },
  {
   "cell_type": "code",
   "execution_count": 22,
   "id": "d0d098a8-2194-4ca1-9c5f-c47b24e9f928",
   "metadata": {},
   "outputs": [],
   "source": [
    "# Q11.\n",
    "\n",
    "\n",
    "def add_weekday_column(df):\n",
    "    df['Weekday'] = df['Date'].dt.day_name()\n",
    "    return df\n",
    "\n",
    "# Example usage:\n",
    "# new_df = add_weekday_column(df)\n"
   ]
  },
  {
   "cell_type": "code",
   "execution_count": 23,
   "id": "59644f4b-0e52-49d2-8b72-66f8b0b0f1bf",
   "metadata": {},
   "outputs": [],
   "source": [
    "# Q12.\n",
    "\n",
    "def select_rows_by_date(df):\n",
    "    selected_rows = df[(df['Date'] >= '2023-01-01') & (df['Date'] <= '2023-01-31')]\n",
    "    return selected_rows\n",
    "\n",
    "# Example usage:\n",
    "# selected_df = select_rows_by_date(df)"
   ]
  },
  {
   "cell_type": "markdown",
   "id": "e8ec3725-856a-4daa-808f-708e8ff60f20",
   "metadata": {},
   "source": [
    "## Q13. \n",
    "To use the basic functions of pandas, the first and foremost necessary library that needs to be imported is pandas itself, usually imported with the alias pd."
   ]
  },
  {
   "cell_type": "code",
   "execution_count": null,
   "id": "ed106dbc-294f-49d6-873e-c6fb45d2a9ef",
   "metadata": {},
   "outputs": [],
   "source": []
  }
 ],
 "metadata": {
  "kernelspec": {
   "display_name": "Python 3 (ipykernel)",
   "language": "python",
   "name": "python3"
  },
  "language_info": {
   "codemirror_mode": {
    "name": "ipython",
    "version": 3
   },
   "file_extension": ".py",
   "mimetype": "text/x-python",
   "name": "python",
   "nbconvert_exporter": "python",
   "pygments_lexer": "ipython3",
   "version": "3.10.8"
  }
 },
 "nbformat": 4,
 "nbformat_minor": 5
}
