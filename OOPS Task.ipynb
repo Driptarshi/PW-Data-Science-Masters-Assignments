{
 "cells": [
  {
   "cell_type": "markdown",
   "id": "a3016670-836d-4bb2-bf1d-538cef3e7cf7",
   "metadata": {},
   "source": [
    "# OOPS Task"
   ]
  },
  {
   "cell_type": "markdown",
   "id": "e70e4f94-8fad-455c-81a3-e6e297d05532",
   "metadata": {},
   "source": [
    "### Q1. Create a vehicle class with an init method having instance variables as name_of_vehicle, max_speed and average_of_vehicle."
   ]
  },
  {
   "cell_type": "code",
   "execution_count": 1,
   "id": "525ffbe9-6708-4f51-9612-8092f701ef2c",
   "metadata": {},
   "outputs": [],
   "source": [
    "class vehicle:\n",
    "    \n",
    "    def __init__(self, name_of_vehicle, max_speed, average_speed_of_vehicle) :\n",
    "        \n",
    "        self.name_of_vehicle = name_of_vehicle\n",
    "        self.max_speed = max_speed\n",
    "        self.average_speed_of_vehicle = average_speed_of_vehicle\n",
    "        "
   ]
  },
  {
   "cell_type": "code",
   "execution_count": 2,
   "id": "4eb3ae2c-2346-4358-9df9-a7ae0513fa29",
   "metadata": {},
   "outputs": [],
   "source": [
    "obj_vehicle = vehicle(\"Jaguar\",200,40)"
   ]
  },
  {
   "cell_type": "code",
   "execution_count": 3,
   "id": "81ba95b2-542d-428b-a022-ff0c2c3985e7",
   "metadata": {},
   "outputs": [
    {
     "data": {
      "text/plain": [
       "'Jaguar'"
      ]
     },
     "execution_count": 3,
     "metadata": {},
     "output_type": "execute_result"
    }
   ],
   "source": [
    "obj_vehicle.name_of_vehicle"
   ]
  },
  {
   "cell_type": "code",
   "execution_count": 4,
   "id": "b77d53b8-2e52-4b8a-a3f3-2e92960c7ef9",
   "metadata": {},
   "outputs": [
    {
     "data": {
      "text/plain": [
       "200"
      ]
     },
     "execution_count": 4,
     "metadata": {},
     "output_type": "execute_result"
    }
   ],
   "source": [
    "obj_vehicle.max_speed"
   ]
  },
  {
   "cell_type": "code",
   "execution_count": 5,
   "id": "c99e669c-1efa-469f-8409-f9f3a08c6cbc",
   "metadata": {},
   "outputs": [
    {
     "data": {
      "text/plain": [
       "'Jaguar'"
      ]
     },
     "execution_count": 5,
     "metadata": {},
     "output_type": "execute_result"
    }
   ],
   "source": [
    "obj_vehicle.name_of_vehicle"
   ]
  },
  {
   "cell_type": "markdown",
   "id": "88cbee4a-cbdc-4159-8120-f2645aee36ef",
   "metadata": {},
   "source": [
    "### Q2. Create a child class car from the vehicle class created in Que 1, which will inherit the vehicle class. Create a method named seating_capacity which takes capacity as an argument and returns the name of the vehicle and its seating capacity."
   ]
  },
  {
   "cell_type": "code",
   "execution_count": 6,
   "id": "1ab6ae7b-8bf3-47e0-b4e9-6fad4f03a818",
   "metadata": {},
   "outputs": [],
   "source": [
    "class child_class_car(vehicle):\n",
    "    \n",
    "    def seating_capacity(self,capacity):\n",
    "        return f\"{self.name_of_vehicle} has a seating capacity {self.seating_capacity}.\""
   ]
  },
  {
   "cell_type": "code",
   "execution_count": 7,
   "id": "84710787-d3b4-49b4-ae21-b6b78b5b7062",
   "metadata": {},
   "outputs": [],
   "source": [
    "obj_child_class_car = child_class_car(\"Audi\",200,140)"
   ]
  },
  {
   "cell_type": "code",
   "execution_count": 8,
   "id": "b5f20de0-1bf3-438a-99bf-eebbde73507a",
   "metadata": {},
   "outputs": [
    {
     "name": "stdout",
     "output_type": "stream",
     "text": [
      "Audi has a seating capacity <bound method child_class_car.seating_capacity of <__main__.child_class_car object at 0x7f9e302bf130>>.\n"
     ]
    }
   ],
   "source": [
    "print(obj_child_class_car.seating_capacity(4))"
   ]
  },
  {
   "cell_type": "markdown",
   "id": "c0ea590f-ac6d-4860-aa4a-d1460d709954",
   "metadata": {},
   "source": [
    "### Q3. What is multiple inheritance? Write a python code to demonstrate multiple inheritance."
   ]
  },
  {
   "cell_type": "markdown",
   "id": "81349218-3b99-4d3f-acc8-07b947270dff",
   "metadata": {},
   "source": [
    "Multiple inheritance is a feature of object-oriented programming where a class can inherit from multiple parent classes. This means that a child class can have the methods and attributes of multiple parent classes. "
   ]
  },
  {
   "cell_type": "code",
   "execution_count": 9,
   "id": "f9af10e9-1528-42bf-bb5a-9804c5066c57",
   "metadata": {},
   "outputs": [],
   "source": [
    "class class1:\n",
    "    def test_class1(self):\n",
    "        print(\"This is my class1\")"
   ]
  },
  {
   "cell_type": "code",
   "execution_count": 10,
   "id": "38ae2c02-9413-4937-a544-4096865e7d9b",
   "metadata": {},
   "outputs": [],
   "source": [
    "class class2:\n",
    "    def test_class2(self):\n",
    "        print(\"This is my class2\")"
   ]
  },
  {
   "cell_type": "code",
   "execution_count": 11,
   "id": "bc81bf86-dc25-4d54-9562-f382b8591a04",
   "metadata": {},
   "outputs": [],
   "source": [
    "class class3(class1,class2):\n",
    "    pass"
   ]
  },
  {
   "cell_type": "code",
   "execution_count": 12,
   "id": "1c615ecc-3e71-43f8-bd44-f057dbd1693c",
   "metadata": {},
   "outputs": [],
   "source": [
    "obj_class3 = class3()"
   ]
  },
  {
   "cell_type": "code",
   "execution_count": 14,
   "id": "424517f8-d786-4a23-87b4-a19e7120dcf2",
   "metadata": {},
   "outputs": [
    {
     "name": "stdout",
     "output_type": "stream",
     "text": [
      "This is my class1\n"
     ]
    }
   ],
   "source": [
    "obj_class3.test_class1()"
   ]
  },
  {
   "cell_type": "code",
   "execution_count": 15,
   "id": "2445b379-70c9-4853-b830-c743c1cf4b56",
   "metadata": {},
   "outputs": [
    {
     "name": "stdout",
     "output_type": "stream",
     "text": [
      "This is my class2\n"
     ]
    }
   ],
   "source": [
    "obj_class3.test_class2()"
   ]
  },
  {
   "cell_type": "markdown",
   "id": "f7a5931e-24c1-4912-bbf1-6ecfd81cb99d",
   "metadata": {},
   "source": [
    "### Q4. What are getter and setter in python? Create a class and create a getter and a setter method in this class."
   ]
  },
  {
   "cell_type": "markdown",
   "id": "73cb2324-4263-4b00-a01d-6ac45a9b78df",
   "metadata": {},
   "source": [
    "Getter: A method that allows you to access an attribute in a given class. Setter: A method that allows you to set or mutate the value of an attribute in a class."
   ]
  },
  {
   "cell_type": "code",
   "execution_count": 16,
   "id": "0b6fcc05-4e0e-4575-b211-9def849da35a",
   "metadata": {},
   "outputs": [],
   "source": [
    "class students:\n",
    "    def __init__(self,number):\n",
    "        self.__number = number\n",
    "        \n",
    "    def set_number(self,new_number):\n",
    "        self.__number = new_number\n",
    "        \n",
    "    def get_number(self):\n",
    "        return self.__number"
   ]
  },
  {
   "cell_type": "code",
   "execution_count": 17,
   "id": "98693348-b9b8-4610-801a-6f6dba90b782",
   "metadata": {},
   "outputs": [],
   "source": [
    "obj_students = students(10)"
   ]
  },
  {
   "cell_type": "code",
   "execution_count": 18,
   "id": "baaa6cef-b1e7-4d0d-807c-e6a30aa2ad22",
   "metadata": {},
   "outputs": [
    {
     "data": {
      "text/plain": [
       "10"
      ]
     },
     "execution_count": 18,
     "metadata": {},
     "output_type": "execute_result"
    }
   ],
   "source": [
    "obj_students.get_number()"
   ]
  },
  {
   "cell_type": "code",
   "execution_count": 19,
   "id": "e3fc5977-2b96-4ba1-92d0-7459160ab8a6",
   "metadata": {},
   "outputs": [],
   "source": [
    "obj_students.set_number(9)"
   ]
  },
  {
   "cell_type": "code",
   "execution_count": 20,
   "id": "933d5fe0-32d2-4b00-bc60-0f6bf51a77dd",
   "metadata": {},
   "outputs": [
    {
     "data": {
      "text/plain": [
       "9"
      ]
     },
     "execution_count": 20,
     "metadata": {},
     "output_type": "execute_result"
    }
   ],
   "source": [
    "obj_students.get_number()"
   ]
  },
  {
   "cell_type": "markdown",
   "id": "9444477d-10f8-41f5-934d-086373a83e44",
   "metadata": {},
   "source": [
    "### Q5. What is method overriding in python? Write a python code to demonstrate method overriding."
   ]
  },
  {
   "cell_type": "markdown",
   "id": "889bed44-7372-47fe-9405-b018d7b76403",
   "metadata": {},
   "source": [
    "In Python, method overriding is a feature of object-oriented programming that allows a subclass to provide a different implementation of a method that is already defined in its superclass."
   ]
  },
  {
   "cell_type": "code",
   "execution_count": 21,
   "id": "ae9d3db4-03ee-4739-9948-1792f8f5afc4",
   "metadata": {},
   "outputs": [],
   "source": [
    "class vehicle():\n",
    "    \n",
    "    def fuel(self):\n",
    "        print (\"Vehicle runs on oil\")"
   ]
  },
  {
   "cell_type": "code",
   "execution_count": 22,
   "id": "b1e8f234-eae4-4460-b280-2cb9352ed09e",
   "metadata": {},
   "outputs": [],
   "source": [
    "class heavy_vehicle(vehicle):\n",
    "    \n",
    "    def fuel(self):\n",
    "        print(\"Heavy vehicle runs on Diesel\")"
   ]
  },
  {
   "cell_type": "code",
   "execution_count": 23,
   "id": "46fb5fa9-bcf0-4173-89a3-3b8dbded6f89",
   "metadata": {},
   "outputs": [],
   "source": [
    "obj_vehicle = vehicle()"
   ]
  },
  {
   "cell_type": "code",
   "execution_count": 24,
   "id": "33fcfadd-da72-486a-8d9b-1d063f2d16ec",
   "metadata": {},
   "outputs": [],
   "source": [
    "obj_heavy_vehicle = heavy_vehicle()"
   ]
  },
  {
   "cell_type": "code",
   "execution_count": 25,
   "id": "fdde774c-16ac-4988-ac30-70fc956af830",
   "metadata": {},
   "outputs": [
    {
     "name": "stdout",
     "output_type": "stream",
     "text": [
      "Vehicle runs on oil\n"
     ]
    }
   ],
   "source": [
    "obj_vehicle.fuel()"
   ]
  },
  {
   "cell_type": "code",
   "execution_count": 27,
   "id": "fcd39686-9191-42e7-99ba-2804bccb43d2",
   "metadata": {},
   "outputs": [
    {
     "name": "stdout",
     "output_type": "stream",
     "text": [
      "Heavy vehicle runs on Diesel\n"
     ]
    }
   ],
   "source": [
    "obj_heavy_vehicle.fuel()"
   ]
  }
 ],
 "metadata": {
  "kernelspec": {
   "display_name": "Python 3 (ipykernel)",
   "language": "python",
   "name": "python3"
  },
  "language_info": {
   "codemirror_mode": {
    "name": "ipython",
    "version": 3
   },
   "file_extension": ".py",
   "mimetype": "text/x-python",
   "name": "python",
   "nbconvert_exporter": "python",
   "pygments_lexer": "ipython3",
   "version": "3.10.8"
  }
 },
 "nbformat": 4,
 "nbformat_minor": 5
}
