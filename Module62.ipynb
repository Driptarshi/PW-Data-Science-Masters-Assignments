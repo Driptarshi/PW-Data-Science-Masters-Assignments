{
 "cells": [
  {
   "cell_type": "markdown",
   "id": "71ba1adb-e523-4491-922c-3d0d456229b8",
   "metadata": {},
   "source": [
    "## Q1. Simple Linear Regression vs. Multiple Linear Regression:\n",
    "- *Simple Linear Regression*: Examines the relationship between two variables: one independent variable and one dependent variable. Example: Predicting house price (dependent) based on square footage (independent).\n",
    "- *Multiple Linear Regression*: Examines the relationship between one dependent variable and two or more independent variables. Example: Predicting house price (dependent) based on square footage, number of bedrooms, and location (independent variables).\n",
    "\n",
    "## Q2. Assumptions of Linear Regression:\n",
    "- *Linearity*: The relationship between the independent and dependent variables should be linear.\n",
    "- *Independence*: Observations should be independent of each other.\n",
    "- *Homoscedasticity*: Constant variance of errors.\n",
    "- *Normality*: Errors should be normally distributed.\n",
    "- *No Multicollinearity*: Independent variables should not be too highly correlated.\n",
    "  - *Check Assumptions*: Use residual plots to check linearity and homoscedasticity, Durbin-Watson test for independence, Q-Q plots for normality, and Variance Inflation Factor (VIF) for multicollinearity.\n",
    "\n",
    "## Q3. Interpreting Slope and Intercept:\n",
    "- *Slope*: Indicates the change in the dependent variable for a one-unit change in the independent variable.\n",
    "- *Intercept*: The expected value of the dependent variable when the independent variable is zero.\n",
    "  - *Example*: In a model predicting income based on years of education, a slope of 2000 suggests each additional year of education increases income by $2000, and an intercept of 15000 suggests a base income of $15000 with no education.\n",
    "\n",
    "## Q4. Gradient Descent:\n",
    "- An optimization algorithm used to minimize the cost function in machine learning models by iteratively adjusting model parameters. It moves in the direction of the steepest decrease in the cost function.\n",
    "\n",
    "## Q5. Multiple Linear Regression Model:\n",
    "- Extends simple linear regression by using multiple independent variables to predict a dependent variable.\n",
    "  - *Difference*: Multiple linear regression includes more than one predictor, allowing for more complex models and better predictions when multiple factors influence the outcome.\n",
    "\n",
    "## Q6. Multicollinearity in Multiple Linear Regression:\n",
    "- Occurs when independent variables are highly correlated, leading to unreliable coefficient estimates.\n",
    "  - *Detection*: Use Variance Inflation Factor (VIF); VIF > 10 indicates high multicollinearity.\n",
    "  - *Addressing*: Remove or combine correlated variables, or use techniques like Principal Component Analysis (PCA).\n",
    "\n",
    "## Q7. Polynomial Regression Model:\n",
    "- Extends linear regression by modeling the relationship as an nth degree polynomial.\n",
    "  - *Difference*: Polynomial regression can capture nonlinear relationships, whereas linear regression models straight-line relationships.\n",
    "\n",
    "## Q8. Advantages and Disadvantages of Polynomial Regression:\n",
    "- *Advantages*: Can model complex, nonlinear relationships.\n",
    "- *Disadvantages*: Higher risk of overfitting, especially with higher-degree polynomials; more computationally intensive."
   ]
  },
  {
   "cell_type": "code",
   "execution_count": null,
   "id": "ad59e9dc-52d8-43a2-92df-debe7c6dc524",
   "metadata": {},
   "outputs": [],
   "source": []
  }
 ],
 "metadata": {
  "kernelspec": {
   "display_name": "Python 3 (ipykernel)",
   "language": "python",
   "name": "python3"
  },
  "language_info": {
   "codemirror_mode": {
    "name": "ipython",
    "version": 3
   },
   "file_extension": ".py",
   "mimetype": "text/x-python",
   "name": "python",
   "nbconvert_exporter": "python",
   "pygments_lexer": "ipython3",
   "version": "3.10.8"
  }
 },
 "nbformat": 4,
 "nbformat_minor": 5
}
