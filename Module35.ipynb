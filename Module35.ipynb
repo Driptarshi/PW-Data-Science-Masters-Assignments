{
 "cells": [
  {
   "cell_type": "markdown",
   "id": "cd32107b-d637-492c-935a-7910292d4bdb",
   "metadata": {},
   "source": [
    "## Q1. \n",
    "To print the data present in the second row of the dataframe df, you can use the iloc function like this:\n",
    "\n",
    "print(df.iloc[1])\n"
   ]
  },
  {
   "cell_type": "markdown",
   "id": "eaf4f8b3-3e80-4693-abab-39c88c9d5059",
   "metadata": {},
   "source": [
    "## Q2. \n",
    "The loc function is used to access a group of rows and columns by labels or a boolean array, while the iloc function is used for integer-location based indexing, where you specify rows and columns by their integer index.\n"
   ]
  },
  {
   "cell_type": "code",
   "execution_count": null,
   "id": "3c972c25-f35a-4a33-be13-406654f21afe",
   "metadata": {},
   "outputs": [],
   "source": [
    "## Q3.\n",
    "\n",
    "import pandas as pd\n",
    "\n",
    "course_name = ['Data Science', 'Machine Learning', 'Big Data', 'Data Engineer']\n",
    "duration = [2, 3, 6, 4]\n",
    "df = pd.DataFrame(data={'course_name': course_name, 'duration': duration})\n",
    "\n",
    "reindex = [3, 0, 1, 2]\n",
    "new_df = df.reindex(reindex)\n",
    "\n",
    "print(\"Output for new_df.loc[2]:\")\n",
    "print(new_df.loc[2])\n",
    "\n",
    "print(\"Output for new_df.iloc[2]:\")\n",
    "print(new_df.iloc[2])\n",
    "\n",
    "# The difference in outputs is that new_df.loc[2] will access the row with label 2, which is 'Machine Learning' with duration 3, while new_df.iloc[2] will access the row at integer position 2, which is 'Data Engineer' with duration 4."
   ]
  },
  {
   "cell_type": "code",
   "execution_count": null,
   "id": "26e888de-9dc1-4e06-ae07-999d60d4fa7b",
   "metadata": {},
   "outputs": [],
   "source": [
    "## Q4. \n",
    "\n",
    "import pandas as pd\n",
    "import numpy as np\n",
    "\n",
    "columns = ['column_1', 'column_2', 'column_3', 'column_4', 'column_5', 'column_6']\n",
    "indices = [1, 2, 3, 4, 5, 6]\n",
    "df1 = pd.DataFrame(np.random.rand(6, 6), columns=columns, index=indices)\n",
    "\n",
    "print(\"Mean of each column:\")\n",
    "print(df1.mean())\n",
    "\n",
    "print(\"\\nStandard deviation of column 'column_2':\")\n",
    "print(df1['column_2'].std())"
   ]
  },
  {
   "cell_type": "code",
   "execution_count": null,
   "id": "61d4298e-e6d5-4a8b-b6ad-27377e9a2dc5",
   "metadata": {},
   "outputs": [],
   "source": [
    "## Q5.\n",
    "# To replace the data present in the second row of column 'column_2' by a string variable and find the mean of column 'column_2':\n",
    "\n",
    "df1.loc[2, 'column_2'] = 'string_data'\n",
    "# Attempting to calculate mean after replacing numeric data with a string will result in an error.\n",
    "\n",
    "# This would result in an error because you can't calculate the mean of a column containing string values.\n"
   ]
  },
  {
   "cell_type": "markdown",
   "id": "0b160a2d-0804-4b69-93c5-d50b9e17abb8",
   "metadata": {},
   "source": [
    "## Q6.\n",
    "Windows functions in pandas are used for calculations over a sliding window of fixed size, providing rolling computations. Types of windows functions include rolling, expanding, and exponential moving window functions."
   ]
  },
  {
   "cell_type": "code",
   "execution_count": null,
   "id": "2dda066c-2c22-46be-9095-f4889e0d8be5",
   "metadata": {},
   "outputs": [],
   "source": [
    "## Q7. \n",
    "\n",
    "import pandas as pd\n",
    "\n",
    "current_date = pd.to_datetime('today')\n",
    "print(\"Current month and year:\", current_date.strftime('%B %Y'))"
   ]
  },
  {
   "cell_type": "code",
   "execution_count": null,
   "id": "257cdcfe-6730-4dc0-9920-f784ee86e985",
   "metadata": {},
   "outputs": [],
   "source": [
    "## Q8. \n",
    "\n",
    "import pandas as pd\n",
    "\n",
    "date1 = pd.to_datetime(input(\"Enter the first date (YYYY-MM-DD): \"))\n",
    "date2 = pd.to_datetime(input(\"Enter the second date (YYYY-MM-DD): \"))\n",
    "\n",
    "delta = date2 - date1\n",
    "\n",
    "print(\"Difference:\")\n",
    "print(\"Days:\", delta.days)\n",
    "print(\"Hours:\", delta.seconds // 3600)\n",
    "print(\"Minutes:\", (delta.seconds // 60) % 60)"
   ]
  },
  {
   "cell_type": "code",
   "execution_count": null,
   "id": "d8f3b6f6-9064-481b-889f-09b4a40b5a81",
   "metadata": {},
   "outputs": [],
   "source": [
    "## Q9. \n",
    "import pandas as pd\n",
    "\n",
    "file_path = input(\"Enter the file path: \")\n",
    "column_name = input(\"Enter the column name: \")\n",
    "category_order = input(\"Enter the category order (comma-separated): \").split(',')\n",
    "\n",
    "df = pd.read_csv(file_path)\n",
    "df[column_name] = pd.Categorical(df[column_name], categories=category_order, ordered=True)\n",
    "print(df.sort_values(column_name))"
   ]
  },
  {
   "cell_type": "code",
   "execution_count": null,
   "id": "6ec1ca67-35d0-4257-8ddd-7138020ffc91",
   "metadata": {},
   "outputs": [],
   "source": [
    "## Q10. \n",
    "\n",
    "import pandas as pd\n",
    "import matplotlib.pyplot as plt\n",
    "\n",
    "file_path = input(\"Enter the file path: \")\n",
    "df = pd.read_csv(file_path)\n",
    "\n",
    "df.plot(kind='bar', stacked=True)\n",
    "plt.xlabel('Time')\n",
    "plt.ylabel('Sales')\n",
    "plt.title('Sales of Products Over Time')\n",
    "plt.show()"
   ]
  },
  {
   "cell_type": "code",
   "execution_count": null,
   "id": "5fb4e1e8-eade-49eb-b52a-13208b7cd448",
   "metadata": {},
   "outputs": [],
   "source": [
    "## Q11. \n",
    "\n",
    "import pandas as pd\n",
    "\n",
    "file_path = input(\"Enter the file path of the CSV file containing the student data: \")\n",
    "df = pd.read_csv(file_path)\n",
    "\n",
    "mean_score = df['Test Score'].mean()\n",
    "median_score = df['Test Score'].median()\n",
    "mode_scores = df['Test Score'].mode()\n",
    "\n",
    "print(\"| Mean      | {:.1f}   |\".format(mean_score))\n",
    "print(\"| Median    | {}  |\".format(median_score))\n",
    "print(\"| Mode      | {} |\".format(', '.join(map(str, mode_scores))))"
   ]
  },
  {
   "cell_type": "code",
   "execution_count": null,
   "id": "307cbd16-434c-428c-9eae-014785ba788a",
   "metadata": {},
   "outputs": [],
   "source": []
  }
 ],
 "metadata": {
  "kernelspec": {
   "display_name": "Python 3 (ipykernel)",
   "language": "python",
   "name": "python3"
  },
  "language_info": {
   "codemirror_mode": {
    "name": "ipython",
    "version": 3
   },
   "file_extension": ".py",
   "mimetype": "text/x-python",
   "name": "python",
   "nbconvert_exporter": "python",
   "pygments_lexer": "ipython3",
   "version": "3.10.8"
  }
 },
 "nbformat": 4,
 "nbformat_minor": 5
}
