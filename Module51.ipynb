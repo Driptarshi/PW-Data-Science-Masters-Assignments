{
 "cells": [
  {
   "cell_type": "code",
   "execution_count": 2,
   "id": "155aacb5-0923-4e20-bcdb-dfcfabf39ed6",
   "metadata": {},
   "outputs": [
    {
     "name": "stdout",
     "output_type": "stream",
     "text": [
      "(4.042105263157895, 0.08541047042576122)\n"
     ]
    }
   ],
   "source": [
    "## Q1. F-value for a Variance Ratio Test\n",
    "import numpy as np\n",
    "import scipy.stats as stats\n",
    "\n",
    "def f_test(data1, data2):\n",
    "    # Calculate variances\n",
    "    var1 = np.var(data1, ddof=1)\n",
    "    var2 = np.var(data2, ddof=1)\n",
    "    \n",
    "    # Calculate F-value\n",
    "    f_value = var1 / var2 if var1 >= var2 else var2 / var1\n",
    "    \n",
    "    # Calculate degrees of freedom\n",
    "    dfn = len(data1) - 1\n",
    "    dfd = len(data2) - 1\n",
    "    \n",
    "    # Calculate p-value\n",
    "    p_value = 1 - stats.f.cdf(f_value, dfn, dfd)\n",
    "    p_value *= 2  # Two-tailed test\n",
    "    \n",
    "    return f_value, p_value\n",
    "\n",
    "# Example usage\n",
    "data1 = [10, 12, 23, 23, 16, 23, 21, 16]\n",
    "data2 = [9, 11, 15, 15, 16, 10, 12, 14]\n",
    "print(f_test(data1, data2))\n"
   ]
  },
  {
   "cell_type": "code",
   "execution_count": 4,
   "id": "eceeb9d3-9f8f-4932-a25d-bf3aa5ad6fc1",
   "metadata": {},
   "outputs": [
    {
     "name": "stdout",
     "output_type": "stream",
     "text": [
      "3.060196851411249\n"
     ]
    }
   ],
   "source": [
    "## Q2. Critical F-value for a Two-Tailed Test\n",
    "\n",
    "def critical_f_value(alpha, dfn, dfd):\n",
    "    critical_value = stats.f.ppf(1 - alpha / 2, dfn, dfd)\n",
    "    return critical_value\n",
    "\n",
    "# Example usage\n",
    "alpha = 0.05\n",
    "dfn = 10\n",
    "dfd = 15\n",
    "print(critical_f_value(alpha, dfn, dfd))\n"
   ]
  },
  {
   "cell_type": "code",
   "execution_count": 5,
   "id": "3ce1ee11-200e-4da2-ae40-b7cb90b287a3",
   "metadata": {},
   "outputs": [
    {
     "name": "stdout",
     "output_type": "stream",
     "text": [
      "(1.6054424447517857, 29, 29, 0.2084092012966121)\n"
     ]
    }
   ],
   "source": [
    "## Q3. F-test with Random Samples\n",
    "\n",
    "import numpy as np\n",
    "\n",
    "def generate_samples_and_test():\n",
    "    # Generate random samples\n",
    "    np.random.seed(42)\n",
    "    sample1 = np.random.normal(loc=0, scale=np.sqrt(10), size=30)\n",
    "    sample2 = np.random.normal(loc=0, scale=np.sqrt(15), size=30)\n",
    "    \n",
    "    # Perform F-test\n",
    "    f_value, p_value = f_test(sample1, sample2)\n",
    "    \n",
    "    # Degrees of freedom\n",
    "    dfn = len(sample1) - 1\n",
    "    dfd = len(sample2) - 1\n",
    "    \n",
    "    return f_value, dfn, dfd, p_value\n",
    "\n",
    "print(generate_samples_and_test())"
   ]
  },
  {
   "cell_type": "code",
   "execution_count": 6,
   "id": "4736a551-6e2c-4ba0-bc0d-99b563b4bd48",
   "metadata": {},
   "outputs": [
    {
     "name": "stdout",
     "output_type": "stream",
     "text": [
      "(0.6666666666666666, 3.473699051085809, False)\n"
     ]
    }
   ],
   "source": [
    "## Q4. F-test with Known Variances\n",
    "\n",
    "def f_test_known_variances(var1, var2, n1, n2, alpha):\n",
    "    f_value = var1 / var2\n",
    "    dfn = n1 - 1\n",
    "    dfd = n2 - 1\n",
    "    \n",
    "    critical_value = stats.f.ppf(1 - alpha / 2, dfn, dfd)\n",
    "    \n",
    "    return f_value, critical_value, f_value > critical_value\n",
    "\n",
    "# Given data\n",
    "var1 = 10\n",
    "var2 = 15\n",
    "n1 = 12\n",
    "n2 = 12\n",
    "alpha = 0.05\n",
    "\n",
    "print(f_test_known_variances(var1, var2, n1, n2, alpha))"
   ]
  },
  {
   "cell_type": "code",
   "execution_count": 7,
   "id": "78ae51a8-5366-4f78-89a5-7bfbba616c7a",
   "metadata": {},
   "outputs": [
    {
     "name": "stdout",
     "output_type": "stream",
     "text": [
      "(1.2, 0.3293654682817244)\n"
     ]
    }
   ],
   "source": [
    "## Q5. F-test for Variance Claim\n",
    "\n",
    "def f_test_variance_claim(sample_variance, claimed_variance, n, alpha):\n",
    "    f_value = sample_variance / claimed_variance\n",
    "    dfn = n - 1\n",
    "    dfd = n - 1\n",
    "    \n",
    "    p_value = 1 - stats.f.cdf(f_value, dfn, dfd)\n",
    "    \n",
    "    return f_value, p_value\n",
    "\n",
    "# Given data\n",
    "sample_variance = 0.006\n",
    "claimed_variance = 0.005\n",
    "n = 25\n",
    "alpha = 0.01\n",
    "\n",
    "print(f_test_variance_claim(sample_variance, claimed_variance, n, alpha))"
   ]
  },
  {
   "cell_type": "code",
   "execution_count": 8,
   "id": "ff1eac0e-01c0-4957-9d4c-f264bdbf7456",
   "metadata": {},
   "outputs": [
    {
     "name": "stdout",
     "output_type": "stream",
     "text": [
      "(1.1538461538461537, 0.556750941366326)\n"
     ]
    }
   ],
   "source": [
    "## Q6. Mean and Variance of an F-distribution\n",
    "\n",
    "def f_distribution_mean_variance(dfn, dfd):\n",
    "    if dfd > 2:\n",
    "        mean = dfd / (dfd - 2)\n",
    "    else:\n",
    "        mean = float('inf')\n",
    "    \n",
    "    if dfd > 4:\n",
    "        variance = (2 * (dfd ** 2) * (dfn + dfd - 2)) / (dfn * ((dfd - 2) ** 2) * (dfd - 4))\n",
    "    else:\n",
    "        variance = float('inf')\n",
    "    \n",
    "    return mean, variance\n",
    "\n",
    "# Example usage\n",
    "dfn = 10\n",
    "dfd = 15\n",
    "print(f_distribution_mean_variance(dfn, dfd))"
   ]
  },
  {
   "cell_type": "code",
   "execution_count": 9,
   "id": "dae9374d-5376-42b3-80ae-5d7455f8fc73",
   "metadata": {},
   "outputs": [
    {
     "name": "stdout",
     "output_type": "stream",
     "text": [
      "(1.25, 2.6457907352338195, False)\n"
     ]
    }
   ],
   "source": [
    "## Q7. F-test for Sample Variances\n",
    "\n",
    "# Given data\n",
    "var1 = 25\n",
    "var2 = 20\n",
    "n1 = 10\n",
    "n2 = 15\n",
    "alpha = 0.10\n",
    "\n",
    "print(f_test_known_variances(var1, var2, n1, n2, alpha))"
   ]
  },
  {
   "cell_type": "code",
   "execution_count": 10,
   "id": "291cc93e-9e66-4687-ab40-32602c07fcdd",
   "metadata": {},
   "outputs": [
    {
     "name": "stdout",
     "output_type": "stream",
     "text": [
      "(1.4551907719609583, 0.6974815747937484)\n"
     ]
    }
   ],
   "source": [
    "## Q8. F-test for Waiting Times at Restaurants\n",
    "\n",
    "# Given data\n",
    "data1 = [24, 25, 28, 23, 22, 20, 27]\n",
    "data2 = [31, 33, 35, 30, 32, 36]\n",
    "alpha = 0.05\n",
    "\n",
    "print(f_test(data1, data2))"
   ]
  },
  {
   "cell_type": "code",
   "execution_count": 11,
   "id": "2ba5f073-c7a7-4ad6-8812-3f72ad28ea58",
   "metadata": {},
   "outputs": [
    {
     "name": "stdout",
     "output_type": "stream",
     "text": [
      "(1.9442622950819677, 0.4831043549070688)\n"
     ]
    }
   ],
   "source": [
    "## Q9. F-test for Test Scores of Students\n",
    "\n",
    "# Given data\n",
    "data1 = [80, 85, 90, 92, 87, 83]\n",
    "data2 = [75, 78, 82, 79, 81, 84]\n",
    "alpha = 0.01\n",
    "\n",
    "print(f_test(data1, data2))"
   ]
  },
  {
   "cell_type": "code",
   "execution_count": null,
   "id": "3a9e75ab-0056-4b21-b573-e7073f4d7a65",
   "metadata": {},
   "outputs": [],
   "source": []
  }
 ],
 "metadata": {
  "kernelspec": {
   "display_name": "Python 3 (ipykernel)",
   "language": "python",
   "name": "python3"
  },
  "language_info": {
   "codemirror_mode": {
    "name": "ipython",
    "version": 3
   },
   "file_extension": ".py",
   "mimetype": "text/x-python",
   "name": "python",
   "nbconvert_exporter": "python",
   "pygments_lexer": "ipython3",
   "version": "3.10.8"
  }
 },
 "nbformat": 4,
 "nbformat_minor": 5
}
