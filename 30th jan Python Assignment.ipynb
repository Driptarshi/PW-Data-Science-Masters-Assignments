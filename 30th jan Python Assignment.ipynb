{
 "cells": [
  {
   "cell_type": "markdown",
   "id": "76b1207a-2e96-402d-80ea-5e23d7696c5f",
   "metadata": {},
   "source": [
    "### Q1."
   ]
  },
  {
   "cell_type": "code",
   "execution_count": 1,
   "id": "0d56c503-cf02-44fa-9ba5-77d87ef88935",
   "metadata": {},
   "outputs": [
    {
     "name": "stdin",
     "output_type": "stream",
     "text": [
      "Percentage 99\n"
     ]
    },
    {
     "name": "stdout",
     "output_type": "stream",
     "text": [
      "Grade A\n"
     ]
    }
   ],
   "source": [
    "Marks=int(input(\"Percentage\"))\n",
    "if Marks>90:\n",
    "    print(\"Grade A\")\n",
    "elif Marks>80 and Marks<=90:\n",
    "    print(\"Grade B\")\n",
    "elif Marks>=60 and Marks<=80:\n",
    "    print(\"Grade C\")\n",
    "else:\n",
    "    print(\"Grade D\")"
   ]
  },
  {
   "cell_type": "markdown",
   "id": "07e856fa-b8d1-4a04-81fe-7c70cc648b65",
   "metadata": {},
   "source": [
    "### Q2."
   ]
  },
  {
   "cell_type": "code",
   "execution_count": 2,
   "id": "15df099c-7618-4eae-a08c-c1d0910d10e5",
   "metadata": {},
   "outputs": [
    {
     "name": "stdin",
     "output_type": "stream",
     "text": [
      "Cost price of Bike: 1000000\n"
     ]
    },
    {
     "name": "stdout",
     "output_type": "stream",
     "text": [
      "Road Tax applicable: 15%\n",
      "Final amount to be paid: 1150000.0\n"
     ]
    }
   ],
   "source": [
    "cost_price=int(input(\"Cost price of Bike:\"))\n",
    "if cost_price>100000:\n",
    "    print(\"Road Tax applicable: 15%\")\n",
    "    print(\"Final amount to be paid:\",cost_price+(15/100)*cost_price)\n",
    "elif cost_price>50000 and cost_price<=100000:\n",
    "    print(\"Tax applicable: 10%\")\n",
    "    print(\"Final amount to be paid:\",cost_price+(10/100)*cost_price)\n",
    "else:\n",
    "    print(\"Road Tax applicable: 5%\")\n",
    "    print(\"Final amount to be paid:\",cost_price+(5/100)*cost_price)"
   ]
  },
  {
   "cell_type": "markdown",
   "id": "e0234495-2595-4613-91dc-7c12e75aa16b",
   "metadata": {},
   "source": [
    "### Q3."
   ]
  },
  {
   "cell_type": "code",
   "execution_count": 3,
   "id": "50d2d1d4-6cba-428b-870c-7ed0cca0ec29",
   "metadata": {},
   "outputs": [
    {
     "name": "stdin",
     "output_type": "stream",
     "text": [
      "City: Delhi\n"
     ]
    },
    {
     "name": "stdout",
     "output_type": "stream",
     "text": [
      "Monument of Delhi is Red Fort.\n"
     ]
    }
   ],
   "source": [
    "city=str(input(\"City:\"))\n",
    "if city==\"Delhi\":\n",
    "    print(\"Monument of\",city,\"is Red Fort.\")\n",
    "if city==\"Agra\":\n",
    "    print(\"Monument of\",city,\"is Taj Mahal.\")\n",
    "if city==\"Jaipur\":\n",
    "    print(\"Monument of\",city,\"is Jal Mahal.\")"
   ]
  },
  {
   "cell_type": "markdown",
   "id": "7ad25be7-a689-406c-8c20-5fb4bc4dc7bd",
   "metadata": {},
   "source": [
    "### Q4."
   ]
  },
  {
   "cell_type": "code",
   "execution_count": 4,
   "id": "712eedb7-610a-4154-9f8c-68238a148627",
   "metadata": {},
   "outputs": [
    {
     "name": "stdin",
     "output_type": "stream",
     "text": [
      "Enter the number 99\n"
     ]
    },
    {
     "name": "stdout",
     "output_type": "stream",
     "text": [
      "The number can be divided by three 3 times before it is less than or equals to 10\n"
     ]
    }
   ],
   "source": [
    "n=int(input(\"Enter the number\"))\n",
    "count=0\n",
    "while n>10:\n",
    "    n=n/3\n",
    "    count=count+1\n",
    "print(\"The number can be divided by three\",count,\"times before it is less than or equals to 10\")"
   ]
  },
  {
   "cell_type": "markdown",
   "id": "b5d38f93-c1ab-48fe-bbfd-bbb453cf5cd1",
   "metadata": {},
   "source": [
    "### Q5."
   ]
  },
  {
   "cell_type": "markdown",
   "id": "c6e4e007-5754-4e99-83f9-a264297d3640",
   "metadata": {},
   "source": [
    "Python while loop is used to run a block code until a certain condition is met. Here, A while loop evaluates the condition. If the condition evaluates to True , the code inside the while loop is executed.\n",
    "\n",
    "A \"While\" Loop is used to repeat a specific block of code an unknown number of times, until a condition is met. For example, if we want to ask a user for a number between 1 and 10, we don't know how many times the user may enter a larger number, so we keep asking \"while the number is not between 1 and 10\""
   ]
  },
  {
   "cell_type": "code",
   "execution_count": 5,
   "id": "aad5fa28-e287-4269-a0da-f8f6fa96a05a",
   "metadata": {},
   "outputs": [
    {
     "name": "stdout",
     "output_type": "stream",
     "text": [
      "1\n",
      "2\n",
      "3\n",
      "4\n",
      "5\n",
      "6\n",
      "7\n",
      "8\n",
      "9\n",
      "10\n"
     ]
    }
   ],
   "source": [
    "n=1\n",
    "while(n<=10):\n",
    "    print(n)\n",
    "    n=n+1"
   ]
  },
  {
   "cell_type": "markdown",
   "id": "11984a6d-72db-4aa0-ba9c-7e8666075c57",
   "metadata": {},
   "source": [
    "### Q6."
   ]
  },
  {
   "cell_type": "code",
   "execution_count": 6,
   "id": "182682ea-27da-4257-8b3a-f3ac8898baf5",
   "metadata": {},
   "outputs": [
    {
     "name": "stdout",
     "output_type": "stream",
     "text": [
      "* * * * * \n",
      "* * * * * \n",
      "* * * * * \n",
      "* * * * * \n"
     ]
    }
   ],
   "source": [
    "# Pattern 1\n",
    "# * * * * *\n",
    "# * * * * *\n",
    "# * * * * *\n",
    "# * * * * *\n",
    "i=1\n",
    "while(i<5):\n",
    "    j=1\n",
    "    while(j<=5):\n",
    "        print(\"*\",end=\" \")\n",
    "        j=j+1\n",
    "    print(\"\")\n",
    "    i=i+1"
   ]
  },
  {
   "cell_type": "code",
   "execution_count": 7,
   "id": "4d716e53-fd26-445e-84db-e83be9b1665a",
   "metadata": {},
   "outputs": [
    {
     "name": "stdout",
     "output_type": "stream",
     "text": [
      "* \n",
      "* * \n",
      "* * * \n",
      "* * * * \n"
     ]
    }
   ],
   "source": [
    "# Pattern 2\n",
    "# *\n",
    "# * *\n",
    "# * * *\n",
    "# * * * *\n",
    "i=0\n",
    "while(i<4):\n",
    "    j=0\n",
    "    while(j<=i):\n",
    "        print(\"*\",end=\" \")\n",
    "        j=j+1\n",
    "    i=i+1\n",
    "    print()"
   ]
  },
  {
   "cell_type": "code",
   "execution_count": 8,
   "id": "2f8f1dd6-ea23-4f9f-ace5-235916c4b886",
   "metadata": {},
   "outputs": [
    {
     "name": "stdout",
     "output_type": "stream",
     "text": [
      "0 \n",
      "0 1 \n",
      "0 1 2 \n",
      "0 1 2 3 \n"
     ]
    }
   ],
   "source": [
    "# Pattern 3\n",
    "# 0\n",
    "# 0 1\n",
    "# 0 1 2\n",
    "# 0 1 2 3\n",
    "i=0\n",
    "while(i<4):\n",
    "    j=0\n",
    "    while(j<=i):\n",
    "        print(j,end=\" \")\n",
    "        j=j+1\n",
    "    i=i+1\n",
    "    print()"
   ]
  },
  {
   "cell_type": "markdown",
   "id": "b55b1ce5-cba1-4bea-ace2-53096df66256",
   "metadata": {},
   "source": [
    "### Q7."
   ]
  },
  {
   "cell_type": "code",
   "execution_count": 9,
   "id": "26959aee-df76-4082-9bca-cce4320326df",
   "metadata": {},
   "outputs": [
    {
     "name": "stdout",
     "output_type": "stream",
     "text": [
      "10\n",
      "9\n",
      "8\n",
      "7\n",
      "6\n",
      "5\n",
      "4\n",
      "3\n",
      "2\n",
      "1\n"
     ]
    }
   ],
   "source": [
    "i=10\n",
    "while(i>=1):\n",
    "    print(i)\n",
    "    i=i-1"
   ]
  },
  {
   "cell_type": "markdown",
   "id": "95c164c0-c788-4fd7-b283-9408b0ff3d8b",
   "metadata": {},
   "source": [
    "### Q8."
   ]
  },
  {
   "cell_type": "code",
   "execution_count": 10,
   "id": "04866144-4364-4bd7-a3cb-b57acb458cfb",
   "metadata": {},
   "outputs": [
    {
     "name": "stdout",
     "output_type": "stream",
     "text": [
      "10\n",
      "9\n",
      "8\n",
      "7\n",
      "6\n",
      "5\n",
      "4\n",
      "3\n",
      "2\n",
      "1\n"
     ]
    }
   ],
   "source": [
    "i=10\n",
    "while(i>0):\n",
    "    print(i)\n",
    "    i=i-1"
   ]
  },
  {
   "cell_type": "code",
   "execution_count": null,
   "id": "e4ab8a87-b074-4c66-9a02-55e1975b744e",
   "metadata": {},
   "outputs": [],
   "source": []
  }
 ],
 "metadata": {
  "kernelspec": {
   "display_name": "Python 3 (ipykernel)",
   "language": "python",
   "name": "python3"
  },
  "language_info": {
   "codemirror_mode": {
    "name": "ipython",
    "version": 3
   },
   "file_extension": ".py",
   "mimetype": "text/x-python",
   "name": "python",
   "nbconvert_exporter": "python",
   "pygments_lexer": "ipython3",
   "version": "3.10.8"
  }
 },
 "nbformat": 4,
 "nbformat_minor": 5
}
