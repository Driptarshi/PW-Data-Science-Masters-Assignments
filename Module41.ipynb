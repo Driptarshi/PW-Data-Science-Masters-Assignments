{
 "cells": [
  {
   "cell_type": "code",
   "execution_count": null,
   "id": "89d964bb-3851-4ae8-b81a-b9ae014e8691",
   "metadata": {},
   "outputs": [],
   "source": [
    "## Q1. Scatter Plot for Age and Fare Columns in the Titanic Dataset\n",
    "\n",
    "import seaborn as sns\n",
    "import plotly.express as px\n",
    "\n",
    "# Load the Titanic dataset\n",
    "titanic = sns.load_dataset('titanic')\n",
    "\n",
    "# Create a scatter plot for age and fare\n",
    "fig = px.scatter(titanic, x='age', y='fare', title='Age vs Fare Scatter Plot')\n",
    "fig.show()"
   ]
  },
  {
   "cell_type": "code",
   "execution_count": null,
   "id": "f8cb3dcf-8319-49ca-905b-e500dba12601",
   "metadata": {},
   "outputs": [],
   "source": [
    "## Q2. Box Plot Using the Tips Dataset\n",
    "\n",
    "import plotly.express as px\n",
    "\n",
    "# Load the Tips dataset\n",
    "tips = px.data.tips()\n",
    "\n",
    "# Create a box plot\n",
    "fig = px.box(tips, x='day', y='total_bill', title='Total Bill by Day Box Plot')\n",
    "fig.show()"
   ]
  },
  {
   "cell_type": "code",
   "execution_count": null,
   "id": "e555d472-1b59-48fb-a032-6e95e9f209bc",
   "metadata": {},
   "outputs": [],
   "source": [
    "## Q3. Histogram for Sex and Total Bill, Using Smoker and Day Columns\n",
    "\n",
    "# Create a histogram\n",
    "fig = px.histogram(tips, x='sex', y='total_bill', color='day', pattern_shape='smoker', title='Total Bill Distribution by Sex, Smoker, and Day')\n",
    "fig.show()"
   ]
  },
  {
   "cell_type": "code",
   "execution_count": null,
   "id": "fef06956-0641-4412-a9f8-fb930b9c8b9c",
   "metadata": {},
   "outputs": [],
   "source": [
    "# Q4. Scatter Matrix Plot Using the Iris Dataset\n",
    "\n",
    "python\n",
    "# Load the Iris dataset\n",
    "iris = px.data.iris()\n",
    "\n",
    "# Create a scatter matrix plot\n",
    "fig = px.scatter_matrix(iris,\n",
    "                        dimensions=['sepal_length', 'sepal_width', 'petal_length', 'petal_width'],\n",
    "                        color='species',\n",
    "                        title='Scatter Matrix of Iris Dataset')\n",
    "fig.show()"
   ]
  },
  {
   "cell_type": "code",
   "execution_count": null,
   "id": "67f3208d-9fdf-4e44-a827-411be5ad0e13",
   "metadata": {},
   "outputs": [],
   "source": [
    "# Q5. What is Distplot? Using Plotly Express, Plot a Distplot\n",
    "\n",
    "A distplot is a combination of a histogram and a kernel density estimate (KDE) plot. It shows the distribution of a dataset and provides insight into the density and distribution of the data points.\n",
    "\n",
    "python\n",
    "# Create a distplot\n",
    "fig = px.histogram(tips, x='total_bill', marginal='rug', title='Distribution of Total Bill')\n",
    "fig.show()"
   ]
  }
 ],
 "metadata": {
  "kernelspec": {
   "display_name": "Python 3 (ipykernel)",
   "language": "python",
   "name": "python3"
  },
  "language_info": {
   "codemirror_mode": {
    "name": "ipython",
    "version": 3
   },
   "file_extension": ".py",
   "mimetype": "text/x-python",
   "name": "python",
   "nbconvert_exporter": "python",
   "pygments_lexer": "ipython3",
   "version": "3.10.8"
  }
 },
 "nbformat": 4,
 "nbformat_minor": 5
}
