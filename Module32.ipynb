{
 "cells": [
  {
   "cell_type": "code",
   "execution_count": 1,
   "id": "4548581a-9a11-414f-af6a-a361a9c7941e",
   "metadata": {},
   "outputs": [
    {
     "name": "stdout",
     "output_type": "stream",
     "text": [
      "[]\n"
     ]
    }
   ],
   "source": [
    "## Q1: Extract the video URL of the first five videos\n",
    "\n",
    "import requests\n",
    "from bs4 import BeautifulSoup\n",
    "\n",
    "url = \"https://www.youtube.com/@PW-Foundation/videos\"\n",
    "\n",
    "response = requests.get(url)\n",
    "soup = BeautifulSoup(response.content, \"html.parser\")\n",
    "\n",
    "video_urls = []\n",
    "for link in soup.find_all(\"a\", {\"id\": \"video-title\"}):\n",
    "    video_urls.append(\"https://www.youtube.com\" + link[\"href\"])\n",
    "\n",
    "print(video_urls[:5])"
   ]
  },
  {
   "cell_type": "code",
   "execution_count": 2,
   "id": "1b68183d-eedb-453d-8e46-31553065e619",
   "metadata": {},
   "outputs": [
    {
     "name": "stdout",
     "output_type": "stream",
     "text": [
      "[]\n"
     ]
    }
   ],
   "source": [
    "# Q2: Extract the URL of the video thumbnails of the first five videos\n",
    "\n",
    "import requests\n",
    "from bs4 import BeautifulSoup\n",
    "\n",
    "url = \"https://www.youtube.com/@PW-Foundation/videos\"\n",
    "\n",
    "response = requests.get(url)\n",
    "soup = BeautifulSoup(response.content, \"html.parser\")\n",
    "\n",
    "thumbnails = []\n",
    "for thumb in soup.find_all(\"img\", {\"class\": \"style-scope yt-img-shadow\"}):\n",
    "    thumbnails.append(thumb[\"src\"])\n",
    "\n",
    "print(thumbnails[:5])"
   ]
  },
  {
   "cell_type": "code",
   "execution_count": 3,
   "id": "18d20522-46c0-49fc-ade2-4d58bcb15c65",
   "metadata": {},
   "outputs": [
    {
     "name": "stdout",
     "output_type": "stream",
     "text": [
      "[]\n"
     ]
    }
   ],
   "source": [
    "# Q3: Extract the title of the first five videos\n",
    "\n",
    "import requests\n",
    "from bs4 import BeautifulSoup\n",
    "\n",
    "url = \"https://www.youtube.com/@PW-Foundation/videos\"\n",
    "\n",
    "response = requests.get(url)\n",
    "soup = BeautifulSoup(response.content, \"html.parser\")\n",
    "\n",
    "titles = []\n",
    "for title in soup.find_all(\"a\", {\"id\": \"video-title\"}):\n",
    "    titles.append(title.text.strip())\n",
    "\n",
    "print(titles[:5])"
   ]
  },
  {
   "cell_type": "code",
   "execution_count": 4,
   "id": "e1b89c90-9909-4ed3-80e4-2b211688ab61",
   "metadata": {},
   "outputs": [
    {
     "name": "stdout",
     "output_type": "stream",
     "text": [
      "[]\n"
     ]
    }
   ],
   "source": [
    "# Q4: Extract the number of views of the first five videos\n",
    "\n",
    "import requests\n",
    "from bs4 import BeautifulSoup\n",
    "\n",
    "url = \"https://www.youtube.com/@PW-Foundation/videos\"\n",
    "\n",
    "response = requests.get(url)\n",
    "soup = BeautifulSoup(response.content, \"html.parser\")\n",
    "\n",
    "views = []\n",
    "for view in soup.find_all(\"span\", {\"class\": \"style-scope ytd-grid-video-renderer\"}):\n",
    "    views.append(view.text.strip())\n",
    "\n",
    "print(views[:5])"
   ]
  },
  {
   "cell_type": "code",
   "execution_count": 5,
   "id": "f0c71f30-71b0-4c7d-a927-513dad21186d",
   "metadata": {},
   "outputs": [
    {
     "name": "stdout",
     "output_type": "stream",
     "text": [
      "[]\n"
     ]
    }
   ],
   "source": [
    "# Q5: Extract the time of posting of video for the first five videos\n",
    "\n",
    "import requests\n",
    "from bs4 import BeautifulSoup\n",
    "\n",
    "url = \"https://www.youtube.com/@PW-Foundation/videos\"\n",
    "\n",
    "response = requests.get(url)\n",
    "soup = BeautifulSoup(response.content, \"html.parser\")\n",
    "\n",
    "post_times = []\n",
    "for time in soup.find_all(\"span\", {\"class\": \"style-scope ytd-grid-video-renderer\"}):\n",
    "    post_times.append(time.text.strip())\n",
    "\n",
    "print(post_times[:5])"
   ]
  },
  {
   "cell_type": "code",
   "execution_count": null,
   "id": "5fedcc49-8c74-45a9-849b-ff0434adbdfc",
   "metadata": {},
   "outputs": [],
   "source": []
  }
 ],
 "metadata": {
  "kernelspec": {
   "display_name": "Python 3 (ipykernel)",
   "language": "python",
   "name": "python3"
  },
  "language_info": {
   "codemirror_mode": {
    "name": "ipython",
    "version": 3
   },
   "file_extension": ".py",
   "mimetype": "text/x-python",
   "name": "python",
   "nbconvert_exporter": "python",
   "pygments_lexer": "ipython3",
   "version": "3.10.8"
  }
 },
 "nbformat": 4,
 "nbformat_minor": 5
}
