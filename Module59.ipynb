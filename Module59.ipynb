{
 "cells": [
  {
   "cell_type": "markdown",
   "id": "64c1c4b0-0749-4121-b845-a151145f08e3",
   "metadata": {},
   "source": [
    "## Q1. Pearson Correlation Coefficient\n",
    "To calculate the Pearson correlation coefficient between the amount of time students spend studying for an exam and their final exam scores, you can use the following formula:\n",
    "\n",
    "\\[ r = \\frac{\\sum (X - \\bar{X})(Y - \\bar{Y})}{\\sqrt{\\sum (X - \\bar{X})^2 \\sum (Y - \\bar{Y})^2}} \\]\n",
    "\n",
    "Where:\n",
    "- \\( X \\) is the amount of time spent studying\n",
    "- \\( Y \\) is the final exam score\n",
    "- \\( \\bar{X} \\) and \\( \\bar{Y} \\) are the means of \\( X \\) and \\( Y \\)\n",
    "\n",
    "The Pearson correlation coefficient (r) will be a value between -1 and 1 that indicates the strength and direction of the linear relationship between the two variables."
   ]
  },
  {
   "cell_type": "markdown",
   "id": "f2dedb24-e542-4ec2-a991-05cae8f2ceeb",
   "metadata": {},
   "source": [
    "## Q2. Spearman's Rank Correlation\n",
    "Spearman's rank correlation is calculated using the ranks of the data rather than the raw data itself. The formula for Spearman's rank correlation coefficient (ρ) is:\n",
    "\n",
    "\\[ \\rho = 1 - \\frac{6 \\sum d_i^2}{n(n^2 - 1)} \\]\n",
    "\n",
    "Where:\n",
    "- \\( d_i \\) is the difference between the ranks of corresponding values of \\( X \\) and \\( Y \\)\n",
    "- \\( n \\) is the number of observations"
   ]
  },
  {
   "cell_type": "markdown",
   "id": "7746e0dc-3b62-435c-b5fd-294cbd8341de",
   "metadata": {},
   "source": [
    "## Q3. Relationship between Hours of Exercise and BMI\n",
    "To examine the relationship between the number of hours of exercise per week and BMI:\n",
    "1. Calculate the Pearson correlation coefficient.\n",
    "2. Calculate the Spearman's rank correlation coefficient.\n",
    "3. Compare the results to see if the relationship is linear or monotonic."
   ]
  },
  {
   "cell_type": "markdown",
   "id": "f800d3a7-abd4-4d80-b970-b9f6afb48375",
   "metadata": {},
   "source": [
    "## Q4. Television Watching and Physical Activity\n",
    "Calculate the Pearson correlation coefficient between the number of hours individuals spend watching television per day and their level of physical activity using the formula from Q1."
   ]
  },
  {
   "cell_type": "markdown",
   "id": "894b69f2-0dd3-4e8a-a615-f71aab96da19",
   "metadata": {},
   "source": [
    "## Q5. Relationship between Age and Soft Drink Preference\n",
    "This question involves a categorical variable (soft drink preference) and a numerical variable (age). To analyze this:\n",
    "1. Encode the soft drink preferences numerically (e.g., Coke = 1, Pepsi = 2, Mountain Dew = 3).\n",
    "2. Calculate the Pearson correlation coefficient using the encoded values and ages.\n",
    "\n",
    "Given data:\n",
    "| Age (Years) | Soft drink Preference |\n",
    "|-------------|-----------------------|\n",
    "| 25          | Coke                  |\n",
    "| 42          | Pepsi                 |\n",
    "| 37          | Mountain Dew          |\n",
    "| 19          | Coke                  |\n",
    "| 31          | Pepsi                 |\n",
    "| 28          | Coke                  |"
   ]
  },
  {
   "cell_type": "code",
   "execution_count": 5,
   "id": "c224f323-cc54-49e8-bc0a-e8c4c72baecf",
   "metadata": {},
   "outputs": [
    {
     "name": "stdout",
     "output_type": "stream",
     "text": [
      "Pearson correlation coefficient: 0.7587035441865057\n"
     ]
    }
   ],
   "source": [
    "import numpy as np\n",
    "from scipy.stats import pearsonr\n",
    "\n",
    "# Given data\n",
    "ages = [25, 42, 37, 19, 31, 28]\n",
    "soft_drink_preferences_encoded = [1, 2, 3, 1, 2, 1]\n",
    "\n",
    "# Calculate Pearson correlation coefficient\n",
    "pearson_corr, _ = pearsonr(ages, soft_drink_preferences_encoded)\n",
    "print('Pearson correlation coefficient:', pearson_corr)"
   ]
  },
  {
   "cell_type": "markdown",
   "id": "89b39b4d-8132-46cb-940d-87d828bebcd1",
   "metadata": {},
   "source": [
    "## Q6. Sales Calls and Sales Made\n",
    "To calculate the Pearson correlation coefficient between the number of sales calls made per day and the number of sales made per week, use the formula from Q1.\n",
    "\n",
    "Given data (for illustration, you'll need to replace with actual data from the company):\n",
    "| Sales Calls per Day | Sales per Week |\n",
    "|---------------------|----------------|\n",
    "| X1                  | Y1             |\n",
    "| X2                  | Y2             |\n",
    "| ...                 | ...            |\n",
    "| X30                 | Y30            |"
   ]
  },
  {
   "cell_type": "code",
   "execution_count": 4,
   "id": "d6290acc-4bf5-4ad4-8ee8-fb105150a372",
   "metadata": {},
   "outputs": [
    {
     "name": "stdout",
     "output_type": "stream",
     "text": [
      "Pearson correlation coefficient: 1.0\n"
     ]
    }
   ],
   "source": [
    "import numpy as np\n",
    "from scipy.stats import pearsonr\n",
    "\n",
    "# Example data (replace these lists with the actual data)\n",
    "sales_calls_per_day = [20, 30, 25, 40, 35, 50, 45, 60, 55, 70, 65, 80, 75, 90, 85, 100, 95, 110, 105, 120, 115, 130, 125, 140, 135, 150, 145, 160, 155, 170]\n",
    "sales_per_week = [200, 300, 250, 400, 350, 500, 450, 600, 550, 700, 650, 800, 750, 900, 850, 1000, 950, 1100, 1050, 1200, 1150, 1300, 1250, 1400, 1350, 1500, 1450, 1600, 1550, 1700]\n",
    "\n",
    "# Calculate Pearson correlation coefficient\n",
    "pearson_corr, _ = pearsonr(sales_calls_per_day, sales_per_week)\n",
    "print('Pearson correlation coefficient:', pearson_corr)"
   ]
  },
  {
   "cell_type": "code",
   "execution_count": null,
   "id": "4da93e90-cda7-4d78-b874-933a3817f623",
   "metadata": {},
   "outputs": [],
   "source": []
  }
 ],
 "metadata": {
  "kernelspec": {
   "display_name": "Python 3 (ipykernel)",
   "language": "python",
   "name": "python3"
  },
  "language_info": {
   "codemirror_mode": {
    "name": "ipython",
    "version": 3
   },
   "file_extension": ".py",
   "mimetype": "text/x-python",
   "name": "python",
   "nbconvert_exporter": "python",
   "pygments_lexer": "ipython3",
   "version": "3.10.8"
  }
 },
 "nbformat": 4,
 "nbformat_minor": 5
}
