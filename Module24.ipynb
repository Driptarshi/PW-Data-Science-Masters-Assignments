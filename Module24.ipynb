{
 "cells": [
  {
   "cell_type": "markdown",
   "id": "6f80639d-6a12-4b47-9bc3-95ddd4b33f99",
   "metadata": {},
   "source": [
    "## Q1.\n",
    "*Answer:*\n",
    "Multithreading in Python is a technique that allows multiple threads to be executed concurrently, sharing the same memory space. It is used to perform multiple operations at the same time, making programs faster and more efficient, especially in tasks involving I/O operations such as reading/writing to files, network operations, etc. The module used to handle threads in Python is called threading."
   ]
  },
  {
   "cell_type": "markdown",
   "id": "e583bb28-a4df-49a8-aa84-9103c772bb35",
   "metadata": {},
   "source": [
    "## Q2.\n",
    "The threading module is used to create and manage threads in a Python program.\n",
    "\n",
    "1. *activeCount()*:\n",
    "   - Returns the number of Thread objects currently alive.\n",
    "\n",
    "2. *currentThread()*:\n",
    "   - Returns the current Thread object corresponding to the caller's thread of control.\n",
    "\n",
    "3. *enumerate()*:\n",
    "   - Returns a list of all Thread objects currently alive.\n"
   ]
  },
  {
   "cell_type": "markdown",
   "id": "4136f30c-dca8-4de6-9369-994069dc2a76",
   "metadata": {},
   "source": [
    "## Q3.\n",
    "1. *run()*:\n",
    "   - The run() method defines the thread's activity and what it does when it starts. It is called internally when the thread's start() method is invoked.\n",
    "\n",
    "2. *start()*:\n",
    "   - The start() method starts the thread by calling the run() method and allows the thread to begin execution.\n",
    "\n",
    "3. *join()*:\n",
    "   - The join() method makes the calling thread wait until the thread whose join() method is called terminates. It ensures that the current thread waits for the completion of the thread it joins.\n",
    "\n",
    "4. *isAlive()*:\n",
    "   - The isAlive() method checks whether a thread is still executing. It returns True if the thread is still running and False otherwise."
   ]
  },
  {
   "cell_type": "code",
   "execution_count": 3,
   "id": "208a9b10-875c-4b5e-ab8c-fe720f2584b9",
   "metadata": {},
   "outputs": [
    {
     "name": "stdout",
     "output_type": "stream",
     "text": [
      "Squares: [1, 4, 9, 16, 25, 36, 49, 64, 81, 100]\n",
      "Cubes: [1, 8, 27, 64, 125, 216, 343, 512, 729, 1000]\n"
     ]
    }
   ],
   "source": [
    "# Q4. \n",
    "\n",
    "import threading\n",
    "\n",
    "def print_squares():\n",
    "    squares = [i ** 2 for i in range(1, 11)]\n",
    "    print(\"Squares:\", squares)\n",
    "\n",
    "def print_cubes():\n",
    "    cubes = [i ** 3 for i in range(1, 11)]\n",
    "    print(\"Cubes:\", cubes)\n",
    "\n",
    "# Creating threads\n",
    "thread1 = threading.Thread(target=print_squares)\n",
    "thread2 = threading.Thread(target=print_cubes)\n",
    "\n",
    "# Starting threads\n",
    "thread1.start()\n",
    "thread2.start()\n",
    "\n",
    "# Waiting for both threads to complete\n",
    "thread1.join()\n",
    "thread2.join()\n"
   ]
  },
  {
   "cell_type": "markdown",
   "id": "8a039e36-fbab-4aaa-a9cb-0a8e68819d84",
   "metadata": {},
   "source": [
    "## Q5. \n",
    " Advantages:\n",
    "- *Concurrency*: Allows multiple tasks to run concurrently, improving performance.\n",
    "- *Resource Sharing*: Threads share the same memory space, which helps in sharing data quickly and efficiently.\n",
    "- *Responsiveness*: Improves the responsiveness of applications by offloading tasks to separate threads.\n",
    "- *Scalability*: Helps in better utilization of multi-core processors.\n",
    "\n",
    "Disadvantages:\n",
    "- *Complexity*: Writing and debugging multithreaded programs can be complex.\n",
    "- *Race Conditions*: Can lead to inconsistent results if multiple threads modify shared data simultaneously.\n",
    "- *Deadlocks*: Threads can become deadlocked if they wait indefinitely for resources held by each other.\n",
    "- *Overhead*: Context switching between threads can introduce performance overhead."
   ]
  },
  {
   "cell_type": "markdown",
   "id": "f83f7c93-217f-49c1-9b16-956a69e2a94b",
   "metadata": {},
   "source": [
    "## Q6. \n",
    "Deadlocks:\n",
    " A deadlock occurs when two or more threads are blocked forever, waiting for each other to release resources. This situation happens when threads acquire resources in different orders and end up waiting indefinitely for the other to release a resource they need.\n",
    "\n",
    "Race Conditions:\n",
    " A race condition occurs when the outcome of a program depends on the sequence or timing of uncontrollable events such as the order of thread execution. It often leads to unpredictable results and bugs that are hard to reproduce and fix. Race conditions typically occur when multiple threads read and write shared data simultaneously without proper synchronization."
   ]
  },
  {
   "cell_type": "code",
   "execution_count": null,
   "id": "85b2ec34-968e-42d0-9983-fe9285618337",
   "metadata": {},
   "outputs": [],
   "source": []
  }
 ],
 "metadata": {
  "kernelspec": {
   "display_name": "Python 3 (ipykernel)",
   "language": "python",
   "name": "python3"
  },
  "language_info": {
   "codemirror_mode": {
    "name": "ipython",
    "version": 3
   },
   "file_extension": ".py",
   "mimetype": "text/x-python",
   "name": "python",
   "nbconvert_exporter": "python",
   "pygments_lexer": "ipython3",
   "version": "3.10.8"
  }
 },
 "nbformat": 4,
 "nbformat_minor": 5
}
