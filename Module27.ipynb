{
 "cells": [
  {
   "cell_type": "markdown",
   "id": "230291a8-0b01-4bca-9059-d0d780ff8d3c",
   "metadata": {},
   "source": [
    "## Q1. What is MongoDB? Explain non-relational databases in short. In which scenarios it is preferred to use MongoDB over SQL databases?\n",
    "\n",
    "*MongoDB* is a NoSQL, document-oriented database that stores data in flexible, JSON-like documents, as opposed to traditional table-based relational databases. \n",
    "\n",
    "*Non-relational databases* (NoSQL databases) are designed to handle unstructured data, which can be in formats like documents, graphs, key-values, or wide-columns. They offer flexibility, scalability, and are suitable for applications requiring large-scale data storage and real-time data processing.\n",
    "\n",
    "*Preferred scenarios for using MongoDB over SQL databases include*:\n",
    "- Handling large volumes of unstructured or semi-structured data.\n",
    "- Applications needing high throughput and low latency.\n",
    "- Agile development environments where data schemas may evolve.\n",
    "- Use cases requiring horizontal scalability and distributed data storage.\n",
    "- Real-time analytics and data processing applications."
   ]
  },
  {
   "cell_type": "markdown",
   "id": "1716cfd6-350c-468c-81f9-38f626642a11",
   "metadata": {},
   "source": [
    "## Q2. State and Explain the features of MongoDB.\n",
    "\n",
    "*Features of MongoDB*:\n",
    "1. *Schema-less*: MongoDB's collections do not enforce document structure, providing flexibility to store various types of data together.\n",
    "2. *Document-oriented*: Data is stored in BSON format (Binary JSON), allowing for rich data models and nested data structures.\n",
    "3. *High Performance*: Supports efficient indexing, replication, and sharding for performance and scalability.\n",
    "4. *Scalability*: Horizontal scaling through sharding allows MongoDB to handle large datasets and high throughput.\n",
    "5. *Rich Query Language*: Supports complex queries, joins, and aggregations, providing powerful data manipulation capabilities.\n",
    "6. *Replication and High Availability*: Replica sets ensure data redundancy and failover support.\n",
    "7. *Aggregation Framework*: Allows for efficient data processing and transformation.\n",
    "8. *Indexing*: Supports various indexing techniques to optimize query performance."
   ]
  },
  {
   "cell_type": "code",
   "execution_count": null,
   "id": "b0092715-0a08-4a13-941f-670f880756e9",
   "metadata": {},
   "outputs": [],
   "source": [
    "# Q3. Write a code to connect MongoDB to Python. Also, create a database and a collection in MongoDB.\n",
    "\n",
    "\n",
    "from pymongo import MongoClient\n",
    "\n",
    "# Connect to MongoDB\n",
    "client = MongoClient(\"mongodb://localhost:27017/\")\n",
    "\n",
    "# Create a database\n",
    "db = client['mydatabase']\n",
    "\n",
    "# Create a collection\n",
    "collection = db['mycollection']\n",
    "\n",
    "print(\"Database and collection created successfully!\")"
   ]
  },
  {
   "cell_type": "code",
   "execution_count": null,
   "id": "5aa3ece8-312d-4c76-8d62-f0d710309190",
   "metadata": {},
   "outputs": [],
   "source": [
    "# Q4. Using the database and the collection created in question number 3, write a code to insert one record and insert many records. Use the find() and find_one() methods to print the inserted record.\n",
    "\n",
    "\n",
    "# Insert one record\n",
    "one_record = {\"name\": \"Alice\", \"age\": 25, \"city\": \"New York\"}\n",
    "inserted_id = collection.insert_one(one_record).inserted_id\n",
    "print(f\"Inserted one record with id: {inserted_id}\")\n",
    "\n",
    "# Insert many records\n",
    "many_records = [\n",
    "    {\"name\": \"Bob\", \"age\": 30, \"city\": \"San Francisco\"},\n",
    "    {\"name\": \"Charlie\", \"age\": 35, \"city\": \"Boston\"},\n",
    "    {\"name\": \"David\", \"age\": 40, \"city\": \"Chicago\"}\n",
    "]\n",
    "inserted_ids = collection.insert_many(many_records).inserted_ids\n",
    "print(f\"Inserted many records with ids: {inserted_ids}\")\n",
    "\n",
    "# Find one record\n",
    "found_record = collection.find_one({\"name\": \"Alice\"})\n",
    "print(\"Found one record:\", found_record)\n",
    "\n",
    "# Find all records\n",
    "all_records = collection.find()\n",
    "for record in all_records:\n",
    "    print(record)\n"
   ]
  },
  {
   "cell_type": "code",
   "execution_count": null,
   "id": "1f8ebc18-982f-4ea7-9c75-a4dd03d3086b",
   "metadata": {},
   "outputs": [],
   "source": [
    "# Q5. Explain how you can use the find() method to query the MongoDB database. Write a simple code to demonstrate this.\n",
    "\n",
    "# The find() method retrieves documents from a collection that match a given query. It returns a cursor, allowing iteration over multiple documents.\n",
    "\n",
    "\n",
    "# Find records where age is greater than 30\n",
    "query = {\"age\": {\"$gt\": 30}}\n",
    "results = collection.find(query)\n",
    "\n",
    "for record in results:\n",
    "    print(record)"
   ]
  },
  {
   "cell_type": "code",
   "execution_count": null,
   "id": "03ba669a-21be-440b-a7ff-fa6f7cedbc52",
   "metadata": {},
   "outputs": [],
   "source": [
    "# Q6. Explain the sort() method. Give an example to demonstrate sorting in MongoDB.\n",
    "\n",
    "# The sort() method arranges the documents in the result set according to the specified field(s) and order (ascending or descending).\n",
    "\n",
    "# Sort records by age in ascending order\n",
    "sorted_records = collection.find().sort(\"age\", 1)\n",
    "print(\"Sorted records by age in ascending order:\")\n",
    "for record in sorted_records:\n",
    "    print(record)\n",
    "\n",
    "# Sort records by age in descending order\n",
    "sorted_records = collection.find().sort(\"age\", -1)\n",
    "print(\"Sorted records by age in descending order:\")\n",
    "for record in sorted_records:\n",
    "    print(record)\n"
   ]
  },
  {
   "cell_type": "markdown",
   "id": "4d8da66d-7144-4671-9877-bba2ea62f11c",
   "metadata": {},
   "source": [
    "## Q7. Explain why delete_one(), delete_many(), and drop() is used.\n",
    "\n",
    "- *delete_one()*: Deletes a single document that matches the given filter. Useful for removing specific records.\n",
    "- *delete_many()*: Deletes all documents that match the given filter. Useful for bulk deletion.\n",
    "- *drop()*: Removes an entire collection, including all its documents. Useful for clearing a collection or removing it completely.\n",
    "\n",
    "python\n",
    "# Delete one record\n",
    "result = collection.delete_one({\"name\": \"Alice\"})\n",
    "print(f\"Deleted {result.deleted_count} document(s)\")\n",
    "\n",
    "# Delete many records\n",
    "result = collection.delete_many({\"age\": {\"$lt\": 35}})\n",
    "print(f\"Deleted {result.deleted_count} document(s)\")\n",
    "\n",
    "# Drop the collection\n",
    "collection.drop()\n",
    "print(\"Collection dropped successfully!\")"
   ]
  },
  {
   "cell_type": "code",
   "execution_count": null,
   "id": "b80e0add-ad5f-492c-b0b6-4823f9ca28ba",
   "metadata": {},
   "outputs": [],
   "source": []
  }
 ],
 "metadata": {
  "kernelspec": {
   "display_name": "Python 3 (ipykernel)",
   "language": "python",
   "name": "python3"
  },
  "language_info": {
   "codemirror_mode": {
    "name": "ipython",
    "version": 3
   },
   "file_extension": ".py",
   "mimetype": "text/x-python",
   "name": "python",
   "nbconvert_exporter": "python",
   "pygments_lexer": "ipython3",
   "version": "3.10.8"
  }
 },
 "nbformat": 4,
 "nbformat_minor": 5
}
