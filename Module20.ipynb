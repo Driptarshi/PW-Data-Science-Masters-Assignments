{
 "cells": [
  {
   "cell_type": "markdown",
   "id": "7d8d4461-4041-4a73-9669-cf8d136bce0a",
   "metadata": {},
   "source": [
    "## Q1. \n",
    "\n",
    "The open() function is used to open a file in Python. The different modes of opening a file are:\n",
    "\n",
    "- 'r': Read mode (default). Opens a file for reading. If the file does not exist, it raises a FileNotFoundError.\n",
    "- 'w': Write mode. Opens a file for writing. If the file exists, it truncates the file to zero length. If the file does not exist, it creates a new file.\n",
    "- 'a': Append mode. Opens a file for writing. If the file exists, data is appended to the end of the file. If the file does not exist, it creates a new file.\n",
    "- 'x': Exclusive creation mode. Creates a new file. If the file already exists, it raises a FileExistsError.\n",
    "- 'b': Binary mode. Opens a file in binary mode.\n",
    "- 't': Text mode (default). Opens a file in text mode.\n",
    "- '+': Update mode. Opens a file for both reading and writing.\n",
    "\n",
    "Examples of combining modes:\n",
    "- 'rb': Read binary mode.\n",
    "- 'wb': Write binary mode.\n",
    "- 'r+': Read and write mode."
   ]
  },
  {
   "cell_type": "markdown",
   "id": "1a9ec36c-46ae-4727-b6ea-72d0803ad5f2",
   "metadata": {},
   "source": [
    " ## Q2. \n",
    "\n",
    "The close() function is used to close a file. It is important to close a file because:\n",
    "- It ensures that all data is properly written to the file and resources are released.\n",
    "- It helps to prevent data corruption and file leaks.\n",
    "- It ensures that other programs or processes can access the file.\n"
   ]
  },
  {
   "cell_type": "code",
   "execution_count": 1,
   "id": "68eedded-dabf-483f-9d5d-8a619b1b5f85",
   "metadata": {},
   "outputs": [
    {
     "name": "stdout",
     "output_type": "stream",
     "text": [
      "I want to become a Data Scientist\n"
     ]
    }
   ],
   "source": [
    "# Q3.\n",
    "# Creating and writing to the file\n",
    "with open('data_scientist.txt', 'w') as file:\n",
    "    file.write('I want to become a Data Scientist')\n",
    "\n",
    "# Reading the content of the file\n",
    "with open('data_scientist.txt', 'r') as file:\n",
    "    content = file.read()\n",
    "    print(content)"
   ]
  },
  {
   "cell_type": "code",
   "execution_count": 2,
   "id": "2f9b1410-e273-4e83-88b9-557e2cc25786",
   "metadata": {},
   "outputs": [
    {
     "name": "stdout",
     "output_type": "stream",
     "text": [
      "read():\n",
      "Line 1\n",
      "Line 2\n",
      "Line 3\n",
      "readline():\n",
      "Line 1\n",
      "\n",
      "readlines():\n",
      "['Line 1\\n', 'Line 2\\n', 'Line 3']\n"
     ]
    }
   ],
   "source": [
    " # Q4.\n",
    "    \n",
    " # read(): Reads the entire file or a specified number of bytes.\n",
    " # readline(): Reads a single line from the file.\n",
    " # readlines(): Reads all the lines of a file and returns them as a list of strings.\n",
    "\n",
    "\n",
    "# Creating a sample file\n",
    "with open('sample.txt', 'w') as file:\n",
    "    file.write('Line 1\\nLine 2\\nLine 3')\n",
    "\n",
    "# Using read()\n",
    "with open('sample.txt', 'r') as file:\n",
    "    content = file.read()\n",
    "    print('read():')\n",
    "    print(content)\n",
    "\n",
    "# Using readline()\n",
    "with open('sample.txt', 'r') as file:\n",
    "    line = file.readline()\n",
    "    print('readline():')\n",
    "    print(line)\n",
    "\n",
    "# Using readlines()\n",
    "with open('sample.txt', 'r') as file:\n",
    "    lines = file.readlines()\n",
    "    print('readlines():')\n",
    "    print(lines)"
   ]
  },
  {
   "cell_type": "code",
   "execution_count": 5,
   "id": "91971901-136f-4447-86e1-d955db594423",
   "metadata": {},
   "outputs": [],
   "source": [
    "# Q5. \n",
    "# The with statement is used with open() to ensure that a file is properly closed after its suite finishes, even if an exception is raised. This is called context management. The advantage of using with statement and open() together is that it simplifies the code and handles file closing automatically, which makes the code more readable and robust.\n",
    "\n",
    "# Example:\n",
    "with open('example.txt', 'w') as file:\n",
    "    file.write('This is an example.')"
   ]
  },
  {
   "cell_type": "code",
   "execution_count": null,
   "id": "14c9cd68-2c87-4b94-a85a-ffae4c36e7c9",
   "metadata": {},
   "outputs": [],
   "source": [
    "# Q6. Explain the write() and writelines() functions. Give a suitable example.\n",
    "\n",
    "# write(): Writes a single string to a file.\n",
    "# writelines(): Writes a list of strings to a file.\n",
    "\n",
    "Example:\n",
    "python\n",
    "# Using write()\n",
    "with open('write_example.txt', 'w') as file:\n",
    "    file.write('This is written using write().\\n')\n",
    "\n",
    "# Using writelines()\n",
    "with open('writelines_example.txt', 'w') as file:\n",
    "    lines = ['Line 1\\n', 'Line 2\\n', 'Line 3\\n']\n",
    "    file.writelines(lines)"
   ]
  }
 ],
 "metadata": {
  "kernelspec": {
   "display_name": "Python 3 (ipykernel)",
   "language": "python",
   "name": "python3"
  },
  "language_info": {
   "codemirror_mode": {
    "name": "ipython",
    "version": 3
   },
   "file_extension": ".py",
   "mimetype": "text/x-python",
   "name": "python",
   "nbconvert_exporter": "python",
   "pygments_lexer": "ipython3",
   "version": "3.10.8"
  }
 },
 "nbformat": 4,
 "nbformat_minor": 5
}
