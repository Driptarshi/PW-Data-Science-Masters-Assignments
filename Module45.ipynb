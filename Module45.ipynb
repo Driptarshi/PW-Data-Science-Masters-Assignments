{
 "cells": [
  {
   "cell_type": "markdown",
   "id": "d25442ed-75dd-4984-ae67-c5b37efa11b5",
   "metadata": {},
   "source": [
    "## Q1. What is the Probability density function?\n",
    "A Probability Density Function (PDF) is a function that describes the likelihood of a random variable to take on a particular value. For continuous random variables, the PDF, \\( f(x) \\), represents the relative likelihood that the value of the variable is equal to \\( x \\). The area under the curve of the PDF over an interval represents the probability that the variable falls within that interval. The total area under the PDF curve is equal to 1."
   ]
  },
  {
   "cell_type": "markdown",
   "id": "1fcfd63e-e946-4498-96f4-4a43307af77a",
   "metadata": {},
   "source": [
    "## Q2. What are the types of Probability distribution?\n",
    "Probability distributions can be broadly categorized into:\n",
    "1. *Discrete Probability Distributions*: For discrete random variables, e.g., Binomial, Poisson, and Geometric distributions.\n",
    "2. *Continuous Probability Distributions*: For continuous random variables, e.g., Normal (Gaussian), Exponential, and Uniform distributions."
   ]
  },
  {
   "cell_type": "code",
   "execution_count": 6,
   "id": "6ac952f1-26b2-40b3-b7e9-7c988ba88e2b",
   "metadata": {},
   "outputs": [
    {
     "name": "stdout",
     "output_type": "stream",
     "text": [
      "0.3989422804014327\n"
     ]
    }
   ],
   "source": [
    "## Q3. Write a Python function to calculate the probability density function of a normal distribution with given mean and standard deviation at a given point.\n",
    "\n",
    "import math\n",
    "\n",
    "def normal_pdf(x, mean, std_dev):\n",
    "    \"\"\"\n",
    "    Calculate the probability density function of a normal distribution.\n",
    "    \n",
    "    Parameters:\n",
    "    x (float): The point at which PDF is calculated.\n",
    "    mean (float): The mean of the distribution.\n",
    "    std_dev (float): The standard deviation of the distribution.\n",
    "    \n",
    "    Returns:\n",
    "    float: The PDF value at x.\n",
    "    \"\"\"\n",
    "    return (1 / (std_dev * math.sqrt(2 * math.pi))) * math.exp(-0.5 * ((x - mean) / std_dev) ** 2)\n",
    "\n",
    "# Example usage\n",
    "mean = 0\n",
    "std_dev = 1\n",
    "x = 0\n",
    "print(normal_pdf(x, mean, std_dev))"
   ]
  },
  {
   "cell_type": "markdown",
   "id": "1a5ed044-7087-41aa-93a4-e8c8eb579de0",
   "metadata": {},
   "source": [
    "## Q4. What are the properties of Binomial distribution? Give two examples of events where binomial distribution can be applied.\n",
    "*Properties of Binomial Distribution*:\n",
    "1. The number of trials, \\( n \\), is fixed.\n",
    "2. Each trial has only two possible outcomes: success or failure.\n",
    "3. The probability of success, \\( p \\), is constant for each trial.\n",
    "4. The trials are independent.\n",
    "\n",
    "*Examples*:\n",
    "1. Tossing a coin 10 times to see how many heads come up.\n",
    "2. Checking a batch of 20 products to see how many are defective."
   ]
  },
  {
   "cell_type": "code",
   "execution_count": 7,
   "id": "8f8f7c1b-8b96-4352-9bb2-d390318b0931",
   "metadata": {},
   "outputs": [
    {
     "data": {
      "image/png": "[encoded data removed]",
      "text/plain": [
       "<Figure size 640x480 with 1 Axes>"
      ]
     },
     "metadata": {},
     "output_type": "display_data"
    }
   ],
   "source": [
    "## Q5. Generate a random sample of size 1000 from a binomial distribution with probability of success 0.4 and plot a histogram of the results using matplotlib.\n",
    "\n",
    "import numpy as np\n",
    "import matplotlib.pyplot as plt\n",
    "\n",
    "# Parameters\n",
    "n = 10  # Number of trials\n",
    "p = 0.4  # Probability of success\n",
    "\n",
    "# Generate sample\n",
    "sample = np.random.binomial(n, p, 1000)\n",
    "\n",
    "# Plot histogram\n",
    "plt.hist(sample, bins=range(n+2), edgecolor='black', alpha=0.7)\n",
    "plt.title('Histogram of Binomial Distribution (n=10, p=0.4)')\n",
    "plt.xlabel('Number of successes')\n",
    "plt.ylabel('Frequency')\n",
    "plt.show()\n"
   ]
  },
  {
   "cell_type": "code",
   "execution_count": 9,
   "id": "edc9c46f-7639-41b9-ae3b-08f027b128ea",
   "metadata": {},
   "outputs": [
    {
     "name": "stdout",
     "output_type": "stream",
     "text": [
      "0.2650259152973616\n"
     ]
    }
   ],
   "source": [
    "## Q6. Write a Python function to calculate the cumulative distribution function of a Poisson distribution with given mean at a given point.\n",
    "\n",
    "import math\n",
    "from scipy.stats import poisson\n",
    "\n",
    "def poisson_cdf(k, mean):\n",
    "    \"\"\"\n",
    "    Calculate the cumulative distribution function of a Poisson distribution.\n",
    "    \n",
    "    Parameters:\n",
    "    k (int): The point at which CDF is calculated.\n",
    "    mean (float): The mean (lambda) of the distribution.\n",
    "    \n",
    "    Returns:\n",
    "    float: The CDF value at k.\n",
    "    \"\"\"\n",
    "    return poisson.cdf(k, mean)\n",
    "\n",
    "# Example usage\n",
    "mean = 5\n",
    "k = 3\n",
    "print(poisson_cdf(k, mean)) \n"
   ]
  },
  {
   "cell_type": "markdown",
   "id": "d82bfb0d-55e2-4d54-9976-5a28059171ae",
   "metadata": {},
   "source": [
    "## Q7. How Binomial distribution different from Poisson distribution?\n",
    "- *Binomial Distribution*:\n",
    "  - Applicable to discrete events with a fixed number of trials.\n",
    "  - Each trial is independent with a constant probability of success.\n",
    "  - Number of successes in a fixed number of trials.\n",
    "\n",
    "- *Poisson Distribution*:\n",
    "  - Describes the number of events occurring within a fixed interval of time or space.\n",
    "  - No fixed number of trials; instead, events happen at a constant mean rate.\n",
    "  - Useful for rare events over a large number of trials or a continuous time frame."
   ]
  },
  {
   "cell_type": "code",
   "execution_count": 11,
   "id": "3cc3d4d3-e1ea-4524-9673-b69271c1bcd7",
   "metadata": {},
   "outputs": [
    {
     "data": {
      "text/plain": [
       "(5.036, 5.218704)"
      ]
     },
     "execution_count": 11,
     "metadata": {},
     "output_type": "execute_result"
    }
   ],
   "source": [
    "## Q8. Generate a random sample of size 1000 from a Poisson distribution with mean 5 and calculate the sample mean and variance.\n",
    "# Parameters\n",
    "mean = 5\n",
    "\n",
    "# Generate sample\n",
    "poisson_sample = np.random.poisson(mean, 1000)\n",
    "\n",
    "# Calculate sample mean and variance\n",
    "sample_mean = np.mean(poisson_sample)\n",
    "sample_variance = np.var(poisson_sample)\n",
    "\n",
    "sample_mean, sample_variance  \n"
   ]
  },
  {
   "cell_type": "markdown",
   "id": "4df29255-5ac5-472e-8434-e1af068a85ce",
   "metadata": {},
   "source": [
    "## Q9. How mean and variance are related in Binomial distribution and Poisson distribution?\n",
    "- *Binomial Distribution*: The mean is \\( \\mu = np \\) and the variance is \\( \\sigma^2 = np(1 - p) \\), where \\( n \\) is the number of trials and \\( p \\) is the probability of success.\n",
    "- *Poisson Distribution*: The mean and variance are both equal to \\( \\lambda \\), where \\( \\lambda \\) is the average rate (mean) of occurrence.\n"
   ]
  },
  {
   "cell_type": "markdown",
   "id": "f675d906-4be3-4b43-bf4a-a24951ecaaff",
   "metadata": {},
   "source": [
    "## Q10. In normal distribution with respect to mean position, where does the least frequent data appear?\n",
    "In a normal distribution, the least frequent data appears in the tails, farthest from the mean. These are the extreme values that lie several standard deviations away from the mean."
   ]
  },
  {
   "cell_type": "code",
   "execution_count": null,
   "id": "9e191900-87a8-4caa-add9-a5a9c55ba8c0",
   "metadata": {},
   "outputs": [],
   "source": []
  }
 ],
 "metadata": {
  "kernelspec": {
   "display_name": "Python 3 (ipykernel)",
   "language": "python",
   "name": "python3"
  },
  "language_info": {
   "codemirror_mode": {
    "name": "ipython",
    "version": 3
   },
   "file_extension": ".py",
   "mimetype": "text/x-python",
   "name": "python",
   "nbconvert_exporter": "python",
   "pygments_lexer": "ipython3",
   "version": "3.10.8"
  }
 },
 "nbformat": 4,
 "nbformat_minor": 5
}
