{
 "cells": [
  {
   "cell_type": "markdown",
   "id": "508c8548-2a85-44d6-b24d-2982ab4a581d",
   "metadata": {},
   "source": [
    "## Q1."
   ]
  },
  {
   "cell_type": "markdown",
   "id": "431ec5cd-74a1-462c-95f6-19833ecf27e1",
   "metadata": {},
   "source": [
    "The Characteristics of Tuples are:\n",
    "1) They are indexed.\n",
    "2) Tuples are ordered.\n",
    "3) These are immutable.\n",
    "4) They can contain duplicate items.\n",
    "\n",
    "Yes, Tuples are immutable."
   ]
  },
  {
   "cell_type": "markdown",
   "id": "fb7c779d-78f5-4d45-8a0e-58ae09fed896",
   "metadata": {},
   "source": [
    "## Q2."
   ]
  },
  {
   "cell_type": "code",
   "execution_count": 1,
   "id": "089d2d67-86c3-4269-adf6-9825fce850a9",
   "metadata": {},
   "outputs": [],
   "source": [
    "# Count functions and index functions are the two Tuple methods in python."
   ]
  },
  {
   "cell_type": "code",
   "execution_count": 2,
   "id": "ac996051-4572-4111-b5bd-68dc5d47a399",
   "metadata": {},
   "outputs": [],
   "source": [
    "tuple1=(1,2,2,3,3,3,4,4,4,4)"
   ]
  },
  {
   "cell_type": "code",
   "execution_count": 3,
   "id": "e97898d1-6196-41c1-a479-117f516b1694",
   "metadata": {},
   "outputs": [
    {
     "data": {
      "text/plain": [
       "2"
      ]
     },
     "execution_count": 3,
     "metadata": {},
     "output_type": "execute_result"
    }
   ],
   "source": [
    "tuple1.count(2)"
   ]
  },
  {
   "cell_type": "code",
   "execution_count": 4,
   "id": "32b608ea-36c5-4266-9afe-35f08ad49637",
   "metadata": {},
   "outputs": [
    {
     "data": {
      "text/plain": [
       "6"
      ]
     },
     "execution_count": 4,
     "metadata": {},
     "output_type": "execute_result"
    }
   ],
   "source": [
    "tuple1.index(4)"
   ]
  },
  {
   "cell_type": "code",
   "execution_count": 5,
   "id": "f7c77b04-f1ce-410d-9cf2-74bff13155ed",
   "metadata": {},
   "outputs": [],
   "source": [
    "# Tuples has only two in-built methods compared to lists because tuples are immutable whereas lists are mutable."
   ]
  },
  {
   "cell_type": "markdown",
   "id": "27d37d05-d41d-4d45-a0ad-5929f23deee8",
   "metadata": {},
   "source": [
    "## Q3."
   ]
  },
  {
   "cell_type": "code",
   "execution_count": 6,
   "id": "af45f28c-792c-4f05-89c0-c9a1c6cebe00",
   "metadata": {},
   "outputs": [],
   "source": [
    "# set in python do not allow duplicate items."
   ]
  },
  {
   "cell_type": "code",
   "execution_count": 7,
   "id": "a458679b-7725-4386-9a8c-b8611f3663f4",
   "metadata": {},
   "outputs": [],
   "source": [
    "List=[1,1,1,2,1,3,1,4,2,1,2,2,2,3,2,4,3,1,3,2,3,3,3,4,4,1,4,2,4,3,4,4]"
   ]
  },
  {
   "cell_type": "code",
   "execution_count": 8,
   "id": "7633d9ca-bf81-42ec-8af8-8f9c3128ddb1",
   "metadata": {},
   "outputs": [
    {
     "data": {
      "text/plain": [
       "{1, 2, 3, 4}"
      ]
     },
     "execution_count": 8,
     "metadata": {},
     "output_type": "execute_result"
    }
   ],
   "source": [
    "set(List)"
   ]
  },
  {
   "cell_type": "markdown",
   "id": "3d825fa1-c8cf-4808-8390-2552e2302379",
   "metadata": {
    "tags": []
   },
   "source": [
    "## Q4."
   ]
  },
  {
   "cell_type": "markdown",
   "id": "d942906c-6f36-40da-82ac-b637ca490969",
   "metadata": {},
   "source": [
    "The union() method returns a set that contains all items from the original set, and all items from the specified set(s).\n",
    "Whereas, update() adds all the missing elements to the ste on which it is called.\n",
    "\n",
    "union() creates a new set whereas update() does not."
   ]
  },
  {
   "cell_type": "code",
   "execution_count": 9,
   "id": "8e86012e-7cd3-4f17-8766-fa2c13d67acf",
   "metadata": {},
   "outputs": [],
   "source": [
    "set1={1,2,2,3,3,3,4,5}\n",
    "set2={7,6,6,6,6,6,6,8,9,10}"
   ]
  },
  {
   "cell_type": "code",
   "execution_count": 10,
   "id": "960af7ab-9634-4a30-a830-558f55d8cc33",
   "metadata": {},
   "outputs": [
    {
     "data": {
      "text/plain": [
       "{1, 2, 3, 4, 5}"
      ]
     },
     "execution_count": 10,
     "metadata": {},
     "output_type": "execute_result"
    }
   ],
   "source": [
    "set1"
   ]
  },
  {
   "cell_type": "code",
   "execution_count": 11,
   "id": "39d720e2-aa95-4b5c-bd42-3687a74f7440",
   "metadata": {},
   "outputs": [
    {
     "data": {
      "text/plain": [
       "{6, 7, 8, 9, 10}"
      ]
     },
     "execution_count": 11,
     "metadata": {},
     "output_type": "execute_result"
    }
   ],
   "source": [
    "set2"
   ]
  },
  {
   "cell_type": "code",
   "execution_count": 12,
   "id": "9e5fa01a-bb07-4710-aceb-d2bd9383aa6e",
   "metadata": {},
   "outputs": [
    {
     "data": {
      "text/plain": [
       "{1, 2, 3, 4, 5, 6, 7, 8, 9, 10}"
      ]
     },
     "execution_count": 12,
     "metadata": {},
     "output_type": "execute_result"
    }
   ],
   "source": [
    "set1.union(set2)"
   ]
  },
  {
   "cell_type": "code",
   "execution_count": 14,
   "id": "09eecffb-3b0c-4993-b037-3a7314eb70b5",
   "metadata": {},
   "outputs": [
    {
     "data": {
      "text/plain": [
       "{1, 2, 3, 4, 5}"
      ]
     },
     "execution_count": 14,
     "metadata": {},
     "output_type": "execute_result"
    }
   ],
   "source": [
    "set1"
   ]
  },
  {
   "cell_type": "code",
   "execution_count": 15,
   "id": "4edc6cb5-e960-42f4-91fb-016cd3aedacc",
   "metadata": {},
   "outputs": [
    {
     "data": {
      "text/plain": [
       "{6, 7, 8, 9, 10}"
      ]
     },
     "execution_count": 15,
     "metadata": {},
     "output_type": "execute_result"
    }
   ],
   "source": [
    "set2"
   ]
  },
  {
   "cell_type": "code",
   "execution_count": 16,
   "id": "3650cc82-2614-41cd-869a-fc067999c537",
   "metadata": {},
   "outputs": [],
   "source": [
    "set1.update(set2)"
   ]
  },
  {
   "cell_type": "code",
   "execution_count": 17,
   "id": "546d7c1d-eacf-4fcf-a16b-47196c8f18ab",
   "metadata": {},
   "outputs": [
    {
     "data": {
      "text/plain": [
       "{1, 2, 3, 4, 5, 6, 7, 8, 9, 10}"
      ]
     },
     "execution_count": 17,
     "metadata": {},
     "output_type": "execute_result"
    }
   ],
   "source": [
    "set1"
   ]
  },
  {
   "cell_type": "code",
   "execution_count": 18,
   "id": "ad0e86c5-e2b6-4b05-9a9b-21948e0bbda6",
   "metadata": {},
   "outputs": [
    {
     "data": {
      "text/plain": [
       "{6, 7, 8, 9, 10}"
      ]
     },
     "execution_count": 18,
     "metadata": {},
     "output_type": "execute_result"
    }
   ],
   "source": [
    "set2"
   ]
  },
  {
   "cell_type": "markdown",
   "id": "d2d4c9b0-6883-444d-934c-db45f73f465d",
   "metadata": {},
   "source": [
    "## Q5."
   ]
  },
  {
   "cell_type": "markdown",
   "id": "ce32351c-32a6-44cd-ac41-71177acc9b5b",
   "metadata": {},
   "source": [
    "Dictionaries are Python's implementation of a data structure that is more generally known as an associative array. A dictionary consists of a collection of key-value pairs. Each key-value pair maps the key to its associated value."
   ]
  },
  {
   "cell_type": "code",
   "execution_count": 19,
   "id": "051f1bfd-543d-4f37-9cf5-68771d967f00",
   "metadata": {},
   "outputs": [
    {
     "data": {
      "text/plain": [
       "{'Country': 'India', 'State': 'West Bengal'}"
      ]
     },
     "execution_count": 19,
     "metadata": {},
     "output_type": "execute_result"
    }
   ],
   "source": [
    "# E.g. \n",
    "Dictionary={\"Country\":\"India\",\"State\":\"West Bengal\"}\n",
    "Dictionary"
   ]
  },
  {
   "cell_type": "code",
   "execution_count": 20,
   "id": "47602638-e65d-4225-bdef-79c0851d6c3e",
   "metadata": {},
   "outputs": [
    {
     "data": {
      "text/plain": [
       "{'Numbers': 2, 'Country': 'India'}"
      ]
     },
     "execution_count": 20,
     "metadata": {},
     "output_type": "execute_result"
    }
   ],
   "source": [
    "Dict={\"Numbers\":2, \"Country\":\"India\"}\n",
    "Dict"
   ]
  },
  {
   "cell_type": "markdown",
   "id": "949b7503-8174-4054-afb2-a196ff7ed92b",
   "metadata": {},
   "source": [
    "Dictionary is ordered"
   ]
  },
  {
   "cell_type": "markdown",
   "id": "677418ef-2fe8-406a-af38-ad04773b4ff1",
   "metadata": {},
   "source": [
    "## Q6."
   ]
  },
  {
   "cell_type": "markdown",
   "id": "bb0c0005-caee-4d95-8f67-da7bdabe72d8",
   "metadata": {},
   "source": [
    "Yes, it is possible to create a nested dictionary."
   ]
  },
  {
   "cell_type": "code",
   "execution_count": 21,
   "id": "244ad092-cc9b-445f-9b1b-264460cc6023",
   "metadata": {},
   "outputs": [
    {
     "data": {
      "text/plain": [
       "{'Football': {'Club': 'Mohun Bagan A.C.'}}"
      ]
     },
     "execution_count": 21,
     "metadata": {},
     "output_type": "execute_result"
    }
   ],
   "source": [
    "# E.g.\n",
    "Nested_Dictionary={\"Football\":{\"Club\":\"Mohun Bagan A.C.\"}}\n",
    "Nested_Dictionary"
   ]
  },
  {
   "cell_type": "markdown",
   "id": "c22f7d30-ccd5-4747-9198-0c8e92583dac",
   "metadata": {},
   "source": [
    "## Q7."
   ]
  },
  {
   "cell_type": "code",
   "execution_count": 22,
   "id": "37676121-7377-4104-902a-b5471f5b70db",
   "metadata": {},
   "outputs": [
    {
     "data": {
      "text/plain": [
       "{'language': 'Python', 'course': 'Data Science Masters'}"
      ]
     },
     "execution_count": 22,
     "metadata": {},
     "output_type": "execute_result"
    }
   ],
   "source": [
    "dict1 = {'language':'Python','course':'Data Science Masters'}\n",
    "dict1"
   ]
  },
  {
   "cell_type": "code",
   "execution_count": 23,
   "id": "626444f8-44dd-4c99-9a36-522e80df8f42",
   "metadata": {},
   "outputs": [
    {
     "data": {
      "text/plain": [
       "['Python', 'Machine Learning', 'Deep Learning']"
      ]
     },
     "execution_count": 23,
     "metadata": {},
     "output_type": "execute_result"
    }
   ],
   "source": [
    "dict1.setdefault('topics',['Python','Machine Learning','Deep Learning'])"
   ]
  },
  {
   "cell_type": "code",
   "execution_count": 24,
   "id": "12b5787e-9791-4928-9ebb-fee32b96c53c",
   "metadata": {},
   "outputs": [
    {
     "data": {
      "text/plain": [
       "{'language': 'Python',\n",
       " 'course': 'Data Science Masters',\n",
       " 'topics': ['Python', 'Machine Learning', 'Deep Learning']}"
      ]
     },
     "execution_count": 24,
     "metadata": {},
     "output_type": "execute_result"
    }
   ],
   "source": [
    "dict1"
   ]
  },
  {
   "cell_type": "markdown",
   "id": "8d5893e4-4d6f-4491-bc3f-573ced914a8c",
   "metadata": {},
   "source": [
    "## Q8."
   ]
  },
  {
   "cell_type": "markdown",
   "id": "8636d842-3a2b-46b7-81a3-dcb245473eab",
   "metadata": {},
   "source": [
    "keys, values and items are thethree view objects indictionaries."
   ]
  },
  {
   "cell_type": "code",
   "execution_count": 25,
   "id": "c6f1cb2b-ccd6-44db-a2a8-18d684029066",
   "metadata": {},
   "outputs": [
    {
     "data": {
      "text/plain": [
       "{'Sport': 'Cricket',\n",
       " 'Teams': ['India',\n",
       "  'Australia',\n",
       "  'England',\n",
       "  'South Africa',\n",
       "  'Sri Lanka',\n",
       "  'New Zealand']}"
      ]
     },
     "execution_count": 25,
     "metadata": {},
     "output_type": "execute_result"
    }
   ],
   "source": [
    "dict1 = {'Sport':'Cricket', 'Teams':['India','Australia','England','South Africa','Sri Lanka','New Zealand']}\n",
    "dict1"
   ]
  },
  {
   "cell_type": "code",
   "execution_count": 26,
   "id": "29da80c0-7d07-408a-966d-cf1e83995b57",
   "metadata": {},
   "outputs": [
    {
     "data": {
      "text/plain": [
       "dict_keys(['Sport', 'Teams'])"
      ]
     },
     "execution_count": 26,
     "metadata": {},
     "output_type": "execute_result"
    }
   ],
   "source": [
    "dict1.keys()"
   ]
  },
  {
   "cell_type": "code",
   "execution_count": 27,
   "id": "85f99244-afdd-44b5-8966-3f562665c55e",
   "metadata": {},
   "outputs": [
    {
     "data": {
      "text/plain": [
       "dict_values(['Cricket', ['India', 'Australia', 'England', 'South Africa', 'Sri Lanka', 'New Zealand']])"
      ]
     },
     "execution_count": 27,
     "metadata": {},
     "output_type": "execute_result"
    }
   ],
   "source": [
    "dict1.values()"
   ]
  },
  {
   "cell_type": "code",
   "execution_count": 28,
   "id": "50c7b947-2b82-46a6-9efe-f8f41c267959",
   "metadata": {},
   "outputs": [
    {
     "data": {
      "text/plain": [
       "dict_items([('Sport', 'Cricket'), ('Teams', ['India', 'Australia', 'England', 'South Africa', 'Sri Lanka', 'New Zealand'])])"
      ]
     },
     "execution_count": 28,
     "metadata": {},
     "output_type": "execute_result"
    }
   ],
   "source": [
    "dict1.items()"
   ]
  }
 ],
 "metadata": {
  "kernelspec": {
   "display_name": "Python 3 (ipykernel)",
   "language": "python",
   "name": "python3"
  },
  "language_info": {
   "codemirror_mode": {
    "name": "ipython",
    "version": 3
   },
   "file_extension": ".py",
   "mimetype": "text/x-python",
   "name": "python",
   "nbconvert_exporter": "python",
   "pygments_lexer": "ipython3",
   "version": "3.10.8"
  }
 },
 "nbformat": 4,
 "nbformat_minor": 5
}
