{
 "cells": [
  {
   "cell_type": "markdown",
   "id": "42fa765e-5d03-4c6c-bfad-6a0910751a6c",
   "metadata": {},
   "source": [
    "## Q1. Assumptions Required to Use ANOVA and Examples of Violations\n",
    "\n",
    "*Assumptions:*\n",
    "1. *Independence of observations:* Each subject should belong to one group, and the groups should not influence each other.\n",
    "2. *Normality:* The data in each group should be approximately normally distributed.\n",
    "3. *Homogeneity of variances (homoscedasticity):* The variances across groups should be roughly equal.\n",
    "\n",
    "*Examples of Violations:*\n",
    "1. *Independence violation:* If a researcher tests the same subjects multiple times without accounting for repeated measures, this assumption is violated.\n",
    "2. *Normality violation:* If the data in one or more groups are heavily skewed or have outliers, this can affect the validity.\n",
    "3. *Homogeneity violation:* If one group has a much larger variance than others, the assumption is violated, potentially leading to misleading results.\n"
   ]
  },
  {
   "cell_type": "markdown",
   "id": "a0bba9fa-2bf3-4468-8757-261a2492348a",
   "metadata": {},
   "source": [
    "## Q2. Types of ANOVA and Their Situations\n",
    "\n",
    "1. *One-way ANOVA:* Used when comparing means of three or more independent (unrelated) groups.\n",
    "   - Example: Comparing the average test scores of students from three different schools.\n",
    "   \n",
    "2. *Two-way ANOVA:* Used when examining the influence of two different categorical independent variables on one continuous dependent variable.\n",
    "   - Example: Studying the effect of teaching method (traditional vs. new) and gender on student test scores.\n",
    "   \n",
    "3. *Repeated Measures ANOVA:* Used when the same subjects are used for each treatment (i.e., within-subjects design).\n",
    "   - Example: Measuring the blood pressure of patients before and after taking a new medication."
   ]
  },
  {
   "cell_type": "markdown",
   "id": "fea9a7f5-25e7-4cf0-9e03-1589cb47ede3",
   "metadata": {},
   "source": [
    "## Q3. Partitioning of Variance in ANOVA\n",
    "\n",
    "ANOVA partitions the total variance observed in the data into components:\n",
    "1. *Total Sum of Squares (SST):* Total variance in the data.\n",
    "2. *Explained Sum of Squares (SSE):* Variance explained by the model (differences between group means).\n",
    "3. *Residual Sum of Squares (SSR):* Variance within the groups (differences within group data).\n",
    "\n",
    "Understanding this helps to discern how much of the total variance is explained by the groups versus the variance within the groups.\n"
   ]
  },
  {
   "cell_type": "code",
   "execution_count": 1,
   "id": "f492a9c8-2240-456a-b1af-9faf41bf35a4",
   "metadata": {},
   "outputs": [
    {
     "data": {
      "text/plain": [
       "(32.38919911046362, 2.530948957956093, 29.858250152507534)"
      ]
     },
     "execution_count": 1,
     "metadata": {},
     "output_type": "execute_result"
    }
   ],
   "source": [
    "## Q4. Calculating SST, SSE, and SSR in One-way ANOVA Using Python\n",
    "\n",
    "import numpy as np\n",
    "import pandas as pd\n",
    "from scipy import stats\n",
    "\n",
    "# Sample data\n",
    "data = {'group': ['A']*10 + ['B']*10 + ['C']*10,\n",
    "        'values': np.random.randn(30)}\n",
    "df = pd.DataFrame(data)\n",
    "\n",
    "# Grouping data\n",
    "grouped_data = df.groupby('group')['values']\n",
    "\n",
    "# Mean of each group\n",
    "group_means = grouped_data.mean()\n",
    "overall_mean = df['values'].mean()\n",
    "\n",
    "# SST (Total Sum of Squares)\n",
    "sst = sum((df['values'] - overall_mean)**2)\n",
    "\n",
    "# SSE (Explained Sum of Squares)\n",
    "sse = sum(grouped_data.size() * (group_means - overall_mean)**2)\n",
    "\n",
    "# SSR (Residual Sum of Squares)\n",
    "ssr = sum((df['values'] - df['group'].map(group_means))**2)\n",
    "\n",
    "sst, sse, ssr"
   ]
  },
  {
   "cell_type": "code",
   "execution_count": 2,
   "id": "4e338c48-acdf-4913-ba3d-58b958c47ec7",
   "metadata": {},
   "outputs": [
    {
     "data": {
      "text/html": [
       "<div>\n",
       "<style scoped>\n",
       "    .dataframe tbody tr th:only-of-type {\n",
       "        vertical-align: middle;\n",
       "    }\n",
       "\n",
       "    .dataframe tbody tr th {\n",
       "        vertical-align: top;\n",
       "    }\n",
       "\n",
       "    .dataframe thead th {\n",
       "        text-align: right;\n",
       "    }\n",
       "</style>\n",
       "<table border=\"1\" class=\"dataframe\">\n",
       "  <thead>\n",
       "    <tr style=\"text-align: right;\">\n",
       "      <th></th>\n",
       "      <th>sum_sq</th>\n",
       "      <th>df</th>\n",
       "      <th>F</th>\n",
       "      <th>PR(&gt;F)</th>\n",
       "    </tr>\n",
       "  </thead>\n",
       "  <tbody>\n",
       "    <tr>\n",
       "      <th>C(software)</th>\n",
       "      <td>232.853491</td>\n",
       "      <td>2.0</td>\n",
       "      <td>4.436187</td>\n",
       "      <td>0.016452</td>\n",
       "    </tr>\n",
       "    <tr>\n",
       "      <th>C(experience)</th>\n",
       "      <td>3.777445</td>\n",
       "      <td>1.0</td>\n",
       "      <td>0.143931</td>\n",
       "      <td>0.705891</td>\n",
       "    </tr>\n",
       "    <tr>\n",
       "      <th>C(software):C(experience)</th>\n",
       "      <td>31.044751</td>\n",
       "      <td>2.0</td>\n",
       "      <td>0.591446</td>\n",
       "      <td>0.557072</td>\n",
       "    </tr>\n",
       "    <tr>\n",
       "      <th>Residual</th>\n",
       "      <td>1417.218194</td>\n",
       "      <td>54.0</td>\n",
       "      <td>NaN</td>\n",
       "      <td>NaN</td>\n",
       "    </tr>\n",
       "  </tbody>\n",
       "</table>\n",
       "</div>"
      ],
      "text/plain": [
       "                                sum_sq    df         F    PR(>F)\n",
       "C(software)                 232.853491   2.0  4.436187  0.016452\n",
       "C(experience)                 3.777445   1.0  0.143931  0.705891\n",
       "C(software):C(experience)    31.044751   2.0  0.591446  0.557072\n",
       "Residual                   1417.218194  54.0       NaN       NaN"
      ]
     },
     "execution_count": 2,
     "metadata": {},
     "output_type": "execute_result"
    }
   ],
   "source": [
    "## Q5. Calculating Main Effects and Interaction Effects in Two-way ANOVA Using Python\n",
    "\n",
    "import statsmodels.api as sm\n",
    "from statsmodels.formula.api import ols\n",
    "\n",
    "# Sample data\n",
    "np.random.seed(0)\n",
    "data = pd.DataFrame({\n",
    "    'software': np.repeat(['A', 'B', 'C'], 20),\n",
    "    'experience': np.tile(np.repeat(['novice', 'experienced'], 10), 3),\n",
    "    'time': np.random.randn(60) * 5 + 20\n",
    "})\n",
    "\n",
    "# Two-way ANOVA\n",
    "model = ols('time ~ C(software) * C(experience)', data=data).fit()\n",
    "anova_table = sm.stats.anova_lm(model, typ=2)\n",
    "\n",
    "anova_table"
   ]
  },
  {
   "cell_type": "markdown",
   "id": "01bb6413-42eb-4783-8904-d9b49ce98d45",
   "metadata": {},
   "source": [
    "## Q6. Interpreting F-statistic and p-value from One-way ANOVA\n",
    "\n",
    "If you obtained an F-statistic of 5.23 and a p-value of 0.02:\n",
    "- The p-value of 0.02 is less than the typical significance level of 0.05, indicating that there is a statistically significant difference between the group means.\n",
    "- The F-statistic of 5.23 suggests that the between-group variance is significantly larger than the within-group variance."
   ]
  },
  {
   "cell_type": "markdown",
   "id": "2dbfe248-5acb-4011-a8c1-cb0cb80fadb8",
   "metadata": {},
   "source": [
    "## Q7. Handling Missing Data in Repeated Measures ANOVA\n",
    "\n",
    "*Methods:*\n",
    "1. *Listwise Deletion:* Removing any subjects with missing data.\n",
    "   - Consequence: Loss of data, reducing power and potentially biasing results.\n",
    "   \n",
    "2. *Imputation:* Filling in missing values using statistical methods (mean, median, etc.).\n",
    "   - Consequence: Depending on the method, it can introduce bias or reduce variability.\n",
    "\n",
    "3. *Mixed-effects Models:* Using models that can handle missing data by considering it as random.\n",
    "   - Consequence: More complex but often the best approach to retain all available data without biasing results."
   ]
  },
  {
   "cell_type": "markdown",
   "id": "633e9513-2334-4715-8be5-c4e95a6f34e5",
   "metadata": {},
   "source": [
    "## Q8. Common Post-hoc Tests after ANOVA\n",
    "\n",
    "1. *Tukey's HSD:* Used when comparing all possible pairs of means.\n",
    "   - Example: After finding a significant difference in ANOVA, use Tukey's HSD to find which groups differ.\n",
    "   \n",
    "2. *Bonferroni Correction:* Adjusts p-values when performing multiple comparisons to control the Type I error rate.\n",
    "   - Example: When performing multiple pairwise t-tests.\n",
    "   \n",
    "3. *Scheffé Test:* More conservative, used when comparisons involve more than two groups.\n",
    "   - Example: When comparing complex group means."
   ]
  },
  {
   "cell_type": "code",
   "execution_count": 4,
   "id": "9348d115-9e3a-4b9a-aedd-7507b7921dec",
   "metadata": {},
   "outputs": [
    {
     "data": {
      "text/plain": [
       "(2.766424791352801, 0.073142890570744)"
      ]
     },
     "execution_count": 4,
     "metadata": {},
     "output_type": "execute_result"
    }
   ],
   "source": [
    "## Q9. One-way ANOVA for Weight Loss Data Using Python\n",
    "\n",
    "from scipy import stats\n",
    "\n",
    "# Sample data\n",
    "data = {\n",
    "    'Diet': ['A']*17 + ['B']*17 + ['C']*16,\n",
    "    'WeightLoss': np.random.randn(50) * 2 + 5\n",
    "}\n",
    "df = pd.DataFrame(data)\n",
    "\n",
    "# One-way ANOVA\n",
    "f_stat, p_val = stats.f_oneway(df[df['Diet'] == 'A']['WeightLoss'],\n",
    "                               df[df['Diet'] == 'B']['WeightLoss'],\n",
    "                               df[df['Diet'] == 'C']['WeightLoss'])\n",
    "\n",
    "f_stat, p_val\n",
    "\n",
    "# Interpretation:\n",
    "# - Report the F-statistic and p-value.\n",
    "# - If the p-value is less than 0.05, conclude there is a significant difference between the mean weight loss of the three diets."
   ]
  },
  {
   "cell_type": "code",
   "execution_count": null,
   "id": "5ce542a8-49a9-4227-9c4d-48d6c9399cab",
   "metadata": {},
   "outputs": [],
   "source": [
    "## Q10. Two-way ANOVA for Software Programs and Experience Levels Using Python\n",
    "\n",
    "# Assuming the same data as previously created for this question\n",
    "model = ols('time ~ C(software) * C(experience)', data=data).fit()\n",
    "anova_table = sm.stats.anova_lm(model, typ=2)\n",
    "\n",
    "anova_table\n",
    "\n",
    "# Interpretation:\n",
    "# - Report the F-statistics and p-values for main effects and interaction effects.\n",
    "# - Significant p-values (less than 0.05) indicate significant effects."
   ]
  },
  {
   "cell_type": "code",
   "execution_count": 6,
   "id": "d6e197b8-1d69-4398-9e42-3e46231fbe3b",
   "metadata": {},
   "outputs": [
    {
     "data": {
      "text/plain": [
       "(-4.131173276068804, 7.60404836914434e-05)"
      ]
     },
     "execution_count": 6,
     "metadata": {},
     "output_type": "execute_result"
    }
   ],
   "source": [
    "## Q11. Two-sample t-test for Teaching Methods Using Python\n",
    "\n",
    "# Sample data\n",
    "np.random.seed(0)\n",
    "control = np.random.randn(50) * 5 + 70\n",
    "experiment = np.random.randn(50) * 5 + 75\n",
    "\n",
    "# Two-sample t-test\n",
    "t_stat, p_val = stats.ttest_ind(control, experiment)\n",
    "\n",
    "t_stat, p_val\n",
    "\n",
    "# Interpretation:\n",
    "# - If p-value < 0.05, conclude there is a significant difference in test scores between the two groups."
   ]
  },
  {
   "cell_type": "code",
   "execution_count": 7,
   "id": "7214a010-0a32-4da2-b782-716252408015",
   "metadata": {},
   "outputs": [
    {
     "data": {
      "text/html": [
       "<table class=\"simpletable\">\n",
       "<tr>\n",
       "    <td></td>    <th>F Value</th> <th>Num DF</th> <th>Den DF</th>  <th>Pr > F</th>\n",
       "</tr>\n",
       "<tr>\n",
       "  <th>Store</th> <td>1.7820</td>  <td>2.0000</td> <td>58.0000</td> <td>0.1774</td>\n",
       "</tr>\n",
       "</table>"
      ],
      "text/plain": [
       "<class 'statsmodels.iolib.summary2.Summary'>\n",
       "\"\"\"\n",
       "               Anova\n",
       "===================================\n",
       "      F Value Num DF  Den DF Pr > F\n",
       "-----------------------------------\n",
       "Store  1.7820 2.0000 58.0000 0.1774\n",
       "===================================\n",
       "\n",
       "\"\"\""
      ]
     },
     "execution_count": 7,
     "metadata": {},
     "output_type": "execute_result"
    }
   ],
   "source": [
    "## Q12. Repeated Measures ANOVA for Sales Data Using Python\n",
    "\n",
    "import statsmodels.stats.anova as anova\n",
    "from statsmodels.stats.anova import AnovaRM\n",
    "\n",
    "# Sample data\n",
    "data = {\n",
    "    'Store': np.tile(['A', 'B', 'C'], 30),\n",
    "    'Day': np.repeat(np.arange(30), 3),\n",
    "    'Sales': np.random.randn(90) * 10 + 200\n",
    "}\n",
    "df = pd.DataFrame(data)\n",
    "\n",
    "# Repeated Measures ANOVA\n",
    "aovrm = AnovaRM(df, 'Sales', 'Day', within=['Store'])\n",
    "res = aovrm.fit()\n",
    "\n",
    "res.summary()\n",
    "\n",
    "# Interpretation:\n",
    "# - Report the F-statistics and p-values.\n",
    "# - If significant, use post-hoc tests like Tukey’s HSD to determine which stores differ significantly."
   ]
  },
  {
   "cell_type": "code",
   "execution_count": null,
   "id": "2c1ab8fa-ddde-424d-8c98-2cf5c8539d60",
   "metadata": {},
   "outputs": [],
   "source": []
  }
 ],
 "metadata": {
  "kernelspec": {
   "display_name": "Python 3 (ipykernel)",
   "language": "python",
   "name": "python3"
  },
  "language_info": {
   "codemirror_mode": {
    "name": "ipython",
    "version": 3
   },
   "file_extension": ".py",
   "mimetype": "text/x-python",
   "name": "python",
   "nbconvert_exporter": "python",
   "pygments_lexer": "ipython3",
   "version": "3.10.8"
  }
 },
 "nbformat": 4,
 "nbformat_minor": 5
}
