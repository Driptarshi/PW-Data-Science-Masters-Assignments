{
 "cells": [
  {
   "cell_type": "markdown",
   "id": "b401bd9c-fad6-441f-a76b-2b09fa243d31",
   "metadata": {},
   "source": [
    "## Q1. Difference between Ordinal Encoding and Label Encoding\n",
    "\n",
    "*Ordinal Encoding*: Ordinal Encoding is used when the categorical data has an inherent order or ranking. Each category is assigned a numerical value based on its rank. For example, if we have the categories ['small', 'medium', 'large'], they might be encoded as [0, 1, 2], respectively. This implies an order from 'small' to 'large'.\n",
    "\n",
    "*Label Encoding*: Label Encoding assigns a unique integer to each category without considering any order or ranking. It's commonly used for nominal data, where there is no intrinsic ordering among categories. For example, ['red', 'green', 'blue'] might be encoded as [0, 1, 2].\n",
    "\n",
    "*Example of choosing one over the other*:\n",
    "- *Ordinal Encoding*: Use this when the data has a clear order. For instance, education levels like ['High School', 'Bachelor's', 'Master's', 'PhD'] should be ordinally encoded because they have a natural order.\n",
    "- *Label Encoding*: Use this when the data does not have a clear order. For example, colors ['red', 'green', 'blue'] should be label encoded as there is no inherent ranking among the colors."
   ]
  },
  {
   "cell_type": "markdown",
   "id": "63fd05c6-3a34-4b79-95e9-7755cc8dff6f",
   "metadata": {},
   "source": [
    "## Q2. Target Guided Ordinal Encoding\n",
    "\n",
    "*Target Guided Ordinal Encoding* involves assigning ordinal values to categorical variables based on the mean of the target variable. This method helps in encoding the categories in a way that captures the relationship with the target variable.\n",
    "\n",
    "*Example*:\n",
    "Imagine a dataset where you want to predict house prices, and you have a categorical variable 'Neighborhood'. You can calculate the average house price for each neighborhood and then assign ranks based on these averages.\n",
    "\n",
    "Steps:\n",
    "1. Calculate the mean house price for each neighborhood.\n",
    "2. Rank neighborhoods based on these means.\n",
    "3. Encode the neighborhoods with these ranks.\n",
    "\n",
    "*When to use*: Use this method when you want the encoding to reflect the relationship between a categorical feature and the target variable, thereby potentially improving the model's performance."
   ]
  },
  {
   "cell_type": "markdown",
   "id": "9ea3281b-0fa1-4d39-97ac-8d94cca900b7",
   "metadata": {},
   "source": [
    "## Q3. Covariance\n",
    "\n",
    "*Covariance* measures the degree to which two variables change together. It's important in statistical analysis because it helps in understanding the relationship between variables, indicating whether an increase in one variable might result in an increase or decrease in another.\n",
    "\n",
    "*Calculation*:\n",
    "Covariance between two variables \\( X \\) and \\( Y \\) is calculated as:\n",
    "\\[ \\text{Cov}(X, Y) = \\frac{1}{n-1} \\sum_{i=1}^{n} (X_i - \\bar{X})(Y_i - \\bar{Y}) \\]\n",
    "where \\( n \\) is the number of data points, \\( X_i \\) and \\( Y_i \\) are individual data points, and \\( \\bar{X} \\) and \\( \\bar{Y} \\) are the means of \\( X \\) and \\( Y \\), respectively.\n"
   ]
  },
  {
   "cell_type": "code",
   "execution_count": 2,
   "id": "464eb5ad-e029-448e-9237-21a6db106da7",
   "metadata": {},
   "outputs": [
    {
     "name": "stdout",
     "output_type": "stream",
     "text": [
      "   Color    Size Material  Color_encoded  Size_encoded  Material_encoded\n",
      "0    red   small     wood              2             2                 2\n",
      "1  green  medium    metal              1             1                 0\n",
      "2   blue   large  plastic              0             0                 1\n"
     ]
    }
   ],
   "source": [
    "## Q4. Label Encoding with scikit-learn\n",
    "\n",
    "# For the dataset with variables Color, Size, and Material, here's how you can perform label encoding using Python's scikit-learn library:\n",
    "\n",
    "\n",
    "from sklearn.preprocessing import LabelEncoder\n",
    "import pandas as pd\n",
    "\n",
    "# Sample data\n",
    "data = {'Color': ['red', 'green', 'blue'],\n",
    "        'Size': ['small', 'medium', 'large'],\n",
    "        'Material': ['wood', 'metal', 'plastic']}\n",
    "\n",
    "df = pd.DataFrame(data)\n",
    "\n",
    "# Initialize label encoders\n",
    "le_color = LabelEncoder()\n",
    "le_size = LabelEncoder()\n",
    "le_material = LabelEncoder()\n",
    "\n",
    "# Fit and transform the data\n",
    "df['Color_encoded'] = le_color.fit_transform(df['Color'])\n",
    "df['Size_encoded'] = le_size.fit_transform(df['Size'])\n",
    "df['Material_encoded'] = le_material.fit_transform(df['Material'])\n",
    "\n",
    "print(df)\n",
    "\n",
    "\n",
    "# Output Explanation:\n",
    "# The code will print a DataFrame with the original and encoded values for each categorical variable. The encoded columns will contain numerical representations of the original categories."
   ]
  },
  {
   "cell_type": "code",
   "execution_count": 4,
   "id": "3356a442-8f8f-45dc-a9ca-0958c0088cba",
   "metadata": {},
   "outputs": [
    {
     "name": "stdout",
     "output_type": "stream",
     "text": [
      "[[1.22916667e+02 3.35416667e+05 2.83333333e+01]\n",
      " [3.35416667e+05 9.22916667e+08 7.83333333e+04]\n",
      " [2.83333333e+01 7.83333333e+04 6.66666667e+00]]\n"
     ]
    }
   ],
   "source": [
    "## Q5. Covariance Matrix Calculation\n",
    "\n",
    "# For a dataset with variables Age, Income, and Education level, let's assume you have the following data:\n",
    "\n",
    "import numpy as np\n",
    "import pandas as pd\n",
    "\n",
    "# Sample data\n",
    "data = {'Age': [25, 45, 35, 50],\n",
    "        'Income': [50000, 100000, 75000, 120000],\n",
    "        'Education': [12, 16, 14, 18]}  # Assume education level in years\n",
    "\n",
    "df = pd.DataFrame(data)\n",
    "\n",
    "# Calculate covariance matrix\n",
    "cov_matrix = np.cov(df.T)\n",
    "print(cov_matrix)\n",
    "\n",
    "\n",
    "# Output Interpretation:\n",
    "# The covariance matrix will show how each pair of variables covaries:\n",
    "# - Diagonal elements: Variances of Age, Income, and Education.\n",
    "# - Off-diagonal elements: Covariances between each pair of variables."
   ]
  },
  {
   "cell_type": "markdown",
   "id": "189fd6c6-f0e6-4cfb-bd3b-47ef4345528e",
   "metadata": {},
   "source": [
    "## Q6. Encoding Method for Categorical Variables\n",
    "\n",
    "- *Gender (Male/Female)*: Label Encoding, as there are only two categories with no intrinsic order.\n",
    "- *Education Level (High School/Bachelor's/Master's/PhD)*: Ordinal Encoding, as there is a natural order in the education levels.\n",
    "- *Employment Status (Unemployed/Part-Time/Full-Time)*: Ordinal Encoding, as there is a natural progression from unemployed to full-time employment."
   ]
  },
  {
   "cell_type": "code",
   "execution_count": 5,
   "id": "c138210a-6db0-4785-bb2a-25616e401471",
   "metadata": {},
   "outputs": [
    {
     "name": "stdout",
     "output_type": "stream",
     "text": [
      "[[ 41.66666667 -83.33333333]\n",
      " [-83.33333333 166.66666667]]\n"
     ]
    }
   ],
   "source": [
    "## Q7. Covariance Calculation and Interpretation\n",
    "\n",
    "# For the dataset with Temperature, Humidity, Weather Condition, and Wind Direction:\n",
    "\n",
    "# Since covariance is typically calculated for continuous variables, let's focus on Temperature and Humidity:\n",
    "\n",
    "# Sample continuous data\n",
    "data = {'Temperature': [30, 35, 40, 45],\n",
    "        'Humidity': [80, 70, 60, 50]}\n",
    "\n",
    "df = pd.DataFrame(data)\n",
    "\n",
    "# Calculate covariance\n",
    "cov_matrix = np.cov(df.T)\n",
    "print(cov_matrix)\n",
    "\n",
    "\n",
    "# Output Interpretation:\n",
    "# The covariance matrix will show the covariances between Temperature and Humidity. A negative covariance would indicate that as Temperature increases, Humidity tends to decrease.\n",
    "\n",
    "# For categorical variables (Weather Condition and Wind Direction), covariance is not directly applicable. Instead, you could use methods like contingency tables or chi-square tests to analyze the relationship between categorical variables."
   ]
  },
  {
   "cell_type": "code",
   "execution_count": null,
   "id": "843fdcd2-66df-49fb-afc9-6dd30ec93333",
   "metadata": {},
   "outputs": [],
   "source": []
  }
 ],
 "metadata": {
  "kernelspec": {
   "display_name": "Python 3 (ipykernel)",
   "language": "python",
   "name": "python3"
  },
  "language_info": {
   "codemirror_mode": {
    "name": "ipython",
    "version": 3
   },
   "file_extension": ".py",
   "mimetype": "text/x-python",
   "name": "python",
   "nbconvert_exporter": "python",
   "pygments_lexer": "ipython3",
   "version": "3.10.8"
  }
 },
 "nbformat": 4,
 "nbformat_minor": 5
}
