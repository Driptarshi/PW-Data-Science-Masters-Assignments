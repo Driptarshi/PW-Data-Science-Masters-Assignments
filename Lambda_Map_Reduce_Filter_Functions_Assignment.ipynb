{
 "cells": [
  {
   "cell_type": "markdown",
   "id": "73008956-1e08-4d88-91ed-b0890e4602a1",
   "metadata": {},
   "source": [
    "## Q1.\n",
    "Create a python program to sort the given list of tuples based on integer value using a\n",
    "lambda function.\n",
    "\n",
    "[('Sachin Tendulkar', 34357), ('Ricky Ponting', 27483), ('Jack Kallis', 25534), ('Virat Kohli', 24936)]"
   ]
  },
  {
   "cell_type": "code",
   "execution_count": 1,
   "id": "9a682312-b9a5-4faf-aeb7-89798bce8981",
   "metadata": {},
   "outputs": [
    {
     "name": "stdout",
     "output_type": "stream",
     "text": [
      "[('Virat Kohli', 24936), ('Jack Kallis', 25534), ('Ricky Ponting', 27483), ('Sachin Tendulkar', 34357)]\n"
     ]
    }
   ],
   "source": [
    "l1 = [('Sachin Tendulkar', 34357), ('Ricky Ponting', 27483), ('Jack Kallis', 25534), ('Virat Kohli', 24936)]\n",
    "l1.sort(key = lambda x: x[1])\n",
    "print(l1)"
   ]
  },
  {
   "cell_type": "markdown",
   "id": "a97a9f5d-dd94-4930-9123-1f54dc46a3db",
   "metadata": {},
   "source": [
    "## Q2.\n",
    "Write a Python Program to find the squares of all the numbers in the given list of integers using\n",
    "lambda and map functions.\n",
    "\n",
    "[1, 2, 3, 4, 5, 6, 7, 8, 9, 10]"
   ]
  },
  {
   "cell_type": "code",
   "execution_count": 2,
   "id": "b0f92cfe-6dac-46b5-b63f-2d4a025759f7",
   "metadata": {},
   "outputs": [
    {
     "data": {
      "text/plain": [
       "[1, 4, 9, 16, 25, 36, 49, 64, 81, 100]"
      ]
     },
     "execution_count": 2,
     "metadata": {},
     "output_type": "execute_result"
    }
   ],
   "source": [
    "l2=[1, 2, 3, 4, 5, 6, 7, 8, 9, 10]\n",
    "list(map(lambda x: x**2, l2))"
   ]
  },
  {
   "cell_type": "markdown",
   "id": "0e2997d8-702d-4a8e-aa4e-11761b7093a9",
   "metadata": {},
   "source": [
    "## Q3.\n",
    "Write a python program to convert the given list of integers into a tuple of strings. Use map and\n",
    "lambda functions\n",
    "\n",
    "Given String: [1, 2, 3, 4, 5, 6, 7, 8, 9, 10]\n",
    "\n",
    "Expected output: ('1', '2', '3', '4', '5', '6', '7', '8', '9', '10')"
   ]
  },
  {
   "cell_type": "code",
   "execution_count": 3,
   "id": "815afa9d-5b97-4182-8dfd-6037ef62cb3e",
   "metadata": {},
   "outputs": [
    {
     "data": {
      "text/plain": [
       "('1', '2', '3', '4', '5', '6', '7', '8', '9', '10')"
      ]
     },
     "execution_count": 3,
     "metadata": {},
     "output_type": "execute_result"
    }
   ],
   "source": [
    "l3 = [1, 2, 3, 4, 5, 6, 7, 8, 9, 10]\n",
    "tuple(map(lambda x: str(x), l3))"
   ]
  },
  {
   "cell_type": "markdown",
   "id": "179c45b5-edac-45c5-a8ec-602e6635a1ec",
   "metadata": {},
   "source": [
    "## Q4.\n",
    "Write a python program using reduce function to compute the product of a list containing numbers\n",
    "from 1 to 25."
   ]
  },
  {
   "cell_type": "code",
   "execution_count": 4,
   "id": "9a59b6e9-1ca2-4046-980e-6d4d3a7cb4d1",
   "metadata": {},
   "outputs": [],
   "source": [
    "from functools import reduce"
   ]
  },
  {
   "cell_type": "code",
   "execution_count": 5,
   "id": "0d354a41-c926-48bd-b20a-c340cade005f",
   "metadata": {},
   "outputs": [
    {
     "data": {
      "text/plain": [
       "15511210043330985984000000"
      ]
     },
     "execution_count": 5,
     "metadata": {},
     "output_type": "execute_result"
    }
   ],
   "source": [
    "l4=[1,2,3,4,5,6,7,8,9,10,11,12,13,14,15,16,17,18,19,20,21,22,23,24,25]\n",
    "reduce(lambda x,y : x*y, l4)"
   ]
  },
  {
   "cell_type": "markdown",
   "id": "f93716ed-4c63-4d5d-94d1-d77d9ce9a0bc",
   "metadata": {},
   "source": [
    "## Q5.\n",
    "Write a python program to filter the numbers in a given list that are divisible by 2 and 3 using the\n",
    "filter function.\n",
    "\n",
    "[2, 3, 6, 9, 27, 60, 90, 120, 55, 46]"
   ]
  },
  {
   "cell_type": "code",
   "execution_count": 6,
   "id": "68769088-5c79-4f4d-9de2-53875b21db1b",
   "metadata": {},
   "outputs": [
    {
     "data": {
      "text/plain": [
       "[6, 60, 90, 120]"
      ]
     },
     "execution_count": 6,
     "metadata": {},
     "output_type": "execute_result"
    }
   ],
   "source": [
    "l5=[2, 3, 6, 9, 27, 60, 90, 120, 55, 46]\n",
    "list(filter(lambda x : (x%2==0 and x%3==0),l5))"
   ]
  },
  {
   "cell_type": "markdown",
   "id": "cdbe5112-44dd-4df8-9b58-c3bd4f27e09f",
   "metadata": {},
   "source": [
    "## Q6.\n",
    "Write a python program to find palindromes in the given list of strings using lambda and filter\n",
    "function.\n",
    "\n",
    "['python', 'php', 'aba', 'radar', 'level']"
   ]
  },
  {
   "cell_type": "code",
   "execution_count": 7,
   "id": "5e652ae9-e316-4e92-adcf-8012d98f7ac9",
   "metadata": {},
   "outputs": [
    {
     "data": {
      "text/plain": [
       "['php', 'aba', 'radar', 'level']"
      ]
     },
     "execution_count": 7,
     "metadata": {},
     "output_type": "execute_result"
    }
   ],
   "source": [
    "l6=['python', 'php', 'aba', 'radar', 'level']\n",
    "list(filter(lambda x: x[::1]==x[::-1], l6))"
   ]
  },
  {
   "cell_type": "code",
   "execution_count": null,
   "id": "c0ae135d-6665-4ecb-8ada-ba9ecd6906ab",
   "metadata": {},
   "outputs": [],
   "source": []
  }
 ],
 "metadata": {
  "kernelspec": {
   "display_name": "Python 3 (ipykernel)",
   "language": "python",
   "name": "python3"
  },
  "language_info": {
   "codemirror_mode": {
    "name": "ipython",
    "version": 3
   },
   "file_extension": ".py",
   "mimetype": "text/x-python",
   "name": "python",
   "nbconvert_exporter": "python",
   "pygments_lexer": "ipython3",
   "version": "3.10.8"
  }
 },
 "nbformat": 4,
 "nbformat_minor": 5
}
