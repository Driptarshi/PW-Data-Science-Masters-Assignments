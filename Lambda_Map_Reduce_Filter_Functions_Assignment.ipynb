{
 "cells": [
  {
   "cell_type": "markdown",
   "id": "8caed3e2-fc76-40ce-a3ca-d2f021e7f509",
   "metadata": {},
   "source": [
    "## Day7_CW_PWDSM\n",
    "## 4th Feb'23"
   ]
  },
  {
   "cell_type": "markdown",
   "id": "dc355382-0348-4b27-aae6-022e4aef764b",
   "metadata": {},
   "source": [
    "### Lamda Functions"
   ]
  },
  {
   "cell_type": "code",
   "execution_count": 1,
   "id": "a1061232-7178-462b-ad7d-2e541b5fec83",
   "metadata": {},
   "outputs": [],
   "source": [
    "n=3\n",
    "p=2"
   ]
  },
  {
   "cell_type": "code",
   "execution_count": 2,
   "id": "bf5c06d8-11b7-485a-a7dc-d0c6255dcf88",
   "metadata": {},
   "outputs": [],
   "source": [
    "def test(n,p):\n",
    "    return n**p"
   ]
  },
  {
   "cell_type": "code",
   "execution_count": 3,
   "id": "1f542877-3baf-40dd-8256-849a6a34aec4",
   "metadata": {},
   "outputs": [
    {
     "data": {
      "text/plain": [
       "9"
      ]
     },
     "execution_count": 3,
     "metadata": {},
     "output_type": "execute_result"
    }
   ],
   "source": [
    "test(3,2)"
   ]
  },
  {
   "cell_type": "code",
   "execution_count": 4,
   "id": "2ecdbb56-1793-4129-af16-f958da763e69",
   "metadata": {},
   "outputs": [
    {
     "data": {
      "text/plain": [
       "2.0"
      ]
     },
     "execution_count": 4,
     "metadata": {},
     "output_type": "execute_result"
    }
   ],
   "source": [
    "test(4,0.5)"
   ]
  },
  {
   "cell_type": "code",
   "execution_count": 5,
   "id": "cf2affc5-dfd0-4736-822f-519d8b44ef55",
   "metadata": {},
   "outputs": [
    {
     "data": {
      "text/plain": [
       "<function __main__.<lambda>(n, p)>"
      ]
     },
     "execution_count": 5,
     "metadata": {},
     "output_type": "execute_result"
    }
   ],
   "source": [
    "lambda n,p : n**p"
   ]
  },
  {
   "cell_type": "code",
   "execution_count": 6,
   "id": "314dd770-2cbd-4813-82a6-0918bfe82f3f",
   "metadata": {},
   "outputs": [],
   "source": [
    "a= lambda n,p : n**p"
   ]
  },
  {
   "cell_type": "code",
   "execution_count": 7,
   "id": "7cd704a6-aff3-4875-b36b-f5d07630dcfa",
   "metadata": {},
   "outputs": [
    {
     "data": {
      "text/plain": [
       "9"
      ]
     },
     "execution_count": 7,
     "metadata": {},
     "output_type": "execute_result"
    }
   ],
   "source": [
    "a(3,2)"
   ]
  },
  {
   "cell_type": "code",
   "execution_count": 8,
   "id": "6daf387c-a3a0-4bf2-b8b4-4b65756d4609",
   "metadata": {},
   "outputs": [
    {
     "data": {
      "text/plain": [
       "2.0"
      ]
     },
     "execution_count": 8,
     "metadata": {},
     "output_type": "execute_result"
    }
   ],
   "source": [
    "a(4,0.5)"
   ]
  },
  {
   "cell_type": "code",
   "execution_count": 9,
   "id": "1202bbc8-473b-421f-9d6d-faf9b2c1ba6a",
   "metadata": {},
   "outputs": [],
   "source": [
    "add = lambda x,y: x+y"
   ]
  },
  {
   "cell_type": "code",
   "execution_count": 10,
   "id": "25806185-98fc-4bbb-b8fb-2eb5f95aaf7a",
   "metadata": {},
   "outputs": [
    {
     "data": {
      "text/plain": [
       "5"
      ]
     },
     "execution_count": 10,
     "metadata": {},
     "output_type": "execute_result"
    }
   ],
   "source": [
    "add(2,3)"
   ]
  },
  {
   "cell_type": "code",
   "execution_count": 11,
   "id": "8f75bc67-0407-40ee-95fc-8ab929110b3b",
   "metadata": {},
   "outputs": [],
   "source": [
    "c_to_f = lambda c: (9/5)*c+32"
   ]
  },
  {
   "cell_type": "code",
   "execution_count": 12,
   "id": "34fb63e3-5e43-4231-845f-23b394a4683f",
   "metadata": {},
   "outputs": [
    {
     "data": {
      "text/plain": [
       "93.2"
      ]
     },
     "execution_count": 12,
     "metadata": {},
     "output_type": "execute_result"
    }
   ],
   "source": [
    "c_to_f(34)"
   ]
  },
  {
   "cell_type": "code",
   "execution_count": 14,
   "id": "2afbc518-bdb8-481a-adfb-d9c29bd8f975",
   "metadata": {},
   "outputs": [],
   "source": [
    "max_two = lambda x,y : x if x>y else y"
   ]
  },
  {
   "cell_type": "code",
   "execution_count": 15,
   "id": "b0a8eb6a-dc54-455c-ba9f-ea3c3b14bc92",
   "metadata": {},
   "outputs": [
    {
     "data": {
      "text/plain": [
       "2"
      ]
     },
     "execution_count": 15,
     "metadata": {},
     "output_type": "execute_result"
    }
   ],
   "source": [
    "max_two(1,2)"
   ]
  },
  {
   "cell_type": "code",
   "execution_count": 16,
   "id": "e589436b-a5d4-43d8-ab4d-1501a244871b",
   "metadata": {},
   "outputs": [],
   "source": [
    "min_two = lambda x,y : x if x<y else y"
   ]
  },
  {
   "cell_type": "code",
   "execution_count": 17,
   "id": "77ee0b2e-7bbc-4a52-ac4f-97ca12193b57",
   "metadata": {},
   "outputs": [
    {
     "data": {
      "text/plain": [
       "1"
      ]
     },
     "execution_count": 17,
     "metadata": {},
     "output_type": "execute_result"
    }
   ],
   "source": [
    "min_two(1,2)"
   ]
  },
  {
   "cell_type": "code",
   "execution_count": 18,
   "id": "78639db7-c1b5-40b8-9ca9-23a5993c15a5",
   "metadata": {},
   "outputs": [
    {
     "data": {
      "text/plain": [
       "2"
      ]
     },
     "execution_count": 18,
     "metadata": {},
     "output_type": "execute_result"
    }
   ],
   "source": [
    "max_two(1,2)"
   ]
  },
  {
   "cell_type": "code",
   "execution_count": 19,
   "id": "94de5e6a-1594-4874-9aa7-7e12f2ba99e1",
   "metadata": {},
   "outputs": [],
   "source": [
    "name=\"Driptarshi Ray\""
   ]
  },
  {
   "cell_type": "code",
   "execution_count": 20,
   "id": "8231ebb1-2ee6-43d8-9068-6dd27f24e611",
   "metadata": {},
   "outputs": [],
   "source": [
    "len_str = lambda s: len(s)"
   ]
  },
  {
   "cell_type": "code",
   "execution_count": 21,
   "id": "d52554f2-f05d-44a4-94b7-07255ce31acf",
   "metadata": {},
   "outputs": [
    {
     "data": {
      "text/plain": [
       "14"
      ]
     },
     "execution_count": 21,
     "metadata": {},
     "output_type": "execute_result"
    }
   ],
   "source": [
    "len_str(name)"
   ]
  },
  {
   "cell_type": "markdown",
   "id": "5ccc3ff5-26c6-4ac8-a26a-113aa750ba52",
   "metadata": {},
   "source": [
    "### Map, Reduce & Filter Functions"
   ]
  },
  {
   "cell_type": "code",
   "execution_count": 1,
   "id": "dcf3828c-5cad-4d7b-ba22-fb693da2ca8f",
   "metadata": {},
   "outputs": [],
   "source": [
    "l=[1,2,3,4,5]"
   ]
  },
  {
   "cell_type": "code",
   "execution_count": 2,
   "id": "cd163d1a-78b4-4146-9030-e72d384622b9",
   "metadata": {},
   "outputs": [],
   "source": [
    "def test(l):\n",
    "    l1 = []\n",
    "    for i in l:\n",
    "        l1.append(i**2)\n",
    "    return l1"
   ]
  },
  {
   "cell_type": "code",
   "execution_count": 3,
   "id": "2b4e7dc5-8179-483d-ad3a-583254fc5eca",
   "metadata": {},
   "outputs": [
    {
     "data": {
      "text/plain": [
       "[1, 4, 9, 16, 25]"
      ]
     },
     "execution_count": 3,
     "metadata": {},
     "output_type": "execute_result"
    }
   ],
   "source": [
    "test(l)"
   ]
  },
  {
   "cell_type": "code",
   "execution_count": 4,
   "id": "fd0bfbfa-7c22-44b3-be39-e74201ad7c8b",
   "metadata": {},
   "outputs": [],
   "source": [
    "def sq(x):\n",
    "    return x**2"
   ]
  },
  {
   "cell_type": "code",
   "execution_count": 5,
   "id": "54e1038d-08cc-42ae-8240-fb95b22b177a",
   "metadata": {},
   "outputs": [
    {
     "data": {
      "text/plain": [
       "16"
      ]
     },
     "execution_count": 5,
     "metadata": {},
     "output_type": "execute_result"
    }
   ],
   "source": [
    "sq(4)"
   ]
  },
  {
   "cell_type": "code",
   "execution_count": 6,
   "id": "59ea91a6-045b-4685-8c22-3ccd1576b5cf",
   "metadata": {},
   "outputs": [
    {
     "data": {
      "text/plain": [
       "<map at 0x7f189680f0a0>"
      ]
     },
     "execution_count": 6,
     "metadata": {},
     "output_type": "execute_result"
    }
   ],
   "source": [
    "map(sq,l)"
   ]
  },
  {
   "cell_type": "code",
   "execution_count": 7,
   "id": "1a6f6dac-8ba0-4a6f-94bd-d0f6a4cfeee6",
   "metadata": {},
   "outputs": [
    {
     "data": {
      "text/plain": [
       "[1, 4, 9, 16, 25]"
      ]
     },
     "execution_count": 7,
     "metadata": {},
     "output_type": "execute_result"
    }
   ],
   "source": [
    "list(map(sq,l))"
   ]
  },
  {
   "cell_type": "code",
   "execution_count": 8,
   "id": "66861b33-5873-4df6-999e-44e10801176e",
   "metadata": {},
   "outputs": [
    {
     "data": {
      "text/plain": [
       "[1, 4, 9, 16, 25]"
      ]
     },
     "execution_count": 8,
     "metadata": {},
     "output_type": "execute_result"
    }
   ],
   "source": [
    "list(map(lambda x:x**2,l))"
   ]
  },
  {
   "cell_type": "code",
   "execution_count": 9,
   "id": "7efae99d-4c41-47f6-a68f-408590828c4a",
   "metadata": {},
   "outputs": [
    {
     "data": {
      "text/plain": [
       "[3, 4, 5, 6, 7]"
      ]
     },
     "execution_count": 9,
     "metadata": {},
     "output_type": "execute_result"
    }
   ],
   "source": [
    "list(map(lambda x: x + 2, l))"
   ]
  },
  {
   "cell_type": "code",
   "execution_count": 10,
   "id": "e5488ae5-3f87-4282-9a73-ae9e5fcd79e2",
   "metadata": {},
   "outputs": [
    {
     "data": {
      "text/plain": [
       "['1', '2', '3', '4', '5']"
      ]
     },
     "execution_count": 10,
     "metadata": {},
     "output_type": "execute_result"
    }
   ],
   "source": [
    "list(map(lambda x: str(x), l))"
   ]
  },
  {
   "cell_type": "code",
   "execution_count": 11,
   "id": "43f4209b-1c6d-4ba5-be0f-842ee06a0a29",
   "metadata": {},
   "outputs": [],
   "source": [
    "l1=[1,2,3,4,5]\n",
    "l2=[6,7,8,10,11]"
   ]
  },
  {
   "cell_type": "code",
   "execution_count": 12,
   "id": "211674fb-154f-4525-9408-1efc3022f849",
   "metadata": {},
   "outputs": [
    {
     "data": {
      "text/plain": [
       "[7, 9, 11, 14, 16]"
      ]
     },
     "execution_count": 12,
     "metadata": {},
     "output_type": "execute_result"
    }
   ],
   "source": [
    "list(map(lambda x,y:x+y,l1,l2))"
   ]
  },
  {
   "cell_type": "code",
   "execution_count": 14,
   "id": "8fd31091-f51d-4533-9279-ed50074f3184",
   "metadata": {},
   "outputs": [],
   "source": [
    "f = lambda x,y : x-y"
   ]
  },
  {
   "cell_type": "code",
   "execution_count": 15,
   "id": "ed3da1fe-aee4-4109-b1b3-1d3715ef3a02",
   "metadata": {},
   "outputs": [
    {
     "data": {
      "text/plain": [
       "[-5, -5, -5, -6, -6]"
      ]
     },
     "execution_count": 15,
     "metadata": {},
     "output_type": "execute_result"
    }
   ],
   "source": [
    "list(map(f,l1,l2))"
   ]
  },
  {
   "cell_type": "code",
   "execution_count": 16,
   "id": "9b6b7bda-09c2-43e0-9bae-15f75f49cdf1",
   "metadata": {},
   "outputs": [],
   "source": [
    "s = \"qwerty\""
   ]
  },
  {
   "cell_type": "code",
   "execution_count": 17,
   "id": "cbcca8cc-da9b-4d95-9d79-c0e2e3c9195a",
   "metadata": {},
   "outputs": [
    {
     "data": {
      "text/plain": [
       "['Q', 'W', 'E', 'R', 'T', 'Y']"
      ]
     },
     "execution_count": 17,
     "metadata": {},
     "output_type": "execute_result"
    }
   ],
   "source": [
    "list(map(lambda x: x.upper(), s))"
   ]
  },
  {
   "cell_type": "code",
   "execution_count": 18,
   "id": "5b224d48-4a00-4e68-a089-1eb9a2f251e2",
   "metadata": {},
   "outputs": [],
   "source": [
    "# Reduce \n",
    "from functools import reduce"
   ]
  },
  {
   "cell_type": "code",
   "execution_count": 19,
   "id": "aa4286d4-46d4-4724-9523-f666682b1a46",
   "metadata": {},
   "outputs": [],
   "source": [
    "l=[1,2,3,4,5,6,7,8,9]"
   ]
  },
  {
   "cell_type": "code",
   "execution_count": 20,
   "id": "2d6d594b-8d27-428a-92ce-e45affa4f85d",
   "metadata": {},
   "outputs": [
    {
     "data": {
      "text/plain": [
       "45"
      ]
     },
     "execution_count": 20,
     "metadata": {},
     "output_type": "execute_result"
    }
   ],
   "source": [
    "reduce(lambda x,y : x+y,l)"
   ]
  },
  {
   "cell_type": "code",
   "execution_count": 21,
   "id": "f36fa2ed-10db-4986-9643-84ed8e886632",
   "metadata": {},
   "outputs": [],
   "source": [
    "def add(x,y):\n",
    "    return x+y"
   ]
  },
  {
   "cell_type": "code",
   "execution_count": 22,
   "id": "9cb52d14-3526-4a70-be7f-0ce294553862",
   "metadata": {},
   "outputs": [
    {
     "data": {
      "text/plain": [
       "45"
      ]
     },
     "execution_count": 22,
     "metadata": {},
     "output_type": "execute_result"
    }
   ],
   "source": [
    "reduce(add,l)"
   ]
  },
  {
   "cell_type": "code",
   "execution_count": 23,
   "id": "10a56400-ef8b-41cc-b033-2a56a1a848c9",
   "metadata": {},
   "outputs": [
    {
     "data": {
      "text/plain": [
       "-43"
      ]
     },
     "execution_count": 23,
     "metadata": {},
     "output_type": "execute_result"
    }
   ],
   "source": [
    "reduce(lambda x,y: x-y,l)"
   ]
  },
  {
   "cell_type": "code",
   "execution_count": 24,
   "id": "e96f8e81-c07d-45e3-8701-b2262047569a",
   "metadata": {},
   "outputs": [],
   "source": [
    "def subtract(x,y):\n",
    "    return(x-y)"
   ]
  },
  {
   "cell_type": "code",
   "execution_count": 25,
   "id": "2f1a9b8e-c648-43d9-acfd-29de669da64d",
   "metadata": {},
   "outputs": [
    {
     "data": {
      "text/plain": [
       "-43"
      ]
     },
     "execution_count": 25,
     "metadata": {},
     "output_type": "execute_result"
    }
   ],
   "source": [
    "reduce(subtract,l)"
   ]
  },
  {
   "cell_type": "code",
   "execution_count": 26,
   "id": "d47880a2-08eb-4966-9b37-1d6be3b1cb8f",
   "metadata": {},
   "outputs": [
    {
     "ename": "TypeError",
     "evalue": "<lambda>() missing 1 required positional argument: 'z'",
     "output_type": "error",
     "traceback": [
      "\u001b[0;31m---------------------------------------------------------------------------\u001b[0m",
      "\u001b[0;31mTypeError\u001b[0m                                 Traceback (most recent call last)",
      "Cell \u001b[0;32mIn[26], line 1\u001b[0m\n\u001b[0;32m----> 1\u001b[0m \u001b[43mreduce\u001b[49m\u001b[43m(\u001b[49m\u001b[38;5;28;43;01mlambda\u001b[39;49;00m\u001b[43m \u001b[49m\u001b[43mx\u001b[49m\u001b[43m,\u001b[49m\u001b[43my\u001b[49m\u001b[43m,\u001b[49m\u001b[43mz\u001b[49m\u001b[43m:\u001b[49m\u001b[43m \u001b[49m\u001b[43mx\u001b[49m\u001b[38;5;241;43m+\u001b[39;49m\u001b[43my\u001b[49m\u001b[38;5;241;43m+\u001b[39;49m\u001b[43mz\u001b[49m\u001b[43m,\u001b[49m\u001b[43ml\u001b[49m\u001b[43m)\u001b[49m\n",
      "\u001b[0;31mTypeError\u001b[0m: <lambda>() missing 1 required positional argument: 'z'"
     ]
    }
   ],
   "source": [
    "reduce(lambda x,y,z: x+y+z,l)"
   ]
  },
  {
   "cell_type": "code",
   "execution_count": 27,
   "id": "c28edb6a-1edb-4b81-8a18-69a80e8a9cfa",
   "metadata": {},
   "outputs": [
    {
     "ename": "TypeError",
     "evalue": "reduce() of empty iterable with no initial value",
     "output_type": "error",
     "traceback": [
      "\u001b[0;31m---------------------------------------------------------------------------\u001b[0m",
      "\u001b[0;31mTypeError\u001b[0m                                 Traceback (most recent call last)",
      "Cell \u001b[0;32mIn[27], line 1\u001b[0m\n\u001b[0;32m----> 1\u001b[0m \u001b[43mreduce\u001b[49m\u001b[43m(\u001b[49m\u001b[38;5;28;43;01mlambda\u001b[39;49;00m\u001b[43m \u001b[49m\u001b[43mx\u001b[49m\u001b[43m,\u001b[49m\u001b[43my\u001b[49m\u001b[43m:\u001b[49m\u001b[43m \u001b[49m\u001b[43mx\u001b[49m\u001b[38;5;241;43m+\u001b[39;49m\u001b[43my\u001b[49m\u001b[43m,\u001b[49m\u001b[43m[\u001b[49m\u001b[43m]\u001b[49m\u001b[43m)\u001b[49m\n",
      "\u001b[0;31mTypeError\u001b[0m: reduce() of empty iterable with no initial value"
     ]
    }
   ],
   "source": [
    "reduce(lambda x,y: x+y,[])"
   ]
  },
  {
   "cell_type": "code",
   "execution_count": 28,
   "id": "7dd2bd70-9e76-4a9f-8f83-825b40e29878",
   "metadata": {},
   "outputs": [
    {
     "data": {
      "text/plain": [
       "1"
      ]
     },
     "execution_count": 28,
     "metadata": {},
     "output_type": "execute_result"
    }
   ],
   "source": [
    "reduce(lambda x,y : x+y,[1])"
   ]
  },
  {
   "cell_type": "code",
   "execution_count": 29,
   "id": "b4853862-91f3-4a04-99ab-5705ef78c1c3",
   "metadata": {},
   "outputs": [
    {
     "data": {
      "text/plain": [
       "2"
      ]
     },
     "execution_count": 29,
     "metadata": {},
     "output_type": "execute_result"
    }
   ],
   "source": [
    "reduce(lambda x,y: x*y,[2])"
   ]
  },
  {
   "cell_type": "code",
   "execution_count": 30,
   "id": "83fe1990-90e3-4987-a444-3b0e3effd3ee",
   "metadata": {},
   "outputs": [
    {
     "data": {
      "text/plain": [
       "[1, 2, 3, 4, 5, 6, 7, 8, 9]"
      ]
     },
     "execution_count": 30,
     "metadata": {},
     "output_type": "execute_result"
    }
   ],
   "source": [
    "l"
   ]
  },
  {
   "cell_type": "code",
   "execution_count": 31,
   "id": "3fa4c5f9-e42a-4ea9-ac6b-b2d79237a369",
   "metadata": {},
   "outputs": [
    {
     "data": {
      "text/plain": [
       "9"
      ]
     },
     "execution_count": 31,
     "metadata": {},
     "output_type": "execute_result"
    }
   ],
   "source": [
    "reduce(lambda x,y: x if x>y else y,l)"
   ]
  },
  {
   "cell_type": "code",
   "execution_count": 32,
   "id": "84ece30b-ea5c-4933-b54f-ac9164f85c2b",
   "metadata": {},
   "outputs": [
    {
     "data": {
      "text/plain": [
       "1"
      ]
     },
     "execution_count": 32,
     "metadata": {},
     "output_type": "execute_result"
    }
   ],
   "source": [
    "reduce(lambda x,y: x if x<y else y,l)"
   ]
  },
  {
   "cell_type": "code",
   "execution_count": 33,
   "id": "3c90106f-0e8c-4cc4-b382-193d2f1d7617",
   "metadata": {},
   "outputs": [
    {
     "data": {
      "text/plain": [
       "<filter at 0x7f1894542740>"
      ]
     },
     "execution_count": 33,
     "metadata": {},
     "output_type": "execute_result"
    }
   ],
   "source": [
    "# filter\n",
    "\n",
    "filter(lambda x: x%2==0,l)"
   ]
  },
  {
   "cell_type": "code",
   "execution_count": 34,
   "id": "e295f670-4bf5-43e3-8bd5-6d1590b40def",
   "metadata": {},
   "outputs": [
    {
     "data": {
      "text/plain": [
       "[2, 4, 6, 8]"
      ]
     },
     "execution_count": 34,
     "metadata": {},
     "output_type": "execute_result"
    }
   ],
   "source": [
    "list(filter(lambda x: x%2==0, l))"
   ]
  },
  {
   "cell_type": "code",
   "execution_count": 35,
   "id": "cb7f294e-5604-488b-b160-6980d2db2fd7",
   "metadata": {},
   "outputs": [
    {
     "data": {
      "text/plain": [
       "[1, 3, 5, 7, 9]"
      ]
     },
     "execution_count": 35,
     "metadata": {},
     "output_type": "execute_result"
    }
   ],
   "source": [
    "list(filter(lambda x: x%2!=0,l))"
   ]
  },
  {
   "cell_type": "code",
   "execution_count": 36,
   "id": "7e8c3c7a-26ea-473c-acfe-bec433116583",
   "metadata": {},
   "outputs": [],
   "source": [
    "l1=[-5,-4,-3,-2,-1,1,2,3,4,5]"
   ]
  },
  {
   "cell_type": "code",
   "execution_count": 37,
   "id": "5fb5bbd6-2aa5-43b4-ab63-f33c6e83d8f7",
   "metadata": {},
   "outputs": [
    {
     "data": {
      "text/plain": [
       "<filter at 0x7f189451c130>"
      ]
     },
     "execution_count": 37,
     "metadata": {},
     "output_type": "execute_result"
    }
   ],
   "source": [
    "filter(lambda x: x<0,l1)"
   ]
  },
  {
   "cell_type": "code",
   "execution_count": 38,
   "id": "a2def0b5-2733-4ee4-b33d-36efc54b8b35",
   "metadata": {},
   "outputs": [
    {
     "data": {
      "text/plain": [
       "[-5, -4, -3, -2, -1]"
      ]
     },
     "execution_count": 38,
     "metadata": {},
     "output_type": "execute_result"
    }
   ],
   "source": [
    "list(filter(lambda x: x<0, l1))"
   ]
  },
  {
   "cell_type": "code",
   "execution_count": 39,
   "id": "07f0c6f1-9034-4d25-9bf3-0d34f1fcf630",
   "metadata": {},
   "outputs": [],
   "source": [
    "l2=[\"Driptarshi\",\"Ray\",\"Ashirbad\",\"Noapara\"]"
   ]
  },
  {
   "cell_type": "code",
   "execution_count": 40,
   "id": "90452b6b-7771-456c-bdb9-6dbbbf5d2821",
   "metadata": {},
   "outputs": [
    {
     "data": {
      "text/plain": [
       "['Driptarshi', 'Ashirbad', 'Noapara']"
      ]
     },
     "execution_count": 40,
     "metadata": {},
     "output_type": "execute_result"
    }
   ],
   "source": [
    "list(filter(lambda x: len(x)>3, l2))"
   ]
  },
  {
   "cell_type": "code",
   "execution_count": null,
   "id": "3d84fcd8-cd52-4997-b5c3-aa835c4126ef",
   "metadata": {},
   "outputs": [],
   "source": []
  }
 ],
 "metadata": {
  "kernelspec": {
   "display_name": "Python 3 (ipykernel)",
   "language": "python",
   "name": "python3"
  },
  "language_info": {
   "codemirror_mode": {
    "name": "ipython",
    "version": 3
   },
   "file_extension": ".py",
   "mimetype": "text/x-python",
   "name": "python",
   "nbconvert_exporter": "python",
   "pygments_lexer": "ipython3",
   "version": "3.10.8"
  }
 },
 "nbformat": 4,
 "nbformat_minor": 5
}
