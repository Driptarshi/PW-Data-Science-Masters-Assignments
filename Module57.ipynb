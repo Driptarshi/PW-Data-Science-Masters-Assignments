{
 "cells": [
  {
   "cell_type": "markdown",
   "id": "0196b80c-b2e2-4ad4-a5ac-8e4c4b1b6797",
   "metadata": {},
   "source": [
    "## Q1. What is data encoding? How is it useful in data science?\n",
    "\n",
    "*Data encoding* is the process of converting categorical data into a numerical format so that it can be processed by machine learning algorithms. Since most machine learning models require numerical input, encoding is crucial for converting non-numeric data into a suitable format. Encoding helps in simplifying the data structure, making it easier to model and analyze patterns within the data."
   ]
  },
  {
   "cell_type": "markdown",
   "id": "d0b040f2-5bde-4e11-a71d-ef2591e9ef1a",
   "metadata": {},
   "source": [
    "## Q2. What is nominal encoding? Provide an example of how you would use it in a real-world scenario.\n",
    "\n",
    "*Nominal encoding*, also known as label encoding, is a method where each unique category value is assigned an integer value. This type of encoding is used when the categorical data is not ordinal, meaning there is no inherent order among the categories.\n",
    "\n",
    "*Example:*\n",
    "In a dataset containing information about fruits with a \"Fruit Type\" column:\n",
    "- Apple → 1\n",
    "- Orange → 2\n",
    "- Banana → 3\n",
    "- Grape → 4\n",
    "\n",
    "This encoding could be used in a scenario where you are predicting the price of fruit based on its type."
   ]
  },
  {
   "cell_type": "markdown",
   "id": "9df7d24b-c6e5-4bb0-be40-8c332bb74e96",
   "metadata": {},
   "source": [
    "## Q3. In what situations is nominal encoding preferred over one-hot encoding? Provide a practical example.\n",
    "\n",
    "Nominal encoding is preferred over one-hot encoding when the categorical data has a large number of unique values and the machine learning algorithm can handle ordinal data, or when the algorithm can interpret the encoded values meaningfully without implying an ordinal relationship.\n",
    "\n",
    "*Example:*\n",
    "In a dataset with the \"Country\" column having many unique country names, nominal encoding is more efficient in terms of memory usage and computational complexity compared to one-hot encoding, which would create a sparse matrix with many columns.\n"
   ]
  },
  {
   "cell_type": "markdown",
   "id": "e428feaa-d65e-4064-a208-fe4a8236307d",
   "metadata": {},
   "source": [
    "## Q4. Suppose you have a dataset containing categorical data with 5 unique values. Which encoding technique would you use to transform this data into a format suitable for machine learning algorithms? Explain why you made this choice.\n",
    "\n",
    "If the categorical data has no inherent order and the number of unique values is small (5 in this case), *one-hot encoding* is generally preferred. This is because it avoids any ordinal relationship between the categories that nominal encoding might imply.\n",
    "\n",
    "For example, for the categories \"Red\", \"Blue\", \"Green\", \"Yellow\", and \"Black\":\n",
    "- Red → [1, 0, 0, 0, 0]\n",
    "- Blue → [0, 1, 0, 0, 0]\n",
    "- Green → [0, 0, 1, 0, 0]\n",
    "- Yellow → [0, 0, 0, 1, 0]\n",
    "- Black → [0, 0, 0, 0, 1]"
   ]
  },
  {
   "cell_type": "markdown",
   "id": "15ea7bfa-efcb-4e8d-88bd-74394431c6e7",
   "metadata": {},
   "source": [
    "## Q5. In a machine learning project, you have a dataset with 1000 rows and 5 columns. Two of the columns are categorical, and the remaining three columns are numerical. If you were to use nominal encoding to transform the categorical data, how many new columns would be created? Show your calculations.\n",
    "\n",
    "If we use nominal encoding for two categorical columns, each unique value in these columns will be represented by a unique integer. Assuming the two columns have \\( V_1 \\) and \\( V_2 \\) unique values respectively, we still have 2 columns after encoding."
   ]
  },
  {
   "cell_type": "markdown",
   "id": "f831a8b7-01ab-49e6-9f5a-b578526aab5e",
   "metadata": {},
   "source": [
    "## Q6. You are working with a dataset containing information about different types of animals, including their species, habitat, and diet. Which encoding technique would you use to transform the categorical data into a format suitable for machine learning algorithms? Justify your answer.\n",
    "\n",
    "For a dataset with categories like species, habitat, and diet, I would use *one-hot encoding*. This is because these categories are nominal (no inherent order) and one-hot encoding prevents any ordinal relationship implication that nominal encoding might introduce."
   ]
  },
  {
   "cell_type": "code",
   "execution_count": null,
   "id": "2f7de865-92ad-41a3-9035-76d3737db858",
   "metadata": {},
   "outputs": [],
   "source": [
    "## Q7. You are working on a project that involves predicting customer churn for a telecommunications company. You have a dataset with 5 features, including the customer's gender, age, contract type, monthly charges, and tenure. Which encoding technique(s) would you use to transform the categorical data into numerical data? Provide a step-by-step explanation of how you would implement the encoding.\n",
    "\n",
    "# To predict customer churn with features like gender, age, contract type, monthly charges, and tenure, the categorical features need to be encoded.\n",
    "\n",
    "# 1. Identify categorical features: \"Gender\" and \"Contract Type\" are categorical.\n",
    "\n",
    "# 2. Gender:\n",
    "#   - Typically has two categories: \"Male\" and \"Female\".\n",
    "#   - Use one-hot encoding or binary encoding (0 for Male, 1 for Female).\n",
    "\n",
    "# 3. Contract Type:\n",
    "#   - Suppose it has three categories: \"Month-to-Month\", \"One Year\", \"Two Year\".\n",
    "#   - Use one-hot encoding to avoid any ordinal relationships.\n",
    "#     - Month-to-Month → [1, 0, 0]\n",
    "#     - One Year → [0, 1, 0]\n",
    "#     - Two Year → [0, 0, 1]\n",
    "\n",
    "# 4. Numerical features: \"Age\", \"Monthly Charges\", and \"Tenure\" can be used directly.\n",
    "\n",
    "# Step-by-Step Implementation:\n",
    "# 1. Import necessary libraries (e.g., pandas, sklearn).\n",
    "# 2. Load the dataset.\n",
    "# 3. Apply one-hot encoding to \"Gender\" and \"Contract Type\" using pandas' get_dummies() or sklearn's OneHotEncoder.\n",
    "# 4. Concatenate the encoded columns back to the original dataset.\n",
    "# 5. Ensure that the final dataset is numerical and suitable for machine learning algorithms.\n",
    "\n",
    "\n",
    "import pandas as pd\n",
    "\n",
    "# Assuming df is the DataFrame\n",
    "df = pd.read_csv('customer_churn.csv')\n",
    "\n",
    "# One-hot encode categorical columns\n",
    "df_encoded = pd.get_dummies(df, columns=['Gender', 'Contract Type'], drop_first=True)\n",
    "\n",
    "# Now df_encoded is ready for machine learning algorithms\n",
    "\n",
    "\n",
    "# This ensures all categorical data is transformed into a numerical format without implying any unintended order."
   ]
  }
 ],
 "metadata": {
  "kernelspec": {
   "display_name": "Python 3 (ipykernel)",
   "language": "python",
   "name": "python3"
  },
  "language_info": {
   "codemirror_mode": {
    "name": "ipython",
    "version": 3
   },
   "file_extension": ".py",
   "mimetype": "text/x-python",
   "name": "python",
   "nbconvert_exporter": "python",
   "pygments_lexer": "ipython3",
   "version": "3.10.8"
  }
 },
 "nbformat": 4,
 "nbformat_minor": 5
}
