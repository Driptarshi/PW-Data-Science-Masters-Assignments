{
 "cells": [
  {
   "cell_type": "markdown",
   "id": "eaeed9d5-4e78-41cb-8d7a-eafe6495c26a",
   "metadata": {},
   "source": [
    "## Q1. What is an API? Give an example, where an API is used in real life.\n",
    "\n",
    "An API (Application Programming Interface) is a set of rules and protocols that allows different software applications to communicate with each other. An example of an API in real life is the Google Maps API, which allows developers to integrate Google Maps into their own websites and applications, providing functionalities like displaying maps, locations, and navigation routes.\n",
    "\n",
    "## Q2. Give advantages and disadvantages of using API.\n",
    "\n",
    "Advantages:\n",
    "1. *Integration*: Facilitates integration between different systems and platforms.\n",
    "2. *Automation*: Enables automation of tasks by allowing applications to communicate without user intervention.\n",
    "3. *Efficiency*: Saves time and resources by allowing reuse of existing functionalities.\n",
    "4. *Scalability*: Supports scalable system architecture by enabling modularity and separation of concerns.\n",
    "\n",
    "Disadvantages:\n",
    "1. *Security Risks*: Can expose vulnerabilities if not properly secured.\n",
    "2. *Complexity*: Implementing and maintaining APIs can be complex and require specialized knowledge.\n",
    "3. *Dependency*: Over-reliance on third-party APIs can lead to issues if those APIs change or become unavailable.\n",
    "4. *Performance*: Network latency and other performance issues can arise due to the communication between different systems.\n",
    "\n",
    "## Q3. What is a Web API? Differentiate between API and Web API.\n",
    "\n",
    "A Web API is a specific type of API that is accessed over the web using HTTP/HTTPS protocols. It allows interaction between different software applications via the web.\n",
    "\n",
    "Difference:\n",
    "- *Scope*: APIs can be for various types of communication (e.g., between software libraries, operating systems), whereas Web APIs are specifically designed for web-based communication.\n",
    "- *Protocol*: Web APIs use web protocols (HTTP/HTTPS), while APIs might use various protocols depending on their purpose (e.g., COM, RPC, etc.).\n",
    "\n",
    "## Q4. Explain REST and SOAP Architecture. Mention shortcomings of SOAP.\n",
    "\n",
    "REST (Representational State Transfer): \n",
    "- An architectural style that uses standard web protocols, primarily HTTP. \n",
    "- It is stateless, meaning each request from client to server must contain all the information needed to understand and process the request.\n",
    "- Uses standard HTTP methods (GET, POST, PUT, DELETE).\n",
    "\n",
    "SOAP (Simple Object Access Protocol): \n",
    "- A protocol for exchanging structured information in the implementation of web services.\n",
    "- Relies on XML for message format and typically uses HTTP/HTTPS or SMTP for message negotiation and transmission.\n",
    "- Provides built-in error handling and allows for communication via different transport protocols.\n"
   ]
  },
  {
   "cell_type": "code",
   "execution_count": null,
   "id": "fda8f884-9554-4874-bbbb-fc2aaf5954bb",
   "metadata": {},
   "outputs": [],
   "source": []
  }
 ],
 "metadata": {
  "kernelspec": {
   "display_name": "Python 3 (ipykernel)",
   "language": "python",
   "name": "python3"
  },
  "language_info": {
   "codemirror_mode": {
    "name": "ipython",
    "version": 3
   },
   "file_extension": ".py",
   "mimetype": "text/x-python",
   "name": "python",
   "nbconvert_exporter": "python",
   "pygments_lexer": "ipython3",
   "version": "3.10.8"
  }
 },
 "nbformat": 4,
 "nbformat_minor": 5
}
