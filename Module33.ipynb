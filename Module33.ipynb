{
 "cells": [
  {
   "cell_type": "code",
   "execution_count": 15,
   "id": "b61d2f12-1483-4566-8b41-5c4d2a1584ef",
   "metadata": {},
   "outputs": [],
   "source": [
    "import pandas as pd"
   ]
  },
  {
   "cell_type": "code",
   "execution_count": 16,
   "id": "2aa5df7f-7ced-4d05-a623-a8f0d1267f37",
   "metadata": {},
   "outputs": [
    {
     "name": "stdout",
     "output_type": "stream",
     "text": [
      "Q1. Series:\n",
      "0     4\n",
      "1     8\n",
      "2    15\n",
      "3    16\n",
      "4    23\n",
      "5    42\n",
      "dtype: int64\n"
     ]
    }
   ],
   "source": [
    "# Q1\n",
    "data = [4, 8, 15, 16, 23, 42]\n",
    "series = pd.Series(data)\n",
    "print(\"Q1. Series:\")\n",
    "print(series)"
   ]
  },
  {
   "cell_type": "code",
   "execution_count": 17,
   "id": "a93757c9-1b60-4ce4-97db-98c150b791a5",
   "metadata": {},
   "outputs": [
    {
     "name": "stdout",
     "output_type": "stream",
     "text": [
      "Q2. Series from list:\n",
      "0     1\n",
      "1     2\n",
      "2     3\n",
      "3     4\n",
      "4     5\n",
      "5     6\n",
      "6     7\n",
      "7     8\n",
      "8     9\n",
      "9    10\n",
      "dtype: int64\n"
     ]
    }
   ],
   "source": [
    "# Q2\n",
    "list_data = [1, 2, 3, 4, 5, 6, 7, 8, 9, 10]\n",
    "series_from_list = pd.Series(list_data)\n",
    "print(\"Q2. Series from list:\")\n",
    "print(series_from_list)"
   ]
  },
  {
   "cell_type": "code",
   "execution_count": 18,
   "id": "500fb715-8f93-4af8-8c93-7ade5761d447",
   "metadata": {},
   "outputs": [
    {
     "name": "stdout",
     "output_type": "stream",
     "text": [
      "Q3. DataFrame:\n",
      "     Name  Age  Gender\n",
      "0   Alice   25  Female\n",
      "1     Bob   30    Male\n",
      "2  Claire   27  Female\n"
     ]
    }
   ],
   "source": [
    "# Q3\n",
    "data = {\n",
    "    \"Name\": [\"Alice\", \"Bob\", \"Claire\"],\n",
    "    \"Age\": [25, 30, 27],\n",
    "    \"Gender\": [\"Female\", \"Male\", \"Female\"]\n",
    "}\n",
    "df = pd.DataFrame(data)\n",
    "print(\"Q3. DataFrame:\")\n",
    "print(df)"
   ]
  },
  {
   "cell_type": "code",
   "execution_count": 19,
   "id": "b6a59d46-737a-467f-a089-bafe72f2fe70",
   "metadata": {},
   "outputs": [
    {
     "name": "stdout",
     "output_type": "stream",
     "text": [
      "Series example:\n",
      "0    1\n",
      "1    2\n",
      "2    3\n",
      "dtype: int64\n",
      "DataFrame example:\n",
      "   A  B\n",
      "0  1  4\n",
      "1  2  5\n",
      "2  3  6\n"
     ]
    }
   ],
   "source": [
    "# Q4.\n",
    "\n",
    "# A DataFrame in pandas is a two-dimensional, size-mutable, and potentially heterogeneous tabular data structure with labeled axes (rows and columns). It is similar to a table in a database or an Excel spreadsheet.\n",
    "\n",
    "# A Series, on the other hand, is a one-dimensional array-like object that can hold any data type. It is similar to a single column of a DataFrame.\n",
    "\n",
    "# Example:\n",
    "\n",
    "\n",
    "# Series example\n",
    "series_example = pd.Series([1, 2, 3])\n",
    "print(\"Series example:\")\n",
    "print(series_example)\n",
    "\n",
    "# DataFrame example\n",
    "data = {\"A\": [1, 2, 3], \"B\": [4, 5, 6]}\n",
    "df_example = pd.DataFrame(data)\n",
    "print(\"DataFrame example:\")\n",
    "print(df_example)\n"
   ]
  },
  {
   "cell_type": "code",
   "execution_count": 20,
   "id": "49be6728-4c34-44d7-a8fe-d2075402aa40",
   "metadata": {},
   "outputs": [
    {
     "name": "stdout",
     "output_type": "stream",
     "text": [
      "Q5. Describe DataFrame:\n",
      "             Age\n",
      "count   3.000000\n",
      "mean   27.333333\n",
      "std     2.516611\n",
      "min    25.000000\n",
      "25%    26.000000\n",
      "50%    27.000000\n",
      "75%    28.500000\n",
      "max    30.000000\n"
     ]
    }
   ],
   "source": [
    "# Q5.\n",
    "\n",
    "# Some common functions to manipulate data in a Pandas DataFrame include:\n",
    "\n",
    "# df.head(): Returns the first n rows of the DataFrame.\n",
    "# df.tail(): Returns the last n rows of the DataFrame.\n",
    "# df.describe(): Generates descriptive statistics.\n",
    "# df.info(): Provides a concise summary of the DataFrame.\n",
    "# df.drop(): Removes specified labels from rows or columns.\n",
    "# df.loc[]: Accesses a group of rows and columns by labels.\n",
    "# df.iloc[]: Accesses a group of rows and columns by integer position.\n",
    "# df.groupby(): Groups data by specified columns.\n",
    "# df.merge(): Merges DataFrames.\n",
    "\n",
    "# Example:\n",
    "\n",
    "# Using df.describe() to generate summary statistics:\n",
    "\n",
    "data = {\n",
    "    \"Name\": [\"Alice\", \"Bob\", \"Claire\"],\n",
    "    \"Age\": [25, 30, 27],\n",
    "    \"Gender\": [\"Female\", \"Male\", \"Female\"]\n",
    "}\n",
    "df = pd.DataFrame(data)\n",
    "print(\"Q5. Describe DataFrame:\")\n",
    "print(df.describe())"
   ]
  },
  {
   "cell_type": "markdown",
   "id": "0641f61e-2c7a-433c-ad00-5cc3bdbf75fe",
   "metadata": {},
   "source": [
    "## Q6.\n",
    "\n",
    "Both Series and DataFrame are mutable in nature. However, Panels are deprecated and no longer used in recent versions of pandas."
   ]
  },
  {
   "cell_type": "code",
   "execution_count": 21,
   "id": "25c88bf6-7305-4674-a06d-bcf3a4f2634c",
   "metadata": {},
   "outputs": [
    {
     "name": "stdout",
     "output_type": "stream",
     "text": [
      "Q7. DataFrame from Series:\n",
      "     Name  Age  Gender\n",
      "0   Alice   25  Female\n",
      "1     Bob   30    Male\n",
      "2  Claire   27  Female\n"
     ]
    }
   ],
   "source": [
    "# Q7.\n",
    "names = pd.Series([\"Alice\", \"Bob\", \"Claire\"])\n",
    "ages = pd.Series([25, 30, 27])\n",
    "genders = pd.Series([\"Female\", \"Male\", \"Female\"])\n",
    "\n",
    "df_from_series = pd.DataFrame({\n",
    "    \"Name\": names,\n",
    "    \"Age\": ages,\n",
    "    \"Gender\": genders\n",
    "})\n",
    "print(\"Q7. DataFrame from Series:\")\n",
    "print(df_from_series)"
   ]
  },
  {
   "cell_type": "code",
   "execution_count": null,
   "id": "042d0a0b-c80b-4e23-b6ae-faf7098798bb",
   "metadata": {},
   "outputs": [],
   "source": []
  }
 ],
 "metadata": {
  "kernelspec": {
   "display_name": "Python 3 (ipykernel)",
   "language": "python",
   "name": "python3"
  },
  "language_info": {
   "codemirror_mode": {
    "name": "ipython",
    "version": 3
   },
   "file_extension": ".py",
   "mimetype": "text/x-python",
   "name": "python",
   "nbconvert_exporter": "python",
   "pygments_lexer": "ipython3",
   "version": "3.10.8"
  }
 },
 "nbformat": 4,
 "nbformat_minor": 5
}
