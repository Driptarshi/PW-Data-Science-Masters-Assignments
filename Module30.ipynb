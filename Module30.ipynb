{
 "cells": [
  {
   "cell_type": "markdown",
   "id": "d98a5681-0aaf-47cf-b6d5-5de78fab3e57",
   "metadata": {},
   "source": [
    "## Q1. *GET and POST Methods*:\n",
    "   - *GET*: Used to request data from a server at a specified resource. GET requests can be cached and remain in the browser history. They should not be used for sensitive data because they are visible in the URL.\n",
    "   - *POST*: Used to send data to a server to create/update a resource. The data sent via POST is included in the body of the request, which makes it more secure for sending sensitive data. POST requests are not cached or stored in the browser history.\n"
   ]
  },
  {
   "cell_type": "markdown",
   "id": "302171bf-6fab-4227-a4a5-1dd4043fb1de",
   "metadata": {},
   "source": [
    "## Q2. *Why is request used in Flask?*\n",
    "   - The request object in Flask is used to access incoming request data, such as form data, query parameters, headers, and JSON payloads. It allows the application to retrieve information sent by the client and process it accordingly.\n"
   ]
  },
  {
   "cell_type": "markdown",
   "id": "c7f19266-1977-4850-847f-d9cfe5d76429",
   "metadata": {},
   "source": [
    "## Q3. *Why is redirect() used in Flask?*\n",
    "   - The redirect() function in Flask is used to redirect the user to a different endpoint or URL. This is useful for navigating users to different pages, handling post-login redirects, and guiding users after form submissions."
   ]
  },
  {
   "cell_type": "markdown",
   "id": "462e6336-fb0c-4583-a2dd-1a79b0743697",
   "metadata": {},
   "source": [
    "## Q4. *What are templates in Flask? Why is the render_template() function used?*\n",
    "   - *Templates*: Templates in Flask are HTML files that are used to separate the presentation layer from the application logic. They allow for dynamic content rendering.\n",
    "   - *render_template()*: The render_template() function is used to render these HTML templates. It takes the template file name and variables as arguments, which are then replaced with actual values in the template."
   ]
  },
  {
   "cell_type": "code",
   "execution_count": null,
   "id": "93aab0bc-6105-41a9-b3ee-835f5498d456",
   "metadata": {},
   "outputs": [],
   "source": [
    "## Q5. Create a simple API. Use Postman to test it. Attach the screenshot of the output in the Jupyter Notebook.\n",
    "\n",
    "# Here's a simple API using Flask:\n",
    "\n",
    "\n",
    "from flask import Flask, jsonify, request\n",
    "\n",
    "app = Flask(__name__)\n",
    "\n",
    "@app.route('/api/hello', methods=['GET'])\n",
    "def hello_world():\n",
    "    return jsonify(message=\"Hello, World!\")\n",
    "\n",
    "@app.route('/api/greet', methods=['POST'])\n",
    "def greet():\n",
    "    data = request.get_json()\n",
    "    name = data.get('name', 'Guest')\n",
    "    return jsonify(message=f\"Hello, {name}!\")\n",
    "\n",
    "if __name__ == '__main__':\n",
    "    app.run(debug=True)\n"
   ]
  },
  {
   "cell_type": "code",
   "execution_count": null,
   "id": "b4621e37-1a3b-426a-876e-cc7f68626b27",
   "metadata": {},
   "outputs": [],
   "source": []
  }
 ],
 "metadata": {
  "kernelspec": {
   "display_name": "Python 3 (ipykernel)",
   "language": "python",
   "name": "python3"
  },
  "language_info": {
   "codemirror_mode": {
    "name": "ipython",
    "version": 3
   },
   "file_extension": ".py",
   "mimetype": "text/x-python",
   "name": "python",
   "nbconvert_exporter": "python",
   "pygments_lexer": "ipython3",
   "version": "3.10.8"
  }
 },
 "nbformat": 4,
 "nbformat_minor": 5
}
