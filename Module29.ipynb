{
 "cells": [
  {
   "cell_type": "markdown",
   "id": "74ef5cd4-69eb-4882-ad5f-1a88b55c33dc",
   "metadata": {},
   "source": [
    "## Q1. What is Flask Framework? What are the advantages of Flask Framework?\n",
    "\n",
    "Flask is a lightweight web framework for Python. It is classified as a micro-framework because it does not require particular tools or libraries. It has no database abstraction layer, form validation, or other components where pre-existing third-party libraries provide common functions. Flask is designed to make getting started quick and easy, with the ability to scale up to complex applications.\n",
    "\n",
    "*Advantages of Flask Framework:*\n",
    "\n",
    "1. *Simplicity and Flexibility*: Flask is very simple to use, offering a flexible and modular design that allows developers to choose how they want to implement their applications.\n",
    "2. *Lightweight*: Flask has a small footprint and is easy to extend, making it ideal for smaller applications and microservices.\n",
    "3. *Minimalism*: With minimal boilerplate code, Flask applications are straightforward to write and maintain.\n",
    "4. *Extensible*: Flask is highly extensible and allows for the integration of any extensions needed to enhance functionality.\n",
    "5. *Good Documentation*: Flask has excellent documentation that helps developers understand and use the framework effectively.\n",
    "6. *Active Community*: Flask has a large and active community, which means plenty of third-party extensions, plugins, and libraries are available."
   ]
  },
  {
   "cell_type": "markdown",
   "id": "721c8c29-8c82-4726-b01a-a7cdd7b1e164",
   "metadata": {},
   "source": [
    "# Q2. Create a simple Flask application to display ‘Hello World!!’. Attach the screenshot of the output in Jupyter Notebook.\n",
    "\n",
    "# Here is a simple Flask application to display \"Hello World!!\":\n",
    "\n",
    "from flask import Flask\n",
    "\n",
    "app = Flask(__name__)\n",
    "\n",
    "@app.route('/')\n",
    "def hello_world():\n",
    "    return 'Hello World!!'\n",
    "\n",
    "if __name__ == '__main__':\n",
    "    app.run()\n"
   ]
  },
  {
   "cell_type": "markdown",
   "id": "b986552c-1b7c-4d76-80dd-1d40e2e6c51b",
   "metadata": {},
   "source": [
    "# Q3. What is App routing in Flask? Why do we use app routes?\n",
    "\n",
    "App routing in Flask refers to the mechanism of defining URL patterns that map to specific functions in your web application. This is done using the @app.route decorator.\n",
    "\n",
    "*Why do we use app routes?*\n",
    "\n",
    "1. *URL Management*: Routes define the URLs for the application, making it easier to manage and organize different parts of the application.\n",
    "2. *Function Mapping*: Routes map URLs to specific functions, allowing the application to respond with the appropriate content or logic.\n",
    "3. *Clean URLs*: Routes help create clean and readable URLs, enhancing the user experience.\n",
    "4. *Dynamic URLs*: They allow the creation of dynamic URLs that can include variables and parameters, providing flexibility in URL design.\n",
    "\n"
   ]
  },
  {
   "cell_type": "code",
   "execution_count": null,
   "id": "2dc08ca7-a4da-497d-b284-1fcbf17124f7",
   "metadata": {},
   "outputs": [],
   "source": [
    "# Q4. Create a “/welcome” route to display the welcome message “Welcome to ABC Corporation” and a “/” route to show the following details:\n",
    "\n",
    "\n",
    "from flask import Flask\n",
    "\n",
    "app = Flask(__name__)\n",
    "\n",
    "@app.route('/')\n",
    "def home():\n",
    "    return '''<h1>Company Name: ABC Corporation</h1>\n",
    "              <h2>Location: India</h2>\n",
    "              <h3>Contact Detail: 999-999-9999</h3>'''\n",
    "\n",
    "@app.route('/welcome')\n",
    "def welcome():\n",
    "    return '<h1>Welcome to ABC Corporation</h1>'\n",
    "\n",
    "if __name__ == '__main__':\n",
    "    app.run()\n",
    "\n"
   ]
  },
  {
   "cell_type": "code",
   "execution_count": null,
   "id": "eda799e0-e507-41cf-ac33-10857526aae4",
   "metadata": {},
   "outputs": [],
   "source": [
    "# Q5. What function is used in Flask for URL Building? Write a Python code to demonstrate the working of the url_for() function.\n",
    "\n",
    "The url_for() function in Flask is used for URL building. It generates URLs for the endpoints defined in the application, allowing for dynamic URL generation and avoiding hardcoding URLs.\n",
    "\n",
    "\n",
    "\n",
    "from flask import Flask, url_for\n",
    "\n",
    "app = Flask(__name__)\n",
    "\n",
    "@app.route('/')\n",
    "def home():\n",
    "    return '<h1>Home Page</h1>'\n",
    "\n",
    "@app.route('/about')\n",
    "def about():\n",
    "    return '<h1>About Page</h1>'\n",
    "\n",
    "@app.route('/contact')\n",
    "def contact():\n",
    "    return '<h1>Contact Page</h1>'\n",
    "\n",
    "@app.route('/links')\n",
    "def links():\n",
    "    home_url = url_for('home')\n",
    "    about_url = url_for('about')\n",
    "    contact_url = url_for('contact')\n",
    "    return f'<a href=\"{home_url}\">Home</a><br>' \\\n",
    "           f'<a href=\"{about_url}\">About</a><br>' \\\n",
    "           f'<a href=\"{contact_url}\">Contact</a>'\n",
    "\n",
    "if __name__ == '__main__':\n",
    "    app.run()\n",
    "\n",
    "\n"
   ]
  },
  {
   "cell_type": "code",
   "execution_count": null,
   "id": "6e74f074-af3d-4304-845a-7a41999426d2",
   "metadata": {},
   "outputs": [],
   "source": []
  }
 ],
 "metadata": {
  "kernelspec": {
   "display_name": "Python 3 (ipykernel)",
   "language": "python",
   "name": "python3"
  },
  "language_info": {
   "codemirror_mode": {
    "name": "ipython",
    "version": 3
   },
   "file_extension": ".py",
   "mimetype": "text/x-python",
   "name": "python",
   "nbconvert_exporter": "python",
   "pygments_lexer": "ipython3",
   "version": "3.10.8"
  }
 },
 "nbformat": 4,
 "nbformat_minor": 5
}
