{
 "cells": [
  {
   "cell_type": "markdown",
   "id": "f2eb3288-b5a6-44b9-8171-b37b7163d5b5",
   "metadata": {},
   "source": [
    "## Q1.\n",
    "Guido van Rossum developed the Python programming language.\n",
    "## Q2.\n",
    "Python supports object-oriented, procedural, and functional programming.\n",
    "## Q3.\n",
    "Yes, Python is case sensitive when dealing with identifiers.\n",
    "## Q4.\n",
    "The correct extension of a Python file is .py.\n",
    "## Q5.\n",
    "Python code is interpreted.\n",
    "## Q6.\n",
    "Functions, classes, loops, and conditionals are blocks of code used in Python.\n",
    "## Q7.\n",
    "The # character is used to give single-line comments in Python.\n",
    "## Q8.\n",
    "Functions like sys.version and platform.python_version() help find the Python version.\n",
    "## Q9.\n",
    "Python supports anonymous functions using a construct called lambda.\n",
    "## Q10.\n",
    "pip stands for \"Pip Installs Packages\".\n",
    "## Q11.\n",
    "Built-in functions in Python include print(), len(), type(), range(), and str().\n",
    "## Q12.\n",
    "The maximum possible length of an identifier in Python is 79 characters.\n",
    "## Q13.\n",
    "Benefits of using Python include readability, simplicity, and a large standard library.\n",
    "## Q14.\n",
    "Memory is managed in Python using automatic garbage collection.\n",
    "## Q15.\n",
    "To install Python on Windows, download the installer from python.org and run it, then set path variables through the installation options or manually in system settings.\n",
    "## Q16.\n",
    "Yes, indentation is required in Python to define the scope of loops, functions, and classes."
   ]
  },
  {
   "cell_type": "code",
   "execution_count": null,
   "id": "2f5919db-43b7-4df9-841e-52312c52d403",
   "metadata": {},
   "outputs": [],
   "source": []
  }
 ],
 "metadata": {
  "kernelspec": {
   "display_name": "Python 3 (ipykernel)",
   "language": "python",
   "name": "python3"
  },
  "language_info": {
   "codemirror_mode": {
    "name": "ipython",
    "version": 3
   },
   "file_extension": ".py",
   "mimetype": "text/x-python",
   "name": "python",
   "nbconvert_exporter": "python",
   "pygments_lexer": "ipython3",
   "version": "3.10.8"
  }
 },
 "nbformat": 4,
 "nbformat_minor": 5
}
